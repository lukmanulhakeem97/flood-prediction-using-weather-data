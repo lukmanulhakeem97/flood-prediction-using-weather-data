{
 "cells": [
  {
   "cell_type": "markdown",
   "metadata": {},
   "source": [
    "# District: Alappuzha"
   ]
  },
  {
   "cell_type": "code",
   "execution_count": 1,
   "metadata": {},
   "outputs": [],
   "source": [
    "import numpy as np\n",
    "import pandas as pd\n",
    "import seaborn as sb\n",
    "import matplotlib.pyplot as plt"
   ]
  },
  {
   "cell_type": "code",
   "execution_count": 2,
   "metadata": {},
   "outputs": [],
   "source": [
    "flood_days = pd.read_csv('Kerala-data/warnings_actual_predicted.csv')"
   ]
  },
  {
   "cell_type": "code",
   "execution_count": 5,
   "metadata": {
    "collapsed": true
   },
   "outputs": [
    {
     "data": {
      "text/html": [
       "<div>\n",
       "<style scoped>\n",
       "    .dataframe tbody tr th:only-of-type {\n",
       "        vertical-align: middle;\n",
       "    }\n",
       "\n",
       "    .dataframe tbody tr th {\n",
       "        vertical-align: top;\n",
       "    }\n",
       "\n",
       "    .dataframe thead th {\n",
       "        text-align: right;\n",
       "    }\n",
       "</style>\n",
       "<table border=\"1\" class=\"dataframe\">\n",
       "  <thead>\n",
       "    <tr style=\"text-align: right;\">\n",
       "      <th></th>\n",
       "      <th>district</th>\n",
       "      <th>date</th>\n",
       "      <th>actual_rainfall</th>\n",
       "      <th>predicted_rainfall</th>\n",
       "    </tr>\n",
       "  </thead>\n",
       "  <tbody>\n",
       "    <tr>\n",
       "      <th>0</th>\n",
       "      <td>Alappuzha</td>\n",
       "      <td>8/10/2018</td>\n",
       "      <td>Green</td>\n",
       "      <td>Yellow</td>\n",
       "    </tr>\n",
       "    <tr>\n",
       "      <th>1</th>\n",
       "      <td>Alappuzha</td>\n",
       "      <td>8/11/2018</td>\n",
       "      <td>Green</td>\n",
       "      <td>Red</td>\n",
       "    </tr>\n",
       "    <tr>\n",
       "      <th>2</th>\n",
       "      <td>Alappuzha</td>\n",
       "      <td>8/12/2018</td>\n",
       "      <td>Green</td>\n",
       "      <td>Red</td>\n",
       "    </tr>\n",
       "    <tr>\n",
       "      <th>3</th>\n",
       "      <td>Alappuzha</td>\n",
       "      <td>8/13/2018</td>\n",
       "      <td>Green</td>\n",
       "      <td>Orange</td>\n",
       "    </tr>\n",
       "    <tr>\n",
       "      <th>4</th>\n",
       "      <td>Alappuzha</td>\n",
       "      <td>8/14/2018</td>\n",
       "      <td>Green</td>\n",
       "      <td>Orange</td>\n",
       "    </tr>\n",
       "    <tr>\n",
       "      <th>5</th>\n",
       "      <td>Alappuzha</td>\n",
       "      <td>8/15/2018</td>\n",
       "      <td>Red</td>\n",
       "      <td>Orange</td>\n",
       "    </tr>\n",
       "    <tr>\n",
       "      <th>6</th>\n",
       "      <td>Alappuzha</td>\n",
       "      <td>8/16/2018</td>\n",
       "      <td>Red</td>\n",
       "      <td>Orange</td>\n",
       "    </tr>\n",
       "    <tr>\n",
       "      <th>7</th>\n",
       "      <td>Alappuzha</td>\n",
       "      <td>8/17/2018</td>\n",
       "      <td>Yellow</td>\n",
       "      <td>Orange</td>\n",
       "    </tr>\n",
       "    <tr>\n",
       "      <th>8</th>\n",
       "      <td>Alappuzha</td>\n",
       "      <td>8/18/2018</td>\n",
       "      <td>Green</td>\n",
       "      <td>Yellow</td>\n",
       "    </tr>\n",
       "    <tr>\n",
       "      <th>9</th>\n",
       "      <td>Alappuzha</td>\n",
       "      <td>8/19/2018</td>\n",
       "      <td>Green</td>\n",
       "      <td>Yellow</td>\n",
       "    </tr>\n",
       "    <tr>\n",
       "      <th>10</th>\n",
       "      <td>Alappuzha</td>\n",
       "      <td>8/20/2018</td>\n",
       "      <td>Green</td>\n",
       "      <td>Green</td>\n",
       "    </tr>\n",
       "    <tr>\n",
       "      <th>11</th>\n",
       "      <td>Alappuzha</td>\n",
       "      <td>8/21/2018</td>\n",
       "      <td>Green</td>\n",
       "      <td>Green</td>\n",
       "    </tr>\n",
       "    <tr>\n",
       "      <th>12</th>\n",
       "      <td>Alappuzha</td>\n",
       "      <td>8/22/2018</td>\n",
       "      <td>Green</td>\n",
       "      <td>Green</td>\n",
       "    </tr>\n",
       "    <tr>\n",
       "      <th>13</th>\n",
       "      <td>Alappuzha</td>\n",
       "      <td>8/8/2018</td>\n",
       "      <td>Yellow</td>\n",
       "      <td>Orange</td>\n",
       "    </tr>\n",
       "    <tr>\n",
       "      <th>14</th>\n",
       "      <td>Alappuzha</td>\n",
       "      <td>8/9/2018</td>\n",
       "      <td>Yellow</td>\n",
       "      <td>Yellow</td>\n",
       "    </tr>\n",
       "    <tr>\n",
       "      <th>15</th>\n",
       "      <td>Ernakulam</td>\n",
       "      <td>8/10/2018</td>\n",
       "      <td>Green</td>\n",
       "      <td>Yellow</td>\n",
       "    </tr>\n",
       "    <tr>\n",
       "      <th>16</th>\n",
       "      <td>Ernakulam</td>\n",
       "      <td>8/11/2018</td>\n",
       "      <td>Green</td>\n",
       "      <td>Red</td>\n",
       "    </tr>\n",
       "    <tr>\n",
       "      <th>17</th>\n",
       "      <td>Ernakulam</td>\n",
       "      <td>8/12/2018</td>\n",
       "      <td>Green</td>\n",
       "      <td>Red</td>\n",
       "    </tr>\n",
       "    <tr>\n",
       "      <th>18</th>\n",
       "      <td>Ernakulam</td>\n",
       "      <td>8/13/2018</td>\n",
       "      <td>Yellow</td>\n",
       "      <td>Orange</td>\n",
       "    </tr>\n",
       "    <tr>\n",
       "      <th>19</th>\n",
       "      <td>Ernakulam</td>\n",
       "      <td>8/14/2018</td>\n",
       "      <td>Green</td>\n",
       "      <td>Orange</td>\n",
       "    </tr>\n",
       "    <tr>\n",
       "      <th>20</th>\n",
       "      <td>Ernakulam</td>\n",
       "      <td>8/15/2018</td>\n",
       "      <td>Red</td>\n",
       "      <td>Orange</td>\n",
       "    </tr>\n",
       "    <tr>\n",
       "      <th>21</th>\n",
       "      <td>Ernakulam</td>\n",
       "      <td>8/16/2018</td>\n",
       "      <td>Red</td>\n",
       "      <td>Red</td>\n",
       "    </tr>\n",
       "    <tr>\n",
       "      <th>22</th>\n",
       "      <td>Ernakulam</td>\n",
       "      <td>8/17/2018</td>\n",
       "      <td>Orange</td>\n",
       "      <td>Red</td>\n",
       "    </tr>\n",
       "    <tr>\n",
       "      <th>23</th>\n",
       "      <td>Ernakulam</td>\n",
       "      <td>8/18/2018</td>\n",
       "      <td>Green</td>\n",
       "      <td>Red</td>\n",
       "    </tr>\n",
       "    <tr>\n",
       "      <th>24</th>\n",
       "      <td>Ernakulam</td>\n",
       "      <td>8/19/2018</td>\n",
       "      <td>Green</td>\n",
       "      <td>Yellow</td>\n",
       "    </tr>\n",
       "    <tr>\n",
       "      <th>25</th>\n",
       "      <td>Ernakulam</td>\n",
       "      <td>8/20/2018</td>\n",
       "      <td>Green</td>\n",
       "      <td>Green</td>\n",
       "    </tr>\n",
       "    <tr>\n",
       "      <th>26</th>\n",
       "      <td>Ernakulam</td>\n",
       "      <td>8/21/2018</td>\n",
       "      <td>Green</td>\n",
       "      <td>Green</td>\n",
       "    </tr>\n",
       "    <tr>\n",
       "      <th>27</th>\n",
       "      <td>Ernakulam</td>\n",
       "      <td>8/22/2018</td>\n",
       "      <td>Green</td>\n",
       "      <td>Green</td>\n",
       "    </tr>\n",
       "    <tr>\n",
       "      <th>28</th>\n",
       "      <td>Ernakulam</td>\n",
       "      <td>8/8/2018</td>\n",
       "      <td>Yellow</td>\n",
       "      <td>Orange</td>\n",
       "    </tr>\n",
       "    <tr>\n",
       "      <th>29</th>\n",
       "      <td>Ernakulam</td>\n",
       "      <td>8/9/2018</td>\n",
       "      <td>Yellow</td>\n",
       "      <td>Yellow</td>\n",
       "    </tr>\n",
       "  </tbody>\n",
       "</table>\n",
       "</div>"
      ],
      "text/plain": [
       "     district       date actual_rainfall predicted_rainfall\n",
       "0   Alappuzha  8/10/2018           Green             Yellow\n",
       "1   Alappuzha  8/11/2018           Green                Red\n",
       "2   Alappuzha  8/12/2018           Green                Red\n",
       "3   Alappuzha  8/13/2018           Green             Orange\n",
       "4   Alappuzha  8/14/2018           Green             Orange\n",
       "5   Alappuzha  8/15/2018             Red             Orange\n",
       "6   Alappuzha  8/16/2018             Red             Orange\n",
       "7   Alappuzha  8/17/2018          Yellow             Orange\n",
       "8   Alappuzha  8/18/2018           Green             Yellow\n",
       "9   Alappuzha  8/19/2018           Green             Yellow\n",
       "10  Alappuzha  8/20/2018           Green              Green\n",
       "11  Alappuzha  8/21/2018           Green              Green\n",
       "12  Alappuzha  8/22/2018           Green              Green\n",
       "13  Alappuzha   8/8/2018          Yellow             Orange\n",
       "14  Alappuzha   8/9/2018          Yellow             Yellow\n",
       "15  Ernakulam  8/10/2018           Green             Yellow\n",
       "16  Ernakulam  8/11/2018           Green                Red\n",
       "17  Ernakulam  8/12/2018           Green                Red\n",
       "18  Ernakulam  8/13/2018          Yellow             Orange\n",
       "19  Ernakulam  8/14/2018           Green             Orange\n",
       "20  Ernakulam  8/15/2018             Red             Orange\n",
       "21  Ernakulam  8/16/2018             Red                Red\n",
       "22  Ernakulam  8/17/2018          Orange                Red\n",
       "23  Ernakulam  8/18/2018           Green                Red\n",
       "24  Ernakulam  8/19/2018           Green             Yellow\n",
       "25  Ernakulam  8/20/2018           Green              Green\n",
       "26  Ernakulam  8/21/2018           Green              Green\n",
       "27  Ernakulam  8/22/2018           Green              Green\n",
       "28  Ernakulam   8/8/2018          Yellow             Orange\n",
       "29  Ernakulam   8/9/2018          Yellow             Yellow"
      ]
     },
     "execution_count": 5,
     "metadata": {},
     "output_type": "execute_result"
    }
   ],
   "source": [
    "flood_days[:30]"
   ]
  },
  {
   "cell_type": "code",
   "execution_count": 6,
   "metadata": {},
   "outputs": [
    {
     "data": {
      "text/plain": [
       "(210, 4)"
      ]
     },
     "execution_count": 6,
     "metadata": {},
     "output_type": "execute_result"
    }
   ],
   "source": [
    "flood_days.shape"
   ]
  },
  {
   "cell_type": "code",
   "execution_count": 3,
   "metadata": {},
   "outputs": [
    {
     "data": {
      "text/html": [
       "<div>\n",
       "<style scoped>\n",
       "    .dataframe tbody tr th:only-of-type {\n",
       "        vertical-align: middle;\n",
       "    }\n",
       "\n",
       "    .dataframe tbody tr th {\n",
       "        vertical-align: top;\n",
       "    }\n",
       "\n",
       "    .dataframe thead th {\n",
       "        text-align: right;\n",
       "    }\n",
       "</style>\n",
       "<table border=\"1\" class=\"dataframe\">\n",
       "  <thead>\n",
       "    <tr style=\"text-align: right;\">\n",
       "      <th></th>\n",
       "      <th>district</th>\n",
       "      <th>date</th>\n",
       "      <th>actual_rainfall</th>\n",
       "      <th>predicted_rainfall</th>\n",
       "    </tr>\n",
       "  </thead>\n",
       "  <tbody>\n",
       "    <tr>\n",
       "      <th>5</th>\n",
       "      <td>Alappuzha</td>\n",
       "      <td>8/15/2018</td>\n",
       "      <td>Red</td>\n",
       "      <td>Orange</td>\n",
       "    </tr>\n",
       "    <tr>\n",
       "      <th>6</th>\n",
       "      <td>Alappuzha</td>\n",
       "      <td>8/16/2018</td>\n",
       "      <td>Red</td>\n",
       "      <td>Orange</td>\n",
       "    </tr>\n",
       "  </tbody>\n",
       "</table>\n",
       "</div>"
      ],
      "text/plain": [
       "    district       date actual_rainfall predicted_rainfall\n",
       "5  Alappuzha  8/15/2018             Red             Orange\n",
       "6  Alappuzha  8/16/2018             Red             Orange"
      ]
     },
     "execution_count": 3,
     "metadata": {},
     "output_type": "execute_result"
    }
   ],
   "source": [
    "flood_days.loc[(flood_days['district']=='Alappuzha') & (flood_days['actual_rainfall']=='Red'), :]"
   ]
  },
  {
   "cell_type": "code",
   "execution_count": 3,
   "metadata": {},
   "outputs": [
    {
     "data": {
      "text/html": [
       "<div>\n",
       "<style scoped>\n",
       "    .dataframe tbody tr th:only-of-type {\n",
       "        vertical-align: middle;\n",
       "    }\n",
       "\n",
       "    .dataframe tbody tr th {\n",
       "        vertical-align: top;\n",
       "    }\n",
       "\n",
       "    .dataframe thead th {\n",
       "        text-align: right;\n",
       "    }\n",
       "</style>\n",
       "<table border=\"1\" class=\"dataframe\">\n",
       "  <thead>\n",
       "    <tr style=\"text-align: right;\">\n",
       "      <th></th>\n",
       "      <th>time</th>\n",
       "      <th>temperature_2m_max (°C)</th>\n",
       "      <th>temperature_2m_min (°C)</th>\n",
       "      <th>sunrise (iso8601)</th>\n",
       "      <th>sunset (iso8601)</th>\n",
       "      <th>precipitation_sum (mm)</th>\n",
       "      <th>rain_sum (mm)</th>\n",
       "      <th>snowfall_sum (cm)</th>\n",
       "      <th>precipitation_hours (h)</th>\n",
       "      <th>windspeed_10m_max (km/h)</th>\n",
       "      <th>windgusts_10m_max (km/h)</th>\n",
       "    </tr>\n",
       "  </thead>\n",
       "  <tbody>\n",
       "    <tr>\n",
       "      <th>0</th>\n",
       "      <td>01-01-1940</td>\n",
       "      <td>NaN</td>\n",
       "      <td>NaN</td>\n",
       "      <td>1940-01-01T06:39</td>\n",
       "      <td>1940-01-01T18:16</td>\n",
       "      <td>NaN</td>\n",
       "      <td>NaN</td>\n",
       "      <td>NaN</td>\n",
       "      <td>1</td>\n",
       "      <td>NaN</td>\n",
       "      <td>NaN</td>\n",
       "    </tr>\n",
       "    <tr>\n",
       "      <th>1</th>\n",
       "      <td>02-01-1940</td>\n",
       "      <td>30.7</td>\n",
       "      <td>19.0</td>\n",
       "      <td>1940-01-02T06:39</td>\n",
       "      <td>1940-01-02T18:17</td>\n",
       "      <td>0.0</td>\n",
       "      <td>0.0</td>\n",
       "      <td>0.0</td>\n",
       "      <td>0</td>\n",
       "      <td>13.0</td>\n",
       "      <td>30.2</td>\n",
       "    </tr>\n",
       "    <tr>\n",
       "      <th>2</th>\n",
       "      <td>03-01-1940</td>\n",
       "      <td>30.8</td>\n",
       "      <td>20.5</td>\n",
       "      <td>1940-01-03T06:40</td>\n",
       "      <td>1940-01-03T18:17</td>\n",
       "      <td>0.0</td>\n",
       "      <td>0.0</td>\n",
       "      <td>0.0</td>\n",
       "      <td>0</td>\n",
       "      <td>13.0</td>\n",
       "      <td>30.6</td>\n",
       "    </tr>\n",
       "    <tr>\n",
       "      <th>3</th>\n",
       "      <td>04-01-1940</td>\n",
       "      <td>30.8</td>\n",
       "      <td>20.6</td>\n",
       "      <td>1940-01-04T06:40</td>\n",
       "      <td>1940-01-04T18:18</td>\n",
       "      <td>0.2</td>\n",
       "      <td>0.2</td>\n",
       "      <td>0.0</td>\n",
       "      <td>2</td>\n",
       "      <td>13.0</td>\n",
       "      <td>30.6</td>\n",
       "    </tr>\n",
       "    <tr>\n",
       "      <th>4</th>\n",
       "      <td>05-01-1940</td>\n",
       "      <td>30.5</td>\n",
       "      <td>19.7</td>\n",
       "      <td>1940-01-05T06:40</td>\n",
       "      <td>1940-01-05T18:18</td>\n",
       "      <td>0.0</td>\n",
       "      <td>0.0</td>\n",
       "      <td>0.0</td>\n",
       "      <td>0</td>\n",
       "      <td>11.9</td>\n",
       "      <td>27.0</td>\n",
       "    </tr>\n",
       "    <tr>\n",
       "      <th>...</th>\n",
       "      <td>...</td>\n",
       "      <td>...</td>\n",
       "      <td>...</td>\n",
       "      <td>...</td>\n",
       "      <td>...</td>\n",
       "      <td>...</td>\n",
       "      <td>...</td>\n",
       "      <td>...</td>\n",
       "      <td>...</td>\n",
       "      <td>...</td>\n",
       "      <td>...</td>\n",
       "    </tr>\n",
       "    <tr>\n",
       "      <th>30392</th>\n",
       "      <td>18-03-2023</td>\n",
       "      <td>31.4</td>\n",
       "      <td>24.6</td>\n",
       "      <td>2023-03-18T06:29</td>\n",
       "      <td>2023-03-18T18:36</td>\n",
       "      <td>8.5</td>\n",
       "      <td>8.5</td>\n",
       "      <td>0.0</td>\n",
       "      <td>11</td>\n",
       "      <td>9.2</td>\n",
       "      <td>29.5</td>\n",
       "    </tr>\n",
       "    <tr>\n",
       "      <th>30393</th>\n",
       "      <td>19-03-2023</td>\n",
       "      <td>29.9</td>\n",
       "      <td>24.2</td>\n",
       "      <td>2023-03-19T06:28</td>\n",
       "      <td>2023-03-19T18:36</td>\n",
       "      <td>8.4</td>\n",
       "      <td>8.4</td>\n",
       "      <td>0.0</td>\n",
       "      <td>17</td>\n",
       "      <td>10.3</td>\n",
       "      <td>25.9</td>\n",
       "    </tr>\n",
       "    <tr>\n",
       "      <th>30394</th>\n",
       "      <td>20-03-2023</td>\n",
       "      <td>30.9</td>\n",
       "      <td>24.5</td>\n",
       "      <td>2023-03-20T06:27</td>\n",
       "      <td>2023-03-20T18:36</td>\n",
       "      <td>4.7</td>\n",
       "      <td>4.7</td>\n",
       "      <td>0.0</td>\n",
       "      <td>17</td>\n",
       "      <td>14.8</td>\n",
       "      <td>36.4</td>\n",
       "    </tr>\n",
       "    <tr>\n",
       "      <th>30395</th>\n",
       "      <td>21-03-2023</td>\n",
       "      <td>32.6</td>\n",
       "      <td>25.3</td>\n",
       "      <td>2023-03-21T06:27</td>\n",
       "      <td>2023-03-21T18:36</td>\n",
       "      <td>0.0</td>\n",
       "      <td>0.0</td>\n",
       "      <td>0.0</td>\n",
       "      <td>0</td>\n",
       "      <td>15.5</td>\n",
       "      <td>35.6</td>\n",
       "    </tr>\n",
       "    <tr>\n",
       "      <th>30396</th>\n",
       "      <td>22-03-2023</td>\n",
       "      <td>32.5</td>\n",
       "      <td>25.4</td>\n",
       "      <td>2023-03-22T06:26</td>\n",
       "      <td>2023-03-22T18:36</td>\n",
       "      <td>0.0</td>\n",
       "      <td>0.0</td>\n",
       "      <td>0.0</td>\n",
       "      <td>0</td>\n",
       "      <td>13.9</td>\n",
       "      <td>33.1</td>\n",
       "    </tr>\n",
       "  </tbody>\n",
       "</table>\n",
       "<p>30397 rows × 11 columns</p>\n",
       "</div>"
      ],
      "text/plain": [
       "             time  temperature_2m_max (°C)  temperature_2m_min (°C)  \\\n",
       "0      01-01-1940                      NaN                      NaN   \n",
       "1      02-01-1940                     30.7                     19.0   \n",
       "2      03-01-1940                     30.8                     20.5   \n",
       "3      04-01-1940                     30.8                     20.6   \n",
       "4      05-01-1940                     30.5                     19.7   \n",
       "...           ...                      ...                      ...   \n",
       "30392  18-03-2023                     31.4                     24.6   \n",
       "30393  19-03-2023                     29.9                     24.2   \n",
       "30394  20-03-2023                     30.9                     24.5   \n",
       "30395  21-03-2023                     32.6                     25.3   \n",
       "30396  22-03-2023                     32.5                     25.4   \n",
       "\n",
       "      sunrise (iso8601)  sunset (iso8601)  precipitation_sum (mm)  \\\n",
       "0      1940-01-01T06:39  1940-01-01T18:16                     NaN   \n",
       "1      1940-01-02T06:39  1940-01-02T18:17                     0.0   \n",
       "2      1940-01-03T06:40  1940-01-03T18:17                     0.0   \n",
       "3      1940-01-04T06:40  1940-01-04T18:18                     0.2   \n",
       "4      1940-01-05T06:40  1940-01-05T18:18                     0.0   \n",
       "...                 ...               ...                     ...   \n",
       "30392  2023-03-18T06:29  2023-03-18T18:36                     8.5   \n",
       "30393  2023-03-19T06:28  2023-03-19T18:36                     8.4   \n",
       "30394  2023-03-20T06:27  2023-03-20T18:36                     4.7   \n",
       "30395  2023-03-21T06:27  2023-03-21T18:36                     0.0   \n",
       "30396  2023-03-22T06:26  2023-03-22T18:36                     0.0   \n",
       "\n",
       "       rain_sum (mm)  snowfall_sum (cm)  precipitation_hours (h)  \\\n",
       "0                NaN                NaN                        1   \n",
       "1                0.0                0.0                        0   \n",
       "2                0.0                0.0                        0   \n",
       "3                0.2                0.0                        2   \n",
       "4                0.0                0.0                        0   \n",
       "...              ...                ...                      ...   \n",
       "30392            8.5                0.0                       11   \n",
       "30393            8.4                0.0                       17   \n",
       "30394            4.7                0.0                       17   \n",
       "30395            0.0                0.0                        0   \n",
       "30396            0.0                0.0                        0   \n",
       "\n",
       "       windspeed_10m_max (km/h)  windgusts_10m_max (km/h)  \n",
       "0                           NaN                       NaN  \n",
       "1                          13.0                      30.2  \n",
       "2                          13.0                      30.6  \n",
       "3                          13.0                      30.6  \n",
       "4                          11.9                      27.0  \n",
       "...                         ...                       ...  \n",
       "30392                       9.2                      29.5  \n",
       "30393                      10.3                      25.9  \n",
       "30394                      14.8                      36.4  \n",
       "30395                      15.5                      35.6  \n",
       "30396                      13.9                      33.1  \n",
       "\n",
       "[30397 rows x 11 columns]"
      ]
     },
     "execution_count": 3,
     "metadata": {},
     "output_type": "execute_result"
    }
   ],
   "source": [
    "data_weather = pd.read_csv('Kerala-data/Alappuzha.csv')\n",
    "data_weather"
   ]
  },
  {
   "cell_type": "code",
   "execution_count": 4,
   "metadata": {},
   "outputs": [
    {
     "data": {
      "text/plain": [
       "Index(['time', 'temperature_2m_max (°C)', 'temperature_2m_min (°C)',\n",
       "       'sunrise (iso8601)', 'sunset (iso8601)', 'precipitation_sum (mm)',\n",
       "       'rain_sum (mm)', 'snowfall_sum (cm)', 'precipitation_hours (h)',\n",
       "       'windspeed_10m_max (km/h)', 'windgusts_10m_max (km/h)'],\n",
       "      dtype='object')"
      ]
     },
     "execution_count": 4,
     "metadata": {},
     "output_type": "execute_result"
    }
   ],
   "source": [
    "data_weather.columns"
   ]
  },
  {
   "cell_type": "code",
   "execution_count": 5,
   "metadata": {
    "scrolled": false
   },
   "outputs": [
    {
     "name": "stdout",
     "output_type": "stream",
     "text": [
      "<class 'pandas.core.frame.DataFrame'>\n",
      "RangeIndex: 30397 entries, 0 to 30396\n",
      "Data columns (total 11 columns):\n",
      " #   Column                    Non-Null Count  Dtype  \n",
      "---  ------                    --------------  -----  \n",
      " 0   time                      30397 non-null  object \n",
      " 1   temperature_2m_max (°C)   30396 non-null  float64\n",
      " 2   temperature_2m_min (°C)   30396 non-null  float64\n",
      " 3   sunrise (iso8601)         30397 non-null  object \n",
      " 4   sunset (iso8601)          30397 non-null  object \n",
      " 5   precipitation_sum (mm)    30396 non-null  float64\n",
      " 6   rain_sum (mm)             30396 non-null  float64\n",
      " 7   snowfall_sum (cm)         30396 non-null  float64\n",
      " 8   precipitation_hours (h)   30397 non-null  int64  \n",
      " 9   windspeed_10m_max (km/h)  30396 non-null  float64\n",
      " 10  windgusts_10m_max (km/h)  30396 non-null  float64\n",
      "dtypes: float64(7), int64(1), object(3)\n",
      "memory usage: 2.6+ MB\n"
     ]
    }
   ],
   "source": [
    "data_weather.info()"
   ]
  },
  {
   "cell_type": "code",
   "execution_count": 4,
   "metadata": {},
   "outputs": [],
   "source": [
    "data_weather.drop(index=0, axis=0, inplace=True)"
   ]
  },
  {
   "cell_type": "markdown",
   "metadata": {},
   "source": [
    "## Labelling as 1 for flood, 0 for not flood and -1 for unknown"
   ]
  },
  {
   "cell_type": "code",
   "execution_count": 5,
   "metadata": {},
   "outputs": [],
   "source": [
    "data_weather['Label'] = -1"
   ]
  },
  {
   "cell_type": "code",
   "execution_count": 6,
   "metadata": {},
   "outputs": [],
   "source": [
    "data_weather.loc[data_weather['time'] == '15-08-2018', 'Label'] = 1"
   ]
  },
  {
   "cell_type": "code",
   "execution_count": 7,
   "metadata": {},
   "outputs": [],
   "source": [
    "data_weather.loc[data_weather['time'] == '16-08-2018', 'Label'] = 1"
   ]
  },
  {
   "cell_type": "code",
   "execution_count": 7,
   "metadata": {
    "scrolled": true
   },
   "outputs": [
    {
     "data": {
      "text/plain": [
       "29"
      ]
     },
     "execution_count": 7,
     "metadata": {},
     "output_type": "execute_result"
    }
   ],
   "source": [
    "len(data_weather.loc[data_weather['precipitation_sum (mm)'] >= 100])"
   ]
  },
  {
   "cell_type": "code",
   "execution_count": 8,
   "metadata": {},
   "outputs": [],
   "source": [
    "data_weather.loc[data_weather['time'] == '06-08-2013', 'Label'] = 1"
   ]
  },
  {
   "cell_type": "code",
   "execution_count": 9,
   "metadata": {},
   "outputs": [],
   "source": [
    "data_weather['time_in_format'] = pd.to_datetime(data_weather['time'], dayfirst=True)"
   ]
  },
  {
   "cell_type": "code",
   "execution_count": 10,
   "metadata": {},
   "outputs": [],
   "source": [
    "#Alapp_weather['time_format'][1]==pd.Timestamp('1940-01-02 00:00:00')"
   ]
  },
  {
   "cell_type": "code",
   "execution_count": 11,
   "metadata": {},
   "outputs": [],
   "source": [
    "data_weather.loc[(data_weather['time_in_format'] >= pd.Timestamp('2018-08-08 00:00:00')) & \n",
    "                  (data_weather['time_in_format'] <= pd.Timestamp('2018-08-22 00:00:00')), 'Label'] = 1"
   ]
  },
  {
   "cell_type": "code",
   "execution_count": 12,
   "metadata": {},
   "outputs": [],
   "source": [
    "#data_weather.loc[(data_weather['time_in_format'] >= pd.Timestamp('1961-06-01 00:00:00')) & \n",
    "#                  (Alapp_weather['time_format'] <= pd.Timestamp('1961-09-30 00:00:00')), 'time'] =  "
   ]
  },
  {
   "cell_type": "code",
   "execution_count": 13,
   "metadata": {},
   "outputs": [],
   "source": [
    "#Alapp_weather.loc[(Alapp_weather['time_format'] >= pd.Timestamp('2005-06-01 00:00:00')) & \n",
    "#                  (Alapp_weather['time_format'] <= pd.Timestamp('2005-09-30 00:00:00'))]"
   ]
  },
  {
   "cell_type": "code",
   "execution_count": 13,
   "metadata": {},
   "outputs": [
    {
     "data": {
      "text/plain": [
       "time                        0\n",
       "temperature_2m_max (°C)     0\n",
       "temperature_2m_min (°C)     0\n",
       "sunrise (iso8601)           0\n",
       "sunset (iso8601)            0\n",
       "precipitation_sum (mm)      0\n",
       "rain_sum (mm)               0\n",
       "snowfall_sum (cm)           0\n",
       "precipitation_hours (h)     0\n",
       "windspeed_10m_max (km/h)    0\n",
       "windgusts_10m_max (km/h)    0\n",
       "Label                       0\n",
       "time_in_format              0\n",
       "dtype: int64"
      ]
     },
     "execution_count": 13,
     "metadata": {},
     "output_type": "execute_result"
    }
   ],
   "source": [
    "data_weather.isna().sum()"
   ]
  },
  {
   "cell_type": "markdown",
   "metadata": {},
   "source": [
    "## Creating features out of date"
   ]
  },
  {
   "cell_type": "code",
   "execution_count": 14,
   "metadata": {},
   "outputs": [],
   "source": [
    "data_weather['time_temp'] = data_weather.time.str.split('-')"
   ]
  },
  {
   "cell_type": "code",
   "execution_count": 15,
   "metadata": {},
   "outputs": [],
   "source": [
    "data_weather['Day'] = data_weather.time_temp.str[0]\n",
    "data_weather['Month'] = data_weather.time_temp.str[1]\n",
    "data_weather['Year'] = data_weather.time_temp.str[2]\n",
    "\n",
    "data_weather['Day'] = data_weather.Day.astype('int')\n",
    "data_weather['Month'] = data_weather.Month.astype('int')\n",
    "data_weather['Year'] = data_weather.Year.astype('int')\n",
    "\n",
    "data_weather.drop(['time_temp'], axis=1, inplace=True)"
   ]
  },
  {
   "cell_type": "code",
   "execution_count": 16,
   "metadata": {},
   "outputs": [
    {
     "data": {
      "text/plain": [
       "1        1940-01-02T06:39\n",
       "2        1940-01-03T06:40\n",
       "3        1940-01-04T06:40\n",
       "4        1940-01-05T06:40\n",
       "5        1940-01-06T06:41\n",
       "               ...       \n",
       "30392    2023-03-18T06:29\n",
       "30393    2023-03-19T06:28\n",
       "30394    2023-03-20T06:27\n",
       "30395    2023-03-21T06:27\n",
       "30396    2023-03-22T06:26\n",
       "Name: sunrise (iso8601), Length: 30396, dtype: object"
      ]
     },
     "execution_count": 16,
     "metadata": {},
     "output_type": "execute_result"
    }
   ],
   "source": [
    "data_weather['sunrise (iso8601)']"
   ]
  },
  {
   "cell_type": "code",
   "execution_count": 17,
   "metadata": {},
   "outputs": [],
   "source": [
    "data_weather['sunrise (iso8601) temp'] = data_weather['sunrise (iso8601)'].str.split('T')"
   ]
  },
  {
   "cell_type": "code",
   "execution_count": 18,
   "metadata": {},
   "outputs": [],
   "source": [
    "data_weather['sunrise (iso8601) temp'] = data_weather['sunrise (iso8601) temp'].str[1]"
   ]
  },
  {
   "cell_type": "code",
   "execution_count": 19,
   "metadata": {},
   "outputs": [
    {
     "data": {
      "text/plain": [
       "1        06:39\n",
       "2        06:40\n",
       "3        06:40\n",
       "4        06:40\n",
       "5        06:41\n",
       "         ...  \n",
       "30392    06:29\n",
       "30393    06:28\n",
       "30394    06:27\n",
       "30395    06:27\n",
       "30396    06:26\n",
       "Name: sunrise (iso8601) temp, Length: 30396, dtype: object"
      ]
     },
     "execution_count": 19,
     "metadata": {},
     "output_type": "execute_result"
    }
   ],
   "source": [
    "data_weather['sunrise (iso8601) temp']"
   ]
  },
  {
   "cell_type": "code",
   "execution_count": 19,
   "metadata": {},
   "outputs": [
    {
     "data": {
      "text/plain": [
       "1        [06, 39]\n",
       "2        [06, 40]\n",
       "3        [06, 40]\n",
       "4        [06, 40]\n",
       "5        [06, 41]\n",
       "           ...   \n",
       "30392    [06, 29]\n",
       "30393    [06, 28]\n",
       "30394    [06, 27]\n",
       "30395    [06, 27]\n",
       "30396    [06, 26]\n",
       "Name: sunrise (iso8601) temp, Length: 30396, dtype: object"
      ]
     },
     "execution_count": 19,
     "metadata": {},
     "output_type": "execute_result"
    }
   ],
   "source": [
    "data_weather['sunrise (iso8601) temp'] = data_weather['sunrise (iso8601) temp'].str.split(':')\n",
    "data_weather['sunrise (iso8601) temp']"
   ]
  },
  {
   "cell_type": "code",
   "execution_count": 20,
   "metadata": {},
   "outputs": [],
   "source": [
    "data_weather['sunrise_hour'] = data_weather['sunrise (iso8601) temp'].str[0]\n",
    "data_weather['sunrise_minutes'] = data_weather['sunrise (iso8601) temp'].str[1]\n",
    "\n",
    "data_weather['sunrise_hour'] = data_weather['sunrise_hour'].astype('int')\n",
    "data_weather['sunrise_minutes'] = data_weather['sunrise_minutes'].astype('int')\n",
    "\n",
    "data_weather.drop(['sunrise (iso8601) temp'], axis=1, inplace=True)"
   ]
  },
  {
   "cell_type": "code",
   "execution_count": 21,
   "metadata": {},
   "outputs": [],
   "source": [
    "data_weather['sunset (iso8601) temp'] = data_weather['sunset (iso8601)'].str.split('T')"
   ]
  },
  {
   "cell_type": "code",
   "execution_count": 22,
   "metadata": {},
   "outputs": [],
   "source": [
    "data_weather['sunset (iso8601) temp'] = data_weather['sunset (iso8601) temp'].str[1]"
   ]
  },
  {
   "cell_type": "code",
   "execution_count": 23,
   "metadata": {},
   "outputs": [],
   "source": [
    "data_weather['sunset (iso8601) temp'] = data_weather['sunset (iso8601) temp'].str.split(':')"
   ]
  },
  {
   "cell_type": "code",
   "execution_count": 24,
   "metadata": {},
   "outputs": [],
   "source": [
    "data_weather['sunset_hour'] = data_weather['sunset (iso8601) temp'].str[0]\n",
    "data_weather['sunset_minutes'] = data_weather['sunset (iso8601) temp'].str[1]\n",
    "\n",
    "data_weather['sunset_hour'] = data_weather['sunset_hour'].astype('int')\n",
    "data_weather['sunset_minutes'] = data_weather['sunset_minutes'].astype('int')\n",
    "\n",
    "data_weather.drop(['sunset (iso8601) temp'], axis=1, inplace=True)"
   ]
  },
  {
   "cell_type": "code",
   "execution_count": 25,
   "metadata": {
    "collapsed": true
   },
   "outputs": [
    {
     "data": {
      "text/html": [
       "<div>\n",
       "<style scoped>\n",
       "    .dataframe tbody tr th:only-of-type {\n",
       "        vertical-align: middle;\n",
       "    }\n",
       "\n",
       "    .dataframe tbody tr th {\n",
       "        vertical-align: top;\n",
       "    }\n",
       "\n",
       "    .dataframe thead th {\n",
       "        text-align: right;\n",
       "    }\n",
       "</style>\n",
       "<table border=\"1\" class=\"dataframe\">\n",
       "  <thead>\n",
       "    <tr style=\"text-align: right;\">\n",
       "      <th></th>\n",
       "      <th>time</th>\n",
       "      <th>temperature_2m_max (°C)</th>\n",
       "      <th>temperature_2m_min (°C)</th>\n",
       "      <th>sunrise (iso8601)</th>\n",
       "      <th>sunset (iso8601)</th>\n",
       "      <th>precipitation_sum (mm)</th>\n",
       "      <th>rain_sum (mm)</th>\n",
       "      <th>snowfall_sum (cm)</th>\n",
       "      <th>precipitation_hours (h)</th>\n",
       "      <th>windspeed_10m_max (km/h)</th>\n",
       "      <th>windgusts_10m_max (km/h)</th>\n",
       "      <th>Label</th>\n",
       "      <th>time_in_format</th>\n",
       "      <th>Day</th>\n",
       "      <th>Month</th>\n",
       "      <th>Year</th>\n",
       "      <th>sunrise_hour</th>\n",
       "      <th>sunrise_minutes</th>\n",
       "      <th>sunset_hour</th>\n",
       "      <th>sunset_minutes</th>\n",
       "    </tr>\n",
       "  </thead>\n",
       "  <tbody>\n",
       "    <tr>\n",
       "      <th>1</th>\n",
       "      <td>02-01-1940</td>\n",
       "      <td>30.7</td>\n",
       "      <td>19.0</td>\n",
       "      <td>1940-01-02T06:39</td>\n",
       "      <td>1940-01-02T18:17</td>\n",
       "      <td>0.0</td>\n",
       "      <td>0.0</td>\n",
       "      <td>0.0</td>\n",
       "      <td>0</td>\n",
       "      <td>13.0</td>\n",
       "      <td>30.2</td>\n",
       "      <td>-1</td>\n",
       "      <td>1940-01-02</td>\n",
       "      <td>2</td>\n",
       "      <td>1</td>\n",
       "      <td>1940</td>\n",
       "      <td>6</td>\n",
       "      <td>39</td>\n",
       "      <td>18</td>\n",
       "      <td>17</td>\n",
       "    </tr>\n",
       "    <tr>\n",
       "      <th>2</th>\n",
       "      <td>03-01-1940</td>\n",
       "      <td>30.8</td>\n",
       "      <td>20.5</td>\n",
       "      <td>1940-01-03T06:40</td>\n",
       "      <td>1940-01-03T18:17</td>\n",
       "      <td>0.0</td>\n",
       "      <td>0.0</td>\n",
       "      <td>0.0</td>\n",
       "      <td>0</td>\n",
       "      <td>13.0</td>\n",
       "      <td>30.6</td>\n",
       "      <td>-1</td>\n",
       "      <td>1940-01-03</td>\n",
       "      <td>3</td>\n",
       "      <td>1</td>\n",
       "      <td>1940</td>\n",
       "      <td>6</td>\n",
       "      <td>40</td>\n",
       "      <td>18</td>\n",
       "      <td>17</td>\n",
       "    </tr>\n",
       "    <tr>\n",
       "      <th>3</th>\n",
       "      <td>04-01-1940</td>\n",
       "      <td>30.8</td>\n",
       "      <td>20.6</td>\n",
       "      <td>1940-01-04T06:40</td>\n",
       "      <td>1940-01-04T18:18</td>\n",
       "      <td>0.2</td>\n",
       "      <td>0.2</td>\n",
       "      <td>0.0</td>\n",
       "      <td>2</td>\n",
       "      <td>13.0</td>\n",
       "      <td>30.6</td>\n",
       "      <td>-1</td>\n",
       "      <td>1940-01-04</td>\n",
       "      <td>4</td>\n",
       "      <td>1</td>\n",
       "      <td>1940</td>\n",
       "      <td>6</td>\n",
       "      <td>40</td>\n",
       "      <td>18</td>\n",
       "      <td>18</td>\n",
       "    </tr>\n",
       "    <tr>\n",
       "      <th>4</th>\n",
       "      <td>05-01-1940</td>\n",
       "      <td>30.5</td>\n",
       "      <td>19.7</td>\n",
       "      <td>1940-01-05T06:40</td>\n",
       "      <td>1940-01-05T18:18</td>\n",
       "      <td>0.0</td>\n",
       "      <td>0.0</td>\n",
       "      <td>0.0</td>\n",
       "      <td>0</td>\n",
       "      <td>11.9</td>\n",
       "      <td>27.0</td>\n",
       "      <td>-1</td>\n",
       "      <td>1940-01-05</td>\n",
       "      <td>5</td>\n",
       "      <td>1</td>\n",
       "      <td>1940</td>\n",
       "      <td>6</td>\n",
       "      <td>40</td>\n",
       "      <td>18</td>\n",
       "      <td>18</td>\n",
       "    </tr>\n",
       "    <tr>\n",
       "      <th>5</th>\n",
       "      <td>06-01-1940</td>\n",
       "      <td>30.5</td>\n",
       "      <td>19.8</td>\n",
       "      <td>1940-01-06T06:41</td>\n",
       "      <td>1940-01-06T18:19</td>\n",
       "      <td>0.0</td>\n",
       "      <td>0.0</td>\n",
       "      <td>0.0</td>\n",
       "      <td>0</td>\n",
       "      <td>13.0</td>\n",
       "      <td>28.1</td>\n",
       "      <td>-1</td>\n",
       "      <td>1940-01-06</td>\n",
       "      <td>6</td>\n",
       "      <td>1</td>\n",
       "      <td>1940</td>\n",
       "      <td>6</td>\n",
       "      <td>41</td>\n",
       "      <td>18</td>\n",
       "      <td>19</td>\n",
       "    </tr>\n",
       "    <tr>\n",
       "      <th>...</th>\n",
       "      <td>...</td>\n",
       "      <td>...</td>\n",
       "      <td>...</td>\n",
       "      <td>...</td>\n",
       "      <td>...</td>\n",
       "      <td>...</td>\n",
       "      <td>...</td>\n",
       "      <td>...</td>\n",
       "      <td>...</td>\n",
       "      <td>...</td>\n",
       "      <td>...</td>\n",
       "      <td>...</td>\n",
       "      <td>...</td>\n",
       "      <td>...</td>\n",
       "      <td>...</td>\n",
       "      <td>...</td>\n",
       "      <td>...</td>\n",
       "      <td>...</td>\n",
       "      <td>...</td>\n",
       "      <td>...</td>\n",
       "    </tr>\n",
       "    <tr>\n",
       "      <th>30392</th>\n",
       "      <td>18-03-2023</td>\n",
       "      <td>31.4</td>\n",
       "      <td>24.6</td>\n",
       "      <td>2023-03-18T06:29</td>\n",
       "      <td>2023-03-18T18:36</td>\n",
       "      <td>8.5</td>\n",
       "      <td>8.5</td>\n",
       "      <td>0.0</td>\n",
       "      <td>11</td>\n",
       "      <td>9.2</td>\n",
       "      <td>29.5</td>\n",
       "      <td>-1</td>\n",
       "      <td>2023-03-18</td>\n",
       "      <td>18</td>\n",
       "      <td>3</td>\n",
       "      <td>2023</td>\n",
       "      <td>6</td>\n",
       "      <td>29</td>\n",
       "      <td>18</td>\n",
       "      <td>36</td>\n",
       "    </tr>\n",
       "    <tr>\n",
       "      <th>30393</th>\n",
       "      <td>19-03-2023</td>\n",
       "      <td>29.9</td>\n",
       "      <td>24.2</td>\n",
       "      <td>2023-03-19T06:28</td>\n",
       "      <td>2023-03-19T18:36</td>\n",
       "      <td>8.4</td>\n",
       "      <td>8.4</td>\n",
       "      <td>0.0</td>\n",
       "      <td>17</td>\n",
       "      <td>10.3</td>\n",
       "      <td>25.9</td>\n",
       "      <td>-1</td>\n",
       "      <td>2023-03-19</td>\n",
       "      <td>19</td>\n",
       "      <td>3</td>\n",
       "      <td>2023</td>\n",
       "      <td>6</td>\n",
       "      <td>28</td>\n",
       "      <td>18</td>\n",
       "      <td>36</td>\n",
       "    </tr>\n",
       "    <tr>\n",
       "      <th>30394</th>\n",
       "      <td>20-03-2023</td>\n",
       "      <td>30.9</td>\n",
       "      <td>24.5</td>\n",
       "      <td>2023-03-20T06:27</td>\n",
       "      <td>2023-03-20T18:36</td>\n",
       "      <td>4.7</td>\n",
       "      <td>4.7</td>\n",
       "      <td>0.0</td>\n",
       "      <td>17</td>\n",
       "      <td>14.8</td>\n",
       "      <td>36.4</td>\n",
       "      <td>-1</td>\n",
       "      <td>2023-03-20</td>\n",
       "      <td>20</td>\n",
       "      <td>3</td>\n",
       "      <td>2023</td>\n",
       "      <td>6</td>\n",
       "      <td>27</td>\n",
       "      <td>18</td>\n",
       "      <td>36</td>\n",
       "    </tr>\n",
       "    <tr>\n",
       "      <th>30395</th>\n",
       "      <td>21-03-2023</td>\n",
       "      <td>32.6</td>\n",
       "      <td>25.3</td>\n",
       "      <td>2023-03-21T06:27</td>\n",
       "      <td>2023-03-21T18:36</td>\n",
       "      <td>0.0</td>\n",
       "      <td>0.0</td>\n",
       "      <td>0.0</td>\n",
       "      <td>0</td>\n",
       "      <td>15.5</td>\n",
       "      <td>35.6</td>\n",
       "      <td>-1</td>\n",
       "      <td>2023-03-21</td>\n",
       "      <td>21</td>\n",
       "      <td>3</td>\n",
       "      <td>2023</td>\n",
       "      <td>6</td>\n",
       "      <td>27</td>\n",
       "      <td>18</td>\n",
       "      <td>36</td>\n",
       "    </tr>\n",
       "    <tr>\n",
       "      <th>30396</th>\n",
       "      <td>22-03-2023</td>\n",
       "      <td>32.5</td>\n",
       "      <td>25.4</td>\n",
       "      <td>2023-03-22T06:26</td>\n",
       "      <td>2023-03-22T18:36</td>\n",
       "      <td>0.0</td>\n",
       "      <td>0.0</td>\n",
       "      <td>0.0</td>\n",
       "      <td>0</td>\n",
       "      <td>13.9</td>\n",
       "      <td>33.1</td>\n",
       "      <td>-1</td>\n",
       "      <td>2023-03-22</td>\n",
       "      <td>22</td>\n",
       "      <td>3</td>\n",
       "      <td>2023</td>\n",
       "      <td>6</td>\n",
       "      <td>26</td>\n",
       "      <td>18</td>\n",
       "      <td>36</td>\n",
       "    </tr>\n",
       "  </tbody>\n",
       "</table>\n",
       "<p>30396 rows × 20 columns</p>\n",
       "</div>"
      ],
      "text/plain": [
       "             time  temperature_2m_max (°C)  temperature_2m_min (°C)  \\\n",
       "1      02-01-1940                     30.7                     19.0   \n",
       "2      03-01-1940                     30.8                     20.5   \n",
       "3      04-01-1940                     30.8                     20.6   \n",
       "4      05-01-1940                     30.5                     19.7   \n",
       "5      06-01-1940                     30.5                     19.8   \n",
       "...           ...                      ...                      ...   \n",
       "30392  18-03-2023                     31.4                     24.6   \n",
       "30393  19-03-2023                     29.9                     24.2   \n",
       "30394  20-03-2023                     30.9                     24.5   \n",
       "30395  21-03-2023                     32.6                     25.3   \n",
       "30396  22-03-2023                     32.5                     25.4   \n",
       "\n",
       "      sunrise (iso8601)  sunset (iso8601)  precipitation_sum (mm)  \\\n",
       "1      1940-01-02T06:39  1940-01-02T18:17                     0.0   \n",
       "2      1940-01-03T06:40  1940-01-03T18:17                     0.0   \n",
       "3      1940-01-04T06:40  1940-01-04T18:18                     0.2   \n",
       "4      1940-01-05T06:40  1940-01-05T18:18                     0.0   \n",
       "5      1940-01-06T06:41  1940-01-06T18:19                     0.0   \n",
       "...                 ...               ...                     ...   \n",
       "30392  2023-03-18T06:29  2023-03-18T18:36                     8.5   \n",
       "30393  2023-03-19T06:28  2023-03-19T18:36                     8.4   \n",
       "30394  2023-03-20T06:27  2023-03-20T18:36                     4.7   \n",
       "30395  2023-03-21T06:27  2023-03-21T18:36                     0.0   \n",
       "30396  2023-03-22T06:26  2023-03-22T18:36                     0.0   \n",
       "\n",
       "       rain_sum (mm)  snowfall_sum (cm)  precipitation_hours (h)  \\\n",
       "1                0.0                0.0                        0   \n",
       "2                0.0                0.0                        0   \n",
       "3                0.2                0.0                        2   \n",
       "4                0.0                0.0                        0   \n",
       "5                0.0                0.0                        0   \n",
       "...              ...                ...                      ...   \n",
       "30392            8.5                0.0                       11   \n",
       "30393            8.4                0.0                       17   \n",
       "30394            4.7                0.0                       17   \n",
       "30395            0.0                0.0                        0   \n",
       "30396            0.0                0.0                        0   \n",
       "\n",
       "       windspeed_10m_max (km/h)  windgusts_10m_max (km/h)  Label  \\\n",
       "1                          13.0                      30.2     -1   \n",
       "2                          13.0                      30.6     -1   \n",
       "3                          13.0                      30.6     -1   \n",
       "4                          11.9                      27.0     -1   \n",
       "5                          13.0                      28.1     -1   \n",
       "...                         ...                       ...    ...   \n",
       "30392                       9.2                      29.5     -1   \n",
       "30393                      10.3                      25.9     -1   \n",
       "30394                      14.8                      36.4     -1   \n",
       "30395                      15.5                      35.6     -1   \n",
       "30396                      13.9                      33.1     -1   \n",
       "\n",
       "      time_in_format  Day  Month  Year  sunrise_hour  sunrise_minutes  \\\n",
       "1         1940-01-02    2      1  1940             6               39   \n",
       "2         1940-01-03    3      1  1940             6               40   \n",
       "3         1940-01-04    4      1  1940             6               40   \n",
       "4         1940-01-05    5      1  1940             6               40   \n",
       "5         1940-01-06    6      1  1940             6               41   \n",
       "...              ...  ...    ...   ...           ...              ...   \n",
       "30392     2023-03-18   18      3  2023             6               29   \n",
       "30393     2023-03-19   19      3  2023             6               28   \n",
       "30394     2023-03-20   20      3  2023             6               27   \n",
       "30395     2023-03-21   21      3  2023             6               27   \n",
       "30396     2023-03-22   22      3  2023             6               26   \n",
       "\n",
       "       sunset_hour  sunset_minutes  \n",
       "1               18              17  \n",
       "2               18              17  \n",
       "3               18              18  \n",
       "4               18              18  \n",
       "5               18              19  \n",
       "...            ...             ...  \n",
       "30392           18              36  \n",
       "30393           18              36  \n",
       "30394           18              36  \n",
       "30395           18              36  \n",
       "30396           18              36  \n",
       "\n",
       "[30396 rows x 20 columns]"
      ]
     },
     "execution_count": 25,
     "metadata": {},
     "output_type": "execute_result"
    }
   ],
   "source": [
    "data_weather"
   ]
  },
  {
   "cell_type": "code",
   "execution_count": 23,
   "metadata": {},
   "outputs": [],
   "source": [
    "data_cluster = data_weather.copy()"
   ]
  },
  {
   "cell_type": "code",
   "execution_count": 29,
   "metadata": {
    "collapsed": true
   },
   "outputs": [
    {
     "data": {
      "text/html": [
       "<div>\n",
       "<style scoped>\n",
       "    .dataframe tbody tr th:only-of-type {\n",
       "        vertical-align: middle;\n",
       "    }\n",
       "\n",
       "    .dataframe tbody tr th {\n",
       "        vertical-align: top;\n",
       "    }\n",
       "\n",
       "    .dataframe thead th {\n",
       "        text-align: right;\n",
       "    }\n",
       "</style>\n",
       "<table border=\"1\" class=\"dataframe\">\n",
       "  <thead>\n",
       "    <tr style=\"text-align: right;\">\n",
       "      <th></th>\n",
       "      <th>time</th>\n",
       "      <th>temperature_2m_max (°C)</th>\n",
       "      <th>temperature_2m_min (°C)</th>\n",
       "      <th>sunrise (iso8601)</th>\n",
       "      <th>sunset (iso8601)</th>\n",
       "      <th>precipitation_sum (mm)</th>\n",
       "      <th>rain_sum (mm)</th>\n",
       "      <th>snowfall_sum (cm)</th>\n",
       "      <th>precipitation_hours (h)</th>\n",
       "      <th>windspeed_10m_max (km/h)</th>\n",
       "      <th>windgusts_10m_max (km/h)</th>\n",
       "      <th>Label</th>\n",
       "      <th>time_in_format</th>\n",
       "      <th>Day</th>\n",
       "      <th>Month</th>\n",
       "      <th>Year</th>\n",
       "      <th>sunrise_hour</th>\n",
       "      <th>sunrise_minutes</th>\n",
       "      <th>sunset_hour</th>\n",
       "      <th>sunset_minutes</th>\n",
       "    </tr>\n",
       "  </thead>\n",
       "  <tbody>\n",
       "    <tr>\n",
       "      <th>1</th>\n",
       "      <td>02-01-1940</td>\n",
       "      <td>30.7</td>\n",
       "      <td>19.0</td>\n",
       "      <td>1940-01-02T06:39</td>\n",
       "      <td>1940-01-02T18:17</td>\n",
       "      <td>0.0</td>\n",
       "      <td>0.0</td>\n",
       "      <td>0.0</td>\n",
       "      <td>0</td>\n",
       "      <td>13.0</td>\n",
       "      <td>30.2</td>\n",
       "      <td>-1</td>\n",
       "      <td>1940-01-02</td>\n",
       "      <td>2</td>\n",
       "      <td>1</td>\n",
       "      <td>1940</td>\n",
       "      <td>6</td>\n",
       "      <td>39</td>\n",
       "      <td>18</td>\n",
       "      <td>17</td>\n",
       "    </tr>\n",
       "    <tr>\n",
       "      <th>2</th>\n",
       "      <td>03-01-1940</td>\n",
       "      <td>30.8</td>\n",
       "      <td>20.5</td>\n",
       "      <td>1940-01-03T06:40</td>\n",
       "      <td>1940-01-03T18:17</td>\n",
       "      <td>0.0</td>\n",
       "      <td>0.0</td>\n",
       "      <td>0.0</td>\n",
       "      <td>0</td>\n",
       "      <td>13.0</td>\n",
       "      <td>30.6</td>\n",
       "      <td>-1</td>\n",
       "      <td>1940-01-03</td>\n",
       "      <td>3</td>\n",
       "      <td>1</td>\n",
       "      <td>1940</td>\n",
       "      <td>6</td>\n",
       "      <td>40</td>\n",
       "      <td>18</td>\n",
       "      <td>17</td>\n",
       "    </tr>\n",
       "    <tr>\n",
       "      <th>3</th>\n",
       "      <td>04-01-1940</td>\n",
       "      <td>30.8</td>\n",
       "      <td>20.6</td>\n",
       "      <td>1940-01-04T06:40</td>\n",
       "      <td>1940-01-04T18:18</td>\n",
       "      <td>0.2</td>\n",
       "      <td>0.2</td>\n",
       "      <td>0.0</td>\n",
       "      <td>2</td>\n",
       "      <td>13.0</td>\n",
       "      <td>30.6</td>\n",
       "      <td>-1</td>\n",
       "      <td>1940-01-04</td>\n",
       "      <td>4</td>\n",
       "      <td>1</td>\n",
       "      <td>1940</td>\n",
       "      <td>6</td>\n",
       "      <td>40</td>\n",
       "      <td>18</td>\n",
       "      <td>18</td>\n",
       "    </tr>\n",
       "    <tr>\n",
       "      <th>4</th>\n",
       "      <td>05-01-1940</td>\n",
       "      <td>30.5</td>\n",
       "      <td>19.7</td>\n",
       "      <td>1940-01-05T06:40</td>\n",
       "      <td>1940-01-05T18:18</td>\n",
       "      <td>0.0</td>\n",
       "      <td>0.0</td>\n",
       "      <td>0.0</td>\n",
       "      <td>0</td>\n",
       "      <td>11.9</td>\n",
       "      <td>27.0</td>\n",
       "      <td>-1</td>\n",
       "      <td>1940-01-05</td>\n",
       "      <td>5</td>\n",
       "      <td>1</td>\n",
       "      <td>1940</td>\n",
       "      <td>6</td>\n",
       "      <td>40</td>\n",
       "      <td>18</td>\n",
       "      <td>18</td>\n",
       "    </tr>\n",
       "    <tr>\n",
       "      <th>5</th>\n",
       "      <td>06-01-1940</td>\n",
       "      <td>30.5</td>\n",
       "      <td>19.8</td>\n",
       "      <td>1940-01-06T06:41</td>\n",
       "      <td>1940-01-06T18:19</td>\n",
       "      <td>0.0</td>\n",
       "      <td>0.0</td>\n",
       "      <td>0.0</td>\n",
       "      <td>0</td>\n",
       "      <td>13.0</td>\n",
       "      <td>28.1</td>\n",
       "      <td>-1</td>\n",
       "      <td>1940-01-06</td>\n",
       "      <td>6</td>\n",
       "      <td>1</td>\n",
       "      <td>1940</td>\n",
       "      <td>6</td>\n",
       "      <td>41</td>\n",
       "      <td>18</td>\n",
       "      <td>19</td>\n",
       "    </tr>\n",
       "    <tr>\n",
       "      <th>...</th>\n",
       "      <td>...</td>\n",
       "      <td>...</td>\n",
       "      <td>...</td>\n",
       "      <td>...</td>\n",
       "      <td>...</td>\n",
       "      <td>...</td>\n",
       "      <td>...</td>\n",
       "      <td>...</td>\n",
       "      <td>...</td>\n",
       "      <td>...</td>\n",
       "      <td>...</td>\n",
       "      <td>...</td>\n",
       "      <td>...</td>\n",
       "      <td>...</td>\n",
       "      <td>...</td>\n",
       "      <td>...</td>\n",
       "      <td>...</td>\n",
       "      <td>...</td>\n",
       "      <td>...</td>\n",
       "      <td>...</td>\n",
       "    </tr>\n",
       "    <tr>\n",
       "      <th>30392</th>\n",
       "      <td>18-03-2023</td>\n",
       "      <td>31.4</td>\n",
       "      <td>24.6</td>\n",
       "      <td>2023-03-18T06:29</td>\n",
       "      <td>2023-03-18T18:36</td>\n",
       "      <td>8.5</td>\n",
       "      <td>8.5</td>\n",
       "      <td>0.0</td>\n",
       "      <td>11</td>\n",
       "      <td>9.2</td>\n",
       "      <td>29.5</td>\n",
       "      <td>-1</td>\n",
       "      <td>2023-03-18</td>\n",
       "      <td>18</td>\n",
       "      <td>3</td>\n",
       "      <td>2023</td>\n",
       "      <td>6</td>\n",
       "      <td>29</td>\n",
       "      <td>18</td>\n",
       "      <td>36</td>\n",
       "    </tr>\n",
       "    <tr>\n",
       "      <th>30393</th>\n",
       "      <td>19-03-2023</td>\n",
       "      <td>29.9</td>\n",
       "      <td>24.2</td>\n",
       "      <td>2023-03-19T06:28</td>\n",
       "      <td>2023-03-19T18:36</td>\n",
       "      <td>8.4</td>\n",
       "      <td>8.4</td>\n",
       "      <td>0.0</td>\n",
       "      <td>17</td>\n",
       "      <td>10.3</td>\n",
       "      <td>25.9</td>\n",
       "      <td>-1</td>\n",
       "      <td>2023-03-19</td>\n",
       "      <td>19</td>\n",
       "      <td>3</td>\n",
       "      <td>2023</td>\n",
       "      <td>6</td>\n",
       "      <td>28</td>\n",
       "      <td>18</td>\n",
       "      <td>36</td>\n",
       "    </tr>\n",
       "    <tr>\n",
       "      <th>30394</th>\n",
       "      <td>20-03-2023</td>\n",
       "      <td>30.9</td>\n",
       "      <td>24.5</td>\n",
       "      <td>2023-03-20T06:27</td>\n",
       "      <td>2023-03-20T18:36</td>\n",
       "      <td>4.7</td>\n",
       "      <td>4.7</td>\n",
       "      <td>0.0</td>\n",
       "      <td>17</td>\n",
       "      <td>14.8</td>\n",
       "      <td>36.4</td>\n",
       "      <td>-1</td>\n",
       "      <td>2023-03-20</td>\n",
       "      <td>20</td>\n",
       "      <td>3</td>\n",
       "      <td>2023</td>\n",
       "      <td>6</td>\n",
       "      <td>27</td>\n",
       "      <td>18</td>\n",
       "      <td>36</td>\n",
       "    </tr>\n",
       "    <tr>\n",
       "      <th>30395</th>\n",
       "      <td>21-03-2023</td>\n",
       "      <td>32.6</td>\n",
       "      <td>25.3</td>\n",
       "      <td>2023-03-21T06:27</td>\n",
       "      <td>2023-03-21T18:36</td>\n",
       "      <td>0.0</td>\n",
       "      <td>0.0</td>\n",
       "      <td>0.0</td>\n",
       "      <td>0</td>\n",
       "      <td>15.5</td>\n",
       "      <td>35.6</td>\n",
       "      <td>-1</td>\n",
       "      <td>2023-03-21</td>\n",
       "      <td>21</td>\n",
       "      <td>3</td>\n",
       "      <td>2023</td>\n",
       "      <td>6</td>\n",
       "      <td>27</td>\n",
       "      <td>18</td>\n",
       "      <td>36</td>\n",
       "    </tr>\n",
       "    <tr>\n",
       "      <th>30396</th>\n",
       "      <td>22-03-2023</td>\n",
       "      <td>32.5</td>\n",
       "      <td>25.4</td>\n",
       "      <td>2023-03-22T06:26</td>\n",
       "      <td>2023-03-22T18:36</td>\n",
       "      <td>0.0</td>\n",
       "      <td>0.0</td>\n",
       "      <td>0.0</td>\n",
       "      <td>0</td>\n",
       "      <td>13.9</td>\n",
       "      <td>33.1</td>\n",
       "      <td>-1</td>\n",
       "      <td>2023-03-22</td>\n",
       "      <td>22</td>\n",
       "      <td>3</td>\n",
       "      <td>2023</td>\n",
       "      <td>6</td>\n",
       "      <td>26</td>\n",
       "      <td>18</td>\n",
       "      <td>36</td>\n",
       "    </tr>\n",
       "  </tbody>\n",
       "</table>\n",
       "<p>30396 rows × 20 columns</p>\n",
       "</div>"
      ],
      "text/plain": [
       "             time  temperature_2m_max (°C)  temperature_2m_min (°C)  \\\n",
       "1      02-01-1940                     30.7                     19.0   \n",
       "2      03-01-1940                     30.8                     20.5   \n",
       "3      04-01-1940                     30.8                     20.6   \n",
       "4      05-01-1940                     30.5                     19.7   \n",
       "5      06-01-1940                     30.5                     19.8   \n",
       "...           ...                      ...                      ...   \n",
       "30392  18-03-2023                     31.4                     24.6   \n",
       "30393  19-03-2023                     29.9                     24.2   \n",
       "30394  20-03-2023                     30.9                     24.5   \n",
       "30395  21-03-2023                     32.6                     25.3   \n",
       "30396  22-03-2023                     32.5                     25.4   \n",
       "\n",
       "      sunrise (iso8601)  sunset (iso8601)  precipitation_sum (mm)  \\\n",
       "1      1940-01-02T06:39  1940-01-02T18:17                     0.0   \n",
       "2      1940-01-03T06:40  1940-01-03T18:17                     0.0   \n",
       "3      1940-01-04T06:40  1940-01-04T18:18                     0.2   \n",
       "4      1940-01-05T06:40  1940-01-05T18:18                     0.0   \n",
       "5      1940-01-06T06:41  1940-01-06T18:19                     0.0   \n",
       "...                 ...               ...                     ...   \n",
       "30392  2023-03-18T06:29  2023-03-18T18:36                     8.5   \n",
       "30393  2023-03-19T06:28  2023-03-19T18:36                     8.4   \n",
       "30394  2023-03-20T06:27  2023-03-20T18:36                     4.7   \n",
       "30395  2023-03-21T06:27  2023-03-21T18:36                     0.0   \n",
       "30396  2023-03-22T06:26  2023-03-22T18:36                     0.0   \n",
       "\n",
       "       rain_sum (mm)  snowfall_sum (cm)  precipitation_hours (h)  \\\n",
       "1                0.0                0.0                        0   \n",
       "2                0.0                0.0                        0   \n",
       "3                0.2                0.0                        2   \n",
       "4                0.0                0.0                        0   \n",
       "5                0.0                0.0                        0   \n",
       "...              ...                ...                      ...   \n",
       "30392            8.5                0.0                       11   \n",
       "30393            8.4                0.0                       17   \n",
       "30394            4.7                0.0                       17   \n",
       "30395            0.0                0.0                        0   \n",
       "30396            0.0                0.0                        0   \n",
       "\n",
       "       windspeed_10m_max (km/h)  windgusts_10m_max (km/h)  Label  \\\n",
       "1                          13.0                      30.2     -1   \n",
       "2                          13.0                      30.6     -1   \n",
       "3                          13.0                      30.6     -1   \n",
       "4                          11.9                      27.0     -1   \n",
       "5                          13.0                      28.1     -1   \n",
       "...                         ...                       ...    ...   \n",
       "30392                       9.2                      29.5     -1   \n",
       "30393                      10.3                      25.9     -1   \n",
       "30394                      14.8                      36.4     -1   \n",
       "30395                      15.5                      35.6     -1   \n",
       "30396                      13.9                      33.1     -1   \n",
       "\n",
       "      time_in_format  Day  Month  Year  sunrise_hour  sunrise_minutes  \\\n",
       "1         1940-01-02    2      1  1940             6               39   \n",
       "2         1940-01-03    3      1  1940             6               40   \n",
       "3         1940-01-04    4      1  1940             6               40   \n",
       "4         1940-01-05    5      1  1940             6               40   \n",
       "5         1940-01-06    6      1  1940             6               41   \n",
       "...              ...  ...    ...   ...           ...              ...   \n",
       "30392     2023-03-18   18      3  2023             6               29   \n",
       "30393     2023-03-19   19      3  2023             6               28   \n",
       "30394     2023-03-20   20      3  2023             6               27   \n",
       "30395     2023-03-21   21      3  2023             6               27   \n",
       "30396     2023-03-22   22      3  2023             6               26   \n",
       "\n",
       "       sunset_hour  sunset_minutes  \n",
       "1               18              17  \n",
       "2               18              17  \n",
       "3               18              18  \n",
       "4               18              18  \n",
       "5               18              19  \n",
       "...            ...             ...  \n",
       "30392           18              36  \n",
       "30393           18              36  \n",
       "30394           18              36  \n",
       "30395           18              36  \n",
       "30396           18              36  \n",
       "\n",
       "[30396 rows x 20 columns]"
      ]
     },
     "execution_count": 29,
     "metadata": {},
     "output_type": "execute_result"
    }
   ],
   "source": [
    "data_cluster"
   ]
  },
  {
   "cell_type": "markdown",
   "metadata": {},
   "source": [
    "## Clustering"
   ]
  },
  {
   "cell_type": "code",
   "execution_count": 50,
   "metadata": {},
   "outputs": [],
   "source": [
    "from sklearn.cluster import KMeans\n",
    "from sklearn.metrics import silhouette_score"
   ]
  },
  {
   "cell_type": "code",
   "execution_count": 30,
   "metadata": {},
   "outputs": [
    {
     "data": {
      "text/html": [
       "<div>\n",
       "<style scoped>\n",
       "    .dataframe tbody tr th:only-of-type {\n",
       "        vertical-align: middle;\n",
       "    }\n",
       "\n",
       "    .dataframe tbody tr th {\n",
       "        vertical-align: top;\n",
       "    }\n",
       "\n",
       "    .dataframe thead th {\n",
       "        text-align: right;\n",
       "    }\n",
       "</style>\n",
       "<table border=\"1\" class=\"dataframe\">\n",
       "  <thead>\n",
       "    <tr style=\"text-align: right;\">\n",
       "      <th></th>\n",
       "      <th>temperature_2m_max (°C)</th>\n",
       "      <th>temperature_2m_min (°C)</th>\n",
       "      <th>precipitation_sum (mm)</th>\n",
       "      <th>rain_sum (mm)</th>\n",
       "      <th>snowfall_sum (cm)</th>\n",
       "      <th>precipitation_hours (h)</th>\n",
       "      <th>windspeed_10m_max (km/h)</th>\n",
       "      <th>windgusts_10m_max (km/h)</th>\n",
       "      <th>Day</th>\n",
       "      <th>Month</th>\n",
       "      <th>Year</th>\n",
       "      <th>sunrise_hour</th>\n",
       "      <th>sunrise_minutes</th>\n",
       "      <th>sunset_hour</th>\n",
       "      <th>sunset_minutes</th>\n",
       "    </tr>\n",
       "  </thead>\n",
       "  <tbody>\n",
       "    <tr>\n",
       "      <th>1</th>\n",
       "      <td>30.7</td>\n",
       "      <td>19.0</td>\n",
       "      <td>0.0</td>\n",
       "      <td>0.0</td>\n",
       "      <td>0.0</td>\n",
       "      <td>0</td>\n",
       "      <td>13.0</td>\n",
       "      <td>30.2</td>\n",
       "      <td>2</td>\n",
       "      <td>1</td>\n",
       "      <td>1940</td>\n",
       "      <td>6</td>\n",
       "      <td>39</td>\n",
       "      <td>18</td>\n",
       "      <td>17</td>\n",
       "    </tr>\n",
       "    <tr>\n",
       "      <th>2</th>\n",
       "      <td>30.8</td>\n",
       "      <td>20.5</td>\n",
       "      <td>0.0</td>\n",
       "      <td>0.0</td>\n",
       "      <td>0.0</td>\n",
       "      <td>0</td>\n",
       "      <td>13.0</td>\n",
       "      <td>30.6</td>\n",
       "      <td>3</td>\n",
       "      <td>1</td>\n",
       "      <td>1940</td>\n",
       "      <td>6</td>\n",
       "      <td>40</td>\n",
       "      <td>18</td>\n",
       "      <td>17</td>\n",
       "    </tr>\n",
       "    <tr>\n",
       "      <th>3</th>\n",
       "      <td>30.8</td>\n",
       "      <td>20.6</td>\n",
       "      <td>0.2</td>\n",
       "      <td>0.2</td>\n",
       "      <td>0.0</td>\n",
       "      <td>2</td>\n",
       "      <td>13.0</td>\n",
       "      <td>30.6</td>\n",
       "      <td>4</td>\n",
       "      <td>1</td>\n",
       "      <td>1940</td>\n",
       "      <td>6</td>\n",
       "      <td>40</td>\n",
       "      <td>18</td>\n",
       "      <td>18</td>\n",
       "    </tr>\n",
       "    <tr>\n",
       "      <th>4</th>\n",
       "      <td>30.5</td>\n",
       "      <td>19.7</td>\n",
       "      <td>0.0</td>\n",
       "      <td>0.0</td>\n",
       "      <td>0.0</td>\n",
       "      <td>0</td>\n",
       "      <td>11.9</td>\n",
       "      <td>27.0</td>\n",
       "      <td>5</td>\n",
       "      <td>1</td>\n",
       "      <td>1940</td>\n",
       "      <td>6</td>\n",
       "      <td>40</td>\n",
       "      <td>18</td>\n",
       "      <td>18</td>\n",
       "    </tr>\n",
       "    <tr>\n",
       "      <th>5</th>\n",
       "      <td>30.5</td>\n",
       "      <td>19.8</td>\n",
       "      <td>0.0</td>\n",
       "      <td>0.0</td>\n",
       "      <td>0.0</td>\n",
       "      <td>0</td>\n",
       "      <td>13.0</td>\n",
       "      <td>28.1</td>\n",
       "      <td>6</td>\n",
       "      <td>1</td>\n",
       "      <td>1940</td>\n",
       "      <td>6</td>\n",
       "      <td>41</td>\n",
       "      <td>18</td>\n",
       "      <td>19</td>\n",
       "    </tr>\n",
       "  </tbody>\n",
       "</table>\n",
       "</div>"
      ],
      "text/plain": [
       "   temperature_2m_max (°C)  temperature_2m_min (°C)  precipitation_sum (mm)  \\\n",
       "1                     30.7                     19.0                     0.0   \n",
       "2                     30.8                     20.5                     0.0   \n",
       "3                     30.8                     20.6                     0.2   \n",
       "4                     30.5                     19.7                     0.0   \n",
       "5                     30.5                     19.8                     0.0   \n",
       "\n",
       "   rain_sum (mm)  snowfall_sum (cm)  precipitation_hours (h)  \\\n",
       "1            0.0                0.0                        0   \n",
       "2            0.0                0.0                        0   \n",
       "3            0.2                0.0                        2   \n",
       "4            0.0                0.0                        0   \n",
       "5            0.0                0.0                        0   \n",
       "\n",
       "   windspeed_10m_max (km/h)  windgusts_10m_max (km/h)  Day  Month  Year  \\\n",
       "1                      13.0                      30.2    2      1  1940   \n",
       "2                      13.0                      30.6    3      1  1940   \n",
       "3                      13.0                      30.6    4      1  1940   \n",
       "4                      11.9                      27.0    5      1  1940   \n",
       "5                      13.0                      28.1    6      1  1940   \n",
       "\n",
       "   sunrise_hour  sunrise_minutes  sunset_hour  sunset_minutes  \n",
       "1             6               39           18              17  \n",
       "2             6               40           18              17  \n",
       "3             6               40           18              18  \n",
       "4             6               40           18              18  \n",
       "5             6               41           18              19  "
      ]
     },
     "execution_count": 30,
     "metadata": {},
     "output_type": "execute_result"
    }
   ],
   "source": [
    "data_cluster.drop(['Label', 'time', 'time_in_format', 'sunrise (iso8601)', 'sunset (iso8601)'], axis=1, inplace=True)\n",
    "data_cluster.head()"
   ]
  },
  {
   "cell_type": "code",
   "execution_count": 31,
   "metadata": {
    "collapsed": true
   },
   "outputs": [
    {
     "data": {
      "text/plain": [
       "array([[30.7, 19. ,  0. , ..., 39. , 18. , 17. ],\n",
       "       [30.8, 20.5,  0. , ..., 40. , 18. , 17. ],\n",
       "       [30.8, 20.6,  0.2, ..., 40. , 18. , 18. ],\n",
       "       ...,\n",
       "       [30.9, 24.5,  4.7, ..., 27. , 18. , 36. ],\n",
       "       [32.6, 25.3,  0. , ..., 27. , 18. , 36. ],\n",
       "       [32.5, 25.4,  0. , ..., 26. , 18. , 36. ]])"
      ]
     },
     "execution_count": 31,
     "metadata": {},
     "output_type": "execute_result"
    }
   ],
   "source": [
    "data = data_cluster.values\n",
    "data"
   ]
  },
  {
   "cell_type": "code",
   "execution_count": 28,
   "metadata": {},
   "outputs": [],
   "source": [
    "from sklearn.preprocessing import StandardScaler"
   ]
  },
  {
   "cell_type": "code",
   "execution_count": 65,
   "metadata": {},
   "outputs": [],
   "source": [
    "sc = StandardScaler()\n",
    "data_sc = sc.fit_transform(data)"
   ]
  },
  {
   "cell_type": "code",
   "execution_count": 66,
   "metadata": {
    "collapsed": true
   },
   "outputs": [
    {
     "data": {
      "text/plain": [
       "array([[ 0.70648234, -3.97343888, -0.69487152, ...,  1.46450993,\n",
       "         0.        , -0.78854278],\n",
       "       [ 0.7567978 , -2.76602738, -0.69487152, ...,  1.53892724,\n",
       "         0.        , -0.78854278],\n",
       "       [ 0.7567978 , -2.68553328, -0.67811596, ...,  1.53892724,\n",
       "         0.        , -0.72339263],\n",
       "       ...,\n",
       "       [ 0.80711326,  0.45373663, -0.30111584, ...,  0.57150222,\n",
       "         0.        ,  0.44931015],\n",
       "       [ 1.66247614,  1.09768943, -0.69487152, ...,  0.57150222,\n",
       "         0.        ,  0.44931015],\n",
       "       [ 1.61216067,  1.17818353, -0.69487152, ...,  0.49708491,\n",
       "         0.        ,  0.44931015]])"
      ]
     },
     "execution_count": 66,
     "metadata": {},
     "output_type": "execute_result"
    }
   ],
   "source": [
    "data_sc"
   ]
  },
  {
   "cell_type": "code",
   "execution_count": 67,
   "metadata": {},
   "outputs": [
    {
     "name": "stdout",
     "output_type": "stream",
     "text": [
      "Silhouette Coefficient: 0.223\n",
      "Silhouette Coefficient: 0.262\n",
      "Silhouette Coefficient: 0.232\n",
      "Silhouette Coefficient: 0.222\n",
      "Silhouette Coefficient: 0.204\n"
     ]
    }
   ],
   "source": [
    "for k in range(2, 7):\n",
    "    kmeans = KMeans(n_clusters=k)\n",
    "    kmeans.fit(data_sc)\n",
    "    print(\"Silhouette Coefficient: %0.3f\"% silhouette_score(data_sc, kmeans.labels_, metric='euclidean'))"
   ]
  },
  {
   "cell_type": "code",
   "execution_count": 69,
   "metadata": {},
   "outputs": [
    {
     "data": {
      "text/plain": [
       "0.2616982828993008"
      ]
     },
     "execution_count": 69,
     "metadata": {},
     "output_type": "execute_result"
    }
   ],
   "source": [
    "kmeans = KMeans(n_clusters=3)\n",
    "kmeans.fit(data_sc)\n",
    "silhouette_score(data_sc, kmeans.labels_, metric='euclidean')"
   ]
  },
  {
   "cell_type": "code",
   "execution_count": 70,
   "metadata": {},
   "outputs": [],
   "source": [
    "cluster_0 = data_sc[kmeans.labels_ == 0]\n",
    "cluster_1 = data_sc[kmeans.labels_ == 1]\n",
    "cluster_2 = data_sc[kmeans.labels_ == 2]"
   ]
  },
  {
   "cell_type": "code",
   "execution_count": 73,
   "metadata": {},
   "outputs": [
    {
     "data": {
      "text/plain": [
       "((8195, 15), (10905, 15), (11296, 15))"
      ]
     },
     "execution_count": 73,
     "metadata": {},
     "output_type": "execute_result"
    }
   ],
   "source": [
    "cluster_0.shape, cluster_1.shape, cluster_2.shape"
   ]
  },
  {
   "cell_type": "markdown",
   "metadata": {},
   "source": [
    "## Semi-Supervised learning"
   ]
  },
  {
   "cell_type": "code",
   "execution_count": 29,
   "metadata": {},
   "outputs": [
    {
     "data": {
      "text/html": [
       "<div>\n",
       "<style scoped>\n",
       "    .dataframe tbody tr th:only-of-type {\n",
       "        vertical-align: middle;\n",
       "    }\n",
       "\n",
       "    .dataframe tbody tr th {\n",
       "        vertical-align: top;\n",
       "    }\n",
       "\n",
       "    .dataframe thead th {\n",
       "        text-align: right;\n",
       "    }\n",
       "</style>\n",
       "<table border=\"1\" class=\"dataframe\">\n",
       "  <thead>\n",
       "    <tr style=\"text-align: right;\">\n",
       "      <th></th>\n",
       "      <th>time</th>\n",
       "      <th>temperature_2m_max (°C)</th>\n",
       "      <th>temperature_2m_min (°C)</th>\n",
       "      <th>sunrise (iso8601)</th>\n",
       "      <th>sunset (iso8601)</th>\n",
       "      <th>precipitation_sum (mm)</th>\n",
       "      <th>rain_sum (mm)</th>\n",
       "      <th>snowfall_sum (cm)</th>\n",
       "      <th>precipitation_hours (h)</th>\n",
       "      <th>windspeed_10m_max (km/h)</th>\n",
       "      <th>windgusts_10m_max (km/h)</th>\n",
       "      <th>Label</th>\n",
       "      <th>time_in_format</th>\n",
       "      <th>Day</th>\n",
       "      <th>Month</th>\n",
       "      <th>Year</th>\n",
       "      <th>sunrise_hour</th>\n",
       "      <th>sunrise_minutes</th>\n",
       "      <th>sunset_hour</th>\n",
       "      <th>sunset_minutes</th>\n",
       "    </tr>\n",
       "  </thead>\n",
       "  <tbody>\n",
       "    <tr>\n",
       "      <th>1</th>\n",
       "      <td>02-01-1940</td>\n",
       "      <td>30.7</td>\n",
       "      <td>19.0</td>\n",
       "      <td>1940-01-02T06:39</td>\n",
       "      <td>1940-01-02T18:17</td>\n",
       "      <td>0.0</td>\n",
       "      <td>0.0</td>\n",
       "      <td>0.0</td>\n",
       "      <td>0</td>\n",
       "      <td>13.0</td>\n",
       "      <td>30.2</td>\n",
       "      <td>-1</td>\n",
       "      <td>1940-01-02</td>\n",
       "      <td>2</td>\n",
       "      <td>1</td>\n",
       "      <td>1940</td>\n",
       "      <td>6</td>\n",
       "      <td>39</td>\n",
       "      <td>18</td>\n",
       "      <td>17</td>\n",
       "    </tr>\n",
       "    <tr>\n",
       "      <th>2</th>\n",
       "      <td>03-01-1940</td>\n",
       "      <td>30.8</td>\n",
       "      <td>20.5</td>\n",
       "      <td>1940-01-03T06:40</td>\n",
       "      <td>1940-01-03T18:17</td>\n",
       "      <td>0.0</td>\n",
       "      <td>0.0</td>\n",
       "      <td>0.0</td>\n",
       "      <td>0</td>\n",
       "      <td>13.0</td>\n",
       "      <td>30.6</td>\n",
       "      <td>-1</td>\n",
       "      <td>1940-01-03</td>\n",
       "      <td>3</td>\n",
       "      <td>1</td>\n",
       "      <td>1940</td>\n",
       "      <td>6</td>\n",
       "      <td>40</td>\n",
       "      <td>18</td>\n",
       "      <td>17</td>\n",
       "    </tr>\n",
       "    <tr>\n",
       "      <th>3</th>\n",
       "      <td>04-01-1940</td>\n",
       "      <td>30.8</td>\n",
       "      <td>20.6</td>\n",
       "      <td>1940-01-04T06:40</td>\n",
       "      <td>1940-01-04T18:18</td>\n",
       "      <td>0.2</td>\n",
       "      <td>0.2</td>\n",
       "      <td>0.0</td>\n",
       "      <td>2</td>\n",
       "      <td>13.0</td>\n",
       "      <td>30.6</td>\n",
       "      <td>-1</td>\n",
       "      <td>1940-01-04</td>\n",
       "      <td>4</td>\n",
       "      <td>1</td>\n",
       "      <td>1940</td>\n",
       "      <td>6</td>\n",
       "      <td>40</td>\n",
       "      <td>18</td>\n",
       "      <td>18</td>\n",
       "    </tr>\n",
       "    <tr>\n",
       "      <th>4</th>\n",
       "      <td>05-01-1940</td>\n",
       "      <td>30.5</td>\n",
       "      <td>19.7</td>\n",
       "      <td>1940-01-05T06:40</td>\n",
       "      <td>1940-01-05T18:18</td>\n",
       "      <td>0.0</td>\n",
       "      <td>0.0</td>\n",
       "      <td>0.0</td>\n",
       "      <td>0</td>\n",
       "      <td>11.9</td>\n",
       "      <td>27.0</td>\n",
       "      <td>-1</td>\n",
       "      <td>1940-01-05</td>\n",
       "      <td>5</td>\n",
       "      <td>1</td>\n",
       "      <td>1940</td>\n",
       "      <td>6</td>\n",
       "      <td>40</td>\n",
       "      <td>18</td>\n",
       "      <td>18</td>\n",
       "    </tr>\n",
       "    <tr>\n",
       "      <th>5</th>\n",
       "      <td>06-01-1940</td>\n",
       "      <td>30.5</td>\n",
       "      <td>19.8</td>\n",
       "      <td>1940-01-06T06:41</td>\n",
       "      <td>1940-01-06T18:19</td>\n",
       "      <td>0.0</td>\n",
       "      <td>0.0</td>\n",
       "      <td>0.0</td>\n",
       "      <td>0</td>\n",
       "      <td>13.0</td>\n",
       "      <td>28.1</td>\n",
       "      <td>-1</td>\n",
       "      <td>1940-01-06</td>\n",
       "      <td>6</td>\n",
       "      <td>1</td>\n",
       "      <td>1940</td>\n",
       "      <td>6</td>\n",
       "      <td>41</td>\n",
       "      <td>18</td>\n",
       "      <td>19</td>\n",
       "    </tr>\n",
       "  </tbody>\n",
       "</table>\n",
       "</div>"
      ],
      "text/plain": [
       "         time  temperature_2m_max (°C)  temperature_2m_min (°C)  \\\n",
       "1  02-01-1940                     30.7                     19.0   \n",
       "2  03-01-1940                     30.8                     20.5   \n",
       "3  04-01-1940                     30.8                     20.6   \n",
       "4  05-01-1940                     30.5                     19.7   \n",
       "5  06-01-1940                     30.5                     19.8   \n",
       "\n",
       "  sunrise (iso8601)  sunset (iso8601)  precipitation_sum (mm)  rain_sum (mm)  \\\n",
       "1  1940-01-02T06:39  1940-01-02T18:17                     0.0            0.0   \n",
       "2  1940-01-03T06:40  1940-01-03T18:17                     0.0            0.0   \n",
       "3  1940-01-04T06:40  1940-01-04T18:18                     0.2            0.2   \n",
       "4  1940-01-05T06:40  1940-01-05T18:18                     0.0            0.0   \n",
       "5  1940-01-06T06:41  1940-01-06T18:19                     0.0            0.0   \n",
       "\n",
       "   snowfall_sum (cm)  precipitation_hours (h)  windspeed_10m_max (km/h)  \\\n",
       "1                0.0                        0                      13.0   \n",
       "2                0.0                        0                      13.0   \n",
       "3                0.0                        2                      13.0   \n",
       "4                0.0                        0                      11.9   \n",
       "5                0.0                        0                      13.0   \n",
       "\n",
       "   windgusts_10m_max (km/h)  Label time_in_format  Day  Month  Year  \\\n",
       "1                      30.2     -1     1940-01-02    2      1  1940   \n",
       "2                      30.6     -1     1940-01-03    3      1  1940   \n",
       "3                      30.6     -1     1940-01-04    4      1  1940   \n",
       "4                      27.0     -1     1940-01-05    5      1  1940   \n",
       "5                      28.1     -1     1940-01-06    6      1  1940   \n",
       "\n",
       "   sunrise_hour  sunrise_minutes  sunset_hour  sunset_minutes  \n",
       "1             6               39           18              17  \n",
       "2             6               40           18              17  \n",
       "3             6               40           18              18  \n",
       "4             6               40           18              18  \n",
       "5             6               41           18              19  "
      ]
     },
     "execution_count": 29,
     "metadata": {},
     "output_type": "execute_result"
    }
   ],
   "source": [
    "data_weather.head()"
   ]
  },
  {
   "cell_type": "code",
   "execution_count": 30,
   "metadata": {},
   "outputs": [],
   "source": [
    "data_weather.loc[(data_weather.Month<6), 'Label'] = 0"
   ]
  },
  {
   "cell_type": "code",
   "execution_count": 31,
   "metadata": {},
   "outputs": [],
   "source": [
    "data_weather.loc[data_weather.Month>10, 'Label'] = 0"
   ]
  },
  {
   "cell_type": "code",
   "execution_count": 27,
   "metadata": {
    "collapsed": true
   },
   "outputs": [
    {
     "data": {
      "text/plain": [
       "274     -1\n",
       "275     -1\n",
       "276     -1\n",
       "277     -1\n",
       "278     -1\n",
       "        ..\n",
       "30250   -1\n",
       "30251   -1\n",
       "30252   -1\n",
       "30253   -1\n",
       "30254   -1\n",
       "Name: Label, Length: 2573, dtype: int64"
      ]
     },
     "execution_count": 27,
     "metadata": {},
     "output_type": "execute_result"
    }
   ],
   "source": [
    "data_weather.loc[data_weather.Month==10, 'Label']"
   ]
  },
  {
   "cell_type": "code",
   "execution_count": 32,
   "metadata": {},
   "outputs": [
    {
     "data": {
      "text/plain": [
       " 0    17697\n",
       "-1    12683\n",
       " 1       16\n",
       "Name: Label, dtype: int64"
      ]
     },
     "execution_count": 32,
     "metadata": {},
     "output_type": "execute_result"
    }
   ],
   "source": [
    "data_weather.Label.value_counts()"
   ]
  },
  {
   "cell_type": "code",
   "execution_count": 30,
   "metadata": {
    "collapsed": true
   },
   "outputs": [
    {
     "data": {
      "text/html": [
       "<div>\n",
       "<style scoped>\n",
       "    .dataframe tbody tr th:only-of-type {\n",
       "        vertical-align: middle;\n",
       "    }\n",
       "\n",
       "    .dataframe tbody tr th {\n",
       "        vertical-align: top;\n",
       "    }\n",
       "\n",
       "    .dataframe thead th {\n",
       "        text-align: right;\n",
       "    }\n",
       "</style>\n",
       "<table border=\"1\" class=\"dataframe\">\n",
       "  <thead>\n",
       "    <tr style=\"text-align: right;\">\n",
       "      <th></th>\n",
       "      <th>time</th>\n",
       "      <th>temperature_2m_max (°C)</th>\n",
       "      <th>temperature_2m_min (°C)</th>\n",
       "      <th>sunrise (iso8601)</th>\n",
       "      <th>sunset (iso8601)</th>\n",
       "      <th>precipitation_sum (mm)</th>\n",
       "      <th>rain_sum (mm)</th>\n",
       "      <th>snowfall_sum (cm)</th>\n",
       "      <th>precipitation_hours (h)</th>\n",
       "      <th>windspeed_10m_max (km/h)</th>\n",
       "      <th>windgusts_10m_max (km/h)</th>\n",
       "      <th>Label</th>\n",
       "      <th>time_in_format</th>\n",
       "      <th>Day</th>\n",
       "      <th>Month</th>\n",
       "      <th>Year</th>\n",
       "      <th>sunrise_hour</th>\n",
       "      <th>sunrise_minutes</th>\n",
       "      <th>sunset_hour</th>\n",
       "      <th>sunset_minutes</th>\n",
       "    </tr>\n",
       "  </thead>\n",
       "  <tbody>\n",
       "    <tr>\n",
       "      <th>1</th>\n",
       "      <td>02-01-1940</td>\n",
       "      <td>30.7</td>\n",
       "      <td>19.0</td>\n",
       "      <td>1940-01-02T06:39</td>\n",
       "      <td>1940-01-02T18:17</td>\n",
       "      <td>0.0</td>\n",
       "      <td>0.0</td>\n",
       "      <td>0.0</td>\n",
       "      <td>0</td>\n",
       "      <td>13.0</td>\n",
       "      <td>30.2</td>\n",
       "      <td>0</td>\n",
       "      <td>1940-01-02</td>\n",
       "      <td>2</td>\n",
       "      <td>1</td>\n",
       "      <td>1940</td>\n",
       "      <td>6</td>\n",
       "      <td>39</td>\n",
       "      <td>18</td>\n",
       "      <td>17</td>\n",
       "    </tr>\n",
       "    <tr>\n",
       "      <th>2</th>\n",
       "      <td>03-01-1940</td>\n",
       "      <td>30.8</td>\n",
       "      <td>20.5</td>\n",
       "      <td>1940-01-03T06:40</td>\n",
       "      <td>1940-01-03T18:17</td>\n",
       "      <td>0.0</td>\n",
       "      <td>0.0</td>\n",
       "      <td>0.0</td>\n",
       "      <td>0</td>\n",
       "      <td>13.0</td>\n",
       "      <td>30.6</td>\n",
       "      <td>0</td>\n",
       "      <td>1940-01-03</td>\n",
       "      <td>3</td>\n",
       "      <td>1</td>\n",
       "      <td>1940</td>\n",
       "      <td>6</td>\n",
       "      <td>40</td>\n",
       "      <td>18</td>\n",
       "      <td>17</td>\n",
       "    </tr>\n",
       "    <tr>\n",
       "      <th>3</th>\n",
       "      <td>04-01-1940</td>\n",
       "      <td>30.8</td>\n",
       "      <td>20.6</td>\n",
       "      <td>1940-01-04T06:40</td>\n",
       "      <td>1940-01-04T18:18</td>\n",
       "      <td>0.2</td>\n",
       "      <td>0.2</td>\n",
       "      <td>0.0</td>\n",
       "      <td>2</td>\n",
       "      <td>13.0</td>\n",
       "      <td>30.6</td>\n",
       "      <td>0</td>\n",
       "      <td>1940-01-04</td>\n",
       "      <td>4</td>\n",
       "      <td>1</td>\n",
       "      <td>1940</td>\n",
       "      <td>6</td>\n",
       "      <td>40</td>\n",
       "      <td>18</td>\n",
       "      <td>18</td>\n",
       "    </tr>\n",
       "    <tr>\n",
       "      <th>4</th>\n",
       "      <td>05-01-1940</td>\n",
       "      <td>30.5</td>\n",
       "      <td>19.7</td>\n",
       "      <td>1940-01-05T06:40</td>\n",
       "      <td>1940-01-05T18:18</td>\n",
       "      <td>0.0</td>\n",
       "      <td>0.0</td>\n",
       "      <td>0.0</td>\n",
       "      <td>0</td>\n",
       "      <td>11.9</td>\n",
       "      <td>27.0</td>\n",
       "      <td>0</td>\n",
       "      <td>1940-01-05</td>\n",
       "      <td>5</td>\n",
       "      <td>1</td>\n",
       "      <td>1940</td>\n",
       "      <td>6</td>\n",
       "      <td>40</td>\n",
       "      <td>18</td>\n",
       "      <td>18</td>\n",
       "    </tr>\n",
       "    <tr>\n",
       "      <th>5</th>\n",
       "      <td>06-01-1940</td>\n",
       "      <td>30.5</td>\n",
       "      <td>19.8</td>\n",
       "      <td>1940-01-06T06:41</td>\n",
       "      <td>1940-01-06T18:19</td>\n",
       "      <td>0.0</td>\n",
       "      <td>0.0</td>\n",
       "      <td>0.0</td>\n",
       "      <td>0</td>\n",
       "      <td>13.0</td>\n",
       "      <td>28.1</td>\n",
       "      <td>0</td>\n",
       "      <td>1940-01-06</td>\n",
       "      <td>6</td>\n",
       "      <td>1</td>\n",
       "      <td>1940</td>\n",
       "      <td>6</td>\n",
       "      <td>41</td>\n",
       "      <td>18</td>\n",
       "      <td>19</td>\n",
       "    </tr>\n",
       "  </tbody>\n",
       "</table>\n",
       "</div>"
      ],
      "text/plain": [
       "         time  temperature_2m_max (°C)  temperature_2m_min (°C)  \\\n",
       "1  02-01-1940                     30.7                     19.0   \n",
       "2  03-01-1940                     30.8                     20.5   \n",
       "3  04-01-1940                     30.8                     20.6   \n",
       "4  05-01-1940                     30.5                     19.7   \n",
       "5  06-01-1940                     30.5                     19.8   \n",
       "\n",
       "  sunrise (iso8601)  sunset (iso8601)  precipitation_sum (mm)  rain_sum (mm)  \\\n",
       "1  1940-01-02T06:39  1940-01-02T18:17                     0.0            0.0   \n",
       "2  1940-01-03T06:40  1940-01-03T18:17                     0.0            0.0   \n",
       "3  1940-01-04T06:40  1940-01-04T18:18                     0.2            0.2   \n",
       "4  1940-01-05T06:40  1940-01-05T18:18                     0.0            0.0   \n",
       "5  1940-01-06T06:41  1940-01-06T18:19                     0.0            0.0   \n",
       "\n",
       "   snowfall_sum (cm)  precipitation_hours (h)  windspeed_10m_max (km/h)  \\\n",
       "1                0.0                        0                      13.0   \n",
       "2                0.0                        0                      13.0   \n",
       "3                0.0                        2                      13.0   \n",
       "4                0.0                        0                      11.9   \n",
       "5                0.0                        0                      13.0   \n",
       "\n",
       "   windgusts_10m_max (km/h)  Label time_in_format  Day  Month  Year  \\\n",
       "1                      30.2      0     1940-01-02    2      1  1940   \n",
       "2                      30.6      0     1940-01-03    3      1  1940   \n",
       "3                      30.6      0     1940-01-04    4      1  1940   \n",
       "4                      27.0      0     1940-01-05    5      1  1940   \n",
       "5                      28.1      0     1940-01-06    6      1  1940   \n",
       "\n",
       "   sunrise_hour  sunrise_minutes  sunset_hour  sunset_minutes  \n",
       "1             6               39           18              17  \n",
       "2             6               40           18              17  \n",
       "3             6               40           18              18  \n",
       "4             6               40           18              18  \n",
       "5             6               41           18              19  "
      ]
     },
     "execution_count": 30,
     "metadata": {},
     "output_type": "execute_result"
    }
   ],
   "source": [
    "data_weather.head()"
   ]
  },
  {
   "cell_type": "code",
   "execution_count": 69,
   "metadata": {},
   "outputs": [
    {
     "data": {
      "text/plain": [
       "(30396, 20)"
      ]
     },
     "execution_count": 69,
     "metadata": {},
     "output_type": "execute_result"
    }
   ],
   "source": [
    "data_weather.shape"
   ]
  },
  {
   "cell_type": "markdown",
   "metadata": {},
   "source": [
    "## Manual SSL"
   ]
  },
  {
   "cell_type": "markdown",
   "metadata": {},
   "source": [
    "Hold-out records of 1961-06-01 to 1961-10-30 and of 2005-06-01 to 2005-10-30. During these two years Alappuzha had flood, but dates are not obvious.\n",
    "\n",
    "Train a classifier on remaining flood labelled data by up-sampling using SMOTE. Then try to predict on above hold-out data."
   ]
  },
  {
   "cell_type": "code",
   "execution_count": 33,
   "metadata": {
    "scrolled": true
   },
   "outputs": [],
   "source": [
    "data_weather_hold_1961 = data_weather.loc[(data_weather['time_in_format'] >= pd.Timestamp('1961-06-01 00:00:00')) & \n",
    "                  (data_weather['time_in_format'] <= pd.Timestamp('1961-09-30 00:00:00'))]"
   ]
  },
  {
   "cell_type": "code",
   "execution_count": 34,
   "metadata": {
    "collapsed": true
   },
   "outputs": [
    {
     "data": {
      "text/plain": [
       "7822    01-06-1961\n",
       "7823    02-06-1961\n",
       "7824    03-06-1961\n",
       "7825    04-06-1961\n",
       "7826    05-06-1961\n",
       "           ...    \n",
       "7939    26-09-1961\n",
       "7940    27-09-1961\n",
       "7941    28-09-1961\n",
       "7942    29-09-1961\n",
       "7943    30-09-1961\n",
       "Name: time, Length: 122, dtype: object"
      ]
     },
     "execution_count": 34,
     "metadata": {},
     "output_type": "execute_result"
    }
   ],
   "source": [
    "data_weather_hold_1961_time = data_weather_hold_1961.time\n",
    "data_weather_hold_1961_time"
   ]
  },
  {
   "cell_type": "code",
   "execution_count": 35,
   "metadata": {},
   "outputs": [],
   "source": [
    "data_weather_hold_2005 = data_weather.loc[(data_weather['time_in_format'] >= pd.Timestamp('2005-06-01 00:00:00')) & \n",
    "                  (data_weather['time_in_format'] <= pd.Timestamp('2005-09-30 00:00:00'))]"
   ]
  },
  {
   "cell_type": "code",
   "execution_count": 33,
   "metadata": {
    "collapsed": true
   },
   "outputs": [
    {
     "data": {
      "text/html": [
       "<div>\n",
       "<style scoped>\n",
       "    .dataframe tbody tr th:only-of-type {\n",
       "        vertical-align: middle;\n",
       "    }\n",
       "\n",
       "    .dataframe tbody tr th {\n",
       "        vertical-align: top;\n",
       "    }\n",
       "\n",
       "    .dataframe thead th {\n",
       "        text-align: right;\n",
       "    }\n",
       "</style>\n",
       "<table border=\"1\" class=\"dataframe\">\n",
       "  <thead>\n",
       "    <tr style=\"text-align: right;\">\n",
       "      <th></th>\n",
       "      <th>time</th>\n",
       "      <th>temperature_2m_max (°C)</th>\n",
       "      <th>temperature_2m_min (°C)</th>\n",
       "      <th>sunrise (iso8601)</th>\n",
       "      <th>sunset (iso8601)</th>\n",
       "      <th>precipitation_sum (mm)</th>\n",
       "      <th>rain_sum (mm)</th>\n",
       "      <th>snowfall_sum (cm)</th>\n",
       "      <th>precipitation_hours (h)</th>\n",
       "      <th>windspeed_10m_max (km/h)</th>\n",
       "      <th>windgusts_10m_max (km/h)</th>\n",
       "      <th>Label</th>\n",
       "      <th>time_in_format</th>\n",
       "      <th>Day</th>\n",
       "      <th>Month</th>\n",
       "      <th>Year</th>\n",
       "      <th>sunrise_hour</th>\n",
       "      <th>sunrise_minutes</th>\n",
       "      <th>sunset_hour</th>\n",
       "      <th>sunset_minutes</th>\n",
       "    </tr>\n",
       "  </thead>\n",
       "  <tbody>\n",
       "    <tr>\n",
       "      <th>24010</th>\n",
       "      <td>26-09-2005</td>\n",
       "      <td>28.3</td>\n",
       "      <td>23.8</td>\n",
       "      <td>2005-09-26T06:12</td>\n",
       "      <td>2005-09-26T18:19</td>\n",
       "      <td>1.4</td>\n",
       "      <td>1.4</td>\n",
       "      <td>0.0</td>\n",
       "      <td>5</td>\n",
       "      <td>12.4</td>\n",
       "      <td>31.7</td>\n",
       "      <td>-1</td>\n",
       "      <td>2005-09-26</td>\n",
       "      <td>26</td>\n",
       "      <td>9</td>\n",
       "      <td>2005</td>\n",
       "      <td>6</td>\n",
       "      <td>12</td>\n",
       "      <td>18</td>\n",
       "      <td>19</td>\n",
       "    </tr>\n",
       "    <tr>\n",
       "      <th>24011</th>\n",
       "      <td>27-09-2005</td>\n",
       "      <td>28.5</td>\n",
       "      <td>24.1</td>\n",
       "      <td>2005-09-27T06:12</td>\n",
       "      <td>2005-09-27T18:18</td>\n",
       "      <td>0.7</td>\n",
       "      <td>0.7</td>\n",
       "      <td>0.0</td>\n",
       "      <td>2</td>\n",
       "      <td>12.9</td>\n",
       "      <td>32.4</td>\n",
       "      <td>-1</td>\n",
       "      <td>2005-09-27</td>\n",
       "      <td>27</td>\n",
       "      <td>9</td>\n",
       "      <td>2005</td>\n",
       "      <td>6</td>\n",
       "      <td>12</td>\n",
       "      <td>18</td>\n",
       "      <td>18</td>\n",
       "    </tr>\n",
       "    <tr>\n",
       "      <th>24012</th>\n",
       "      <td>28-09-2005</td>\n",
       "      <td>28.5</td>\n",
       "      <td>24.2</td>\n",
       "      <td>2005-09-28T06:12</td>\n",
       "      <td>2005-09-28T18:18</td>\n",
       "      <td>2.2</td>\n",
       "      <td>2.2</td>\n",
       "      <td>0.0</td>\n",
       "      <td>11</td>\n",
       "      <td>11.5</td>\n",
       "      <td>30.6</td>\n",
       "      <td>-1</td>\n",
       "      <td>2005-09-28</td>\n",
       "      <td>28</td>\n",
       "      <td>9</td>\n",
       "      <td>2005</td>\n",
       "      <td>6</td>\n",
       "      <td>12</td>\n",
       "      <td>18</td>\n",
       "      <td>18</td>\n",
       "    </tr>\n",
       "    <tr>\n",
       "      <th>24013</th>\n",
       "      <td>29-09-2005</td>\n",
       "      <td>28.3</td>\n",
       "      <td>24.2</td>\n",
       "      <td>2005-09-29T06:12</td>\n",
       "      <td>2005-09-29T18:17</td>\n",
       "      <td>1.2</td>\n",
       "      <td>1.2</td>\n",
       "      <td>0.0</td>\n",
       "      <td>6</td>\n",
       "      <td>12.3</td>\n",
       "      <td>34.2</td>\n",
       "      <td>-1</td>\n",
       "      <td>2005-09-29</td>\n",
       "      <td>29</td>\n",
       "      <td>9</td>\n",
       "      <td>2005</td>\n",
       "      <td>6</td>\n",
       "      <td>12</td>\n",
       "      <td>18</td>\n",
       "      <td>17</td>\n",
       "    </tr>\n",
       "    <tr>\n",
       "      <th>24014</th>\n",
       "      <td>30-09-2005</td>\n",
       "      <td>28.1</td>\n",
       "      <td>24.0</td>\n",
       "      <td>2005-09-30T06:12</td>\n",
       "      <td>2005-09-30T18:17</td>\n",
       "      <td>1.3</td>\n",
       "      <td>1.3</td>\n",
       "      <td>0.0</td>\n",
       "      <td>7</td>\n",
       "      <td>14.1</td>\n",
       "      <td>32.0</td>\n",
       "      <td>-1</td>\n",
       "      <td>2005-09-30</td>\n",
       "      <td>30</td>\n",
       "      <td>9</td>\n",
       "      <td>2005</td>\n",
       "      <td>6</td>\n",
       "      <td>12</td>\n",
       "      <td>18</td>\n",
       "      <td>17</td>\n",
       "    </tr>\n",
       "  </tbody>\n",
       "</table>\n",
       "</div>"
      ],
      "text/plain": [
       "             time  temperature_2m_max (°C)  temperature_2m_min (°C)  \\\n",
       "24010  26-09-2005                     28.3                     23.8   \n",
       "24011  27-09-2005                     28.5                     24.1   \n",
       "24012  28-09-2005                     28.5                     24.2   \n",
       "24013  29-09-2005                     28.3                     24.2   \n",
       "24014  30-09-2005                     28.1                     24.0   \n",
       "\n",
       "      sunrise (iso8601)  sunset (iso8601)  precipitation_sum (mm)  \\\n",
       "24010  2005-09-26T06:12  2005-09-26T18:19                     1.4   \n",
       "24011  2005-09-27T06:12  2005-09-27T18:18                     0.7   \n",
       "24012  2005-09-28T06:12  2005-09-28T18:18                     2.2   \n",
       "24013  2005-09-29T06:12  2005-09-29T18:17                     1.2   \n",
       "24014  2005-09-30T06:12  2005-09-30T18:17                     1.3   \n",
       "\n",
       "       rain_sum (mm)  snowfall_sum (cm)  precipitation_hours (h)  \\\n",
       "24010            1.4                0.0                        5   \n",
       "24011            0.7                0.0                        2   \n",
       "24012            2.2                0.0                       11   \n",
       "24013            1.2                0.0                        6   \n",
       "24014            1.3                0.0                        7   \n",
       "\n",
       "       windspeed_10m_max (km/h)  windgusts_10m_max (km/h)  Label  \\\n",
       "24010                      12.4                      31.7     -1   \n",
       "24011                      12.9                      32.4     -1   \n",
       "24012                      11.5                      30.6     -1   \n",
       "24013                      12.3                      34.2     -1   \n",
       "24014                      14.1                      32.0     -1   \n",
       "\n",
       "      time_in_format  Day  Month  Year  sunrise_hour  sunrise_minutes  \\\n",
       "24010     2005-09-26   26      9  2005             6               12   \n",
       "24011     2005-09-27   27      9  2005             6               12   \n",
       "24012     2005-09-28   28      9  2005             6               12   \n",
       "24013     2005-09-29   29      9  2005             6               12   \n",
       "24014     2005-09-30   30      9  2005             6               12   \n",
       "\n",
       "       sunset_hour  sunset_minutes  \n",
       "24010           18              19  \n",
       "24011           18              18  \n",
       "24012           18              18  \n",
       "24013           18              17  \n",
       "24014           18              17  "
      ]
     },
     "execution_count": 33,
     "metadata": {},
     "output_type": "execute_result"
    }
   ],
   "source": [
    "data_weather_hold_2005.tail()"
   ]
  },
  {
   "cell_type": "code",
   "execution_count": 36,
   "metadata": {},
   "outputs": [],
   "source": [
    "data_weather_hold_2005_time = data_weather_hold_2005.time"
   ]
  },
  {
   "cell_type": "code",
   "execution_count": 37,
   "metadata": {},
   "outputs": [
    {
     "name": "stderr",
     "output_type": "stream",
     "text": [
      "C:\\Users\\admin\\anaconda3\\lib\\site-packages\\pandas\\core\\frame.py:4908: SettingWithCopyWarning: \n",
      "A value is trying to be set on a copy of a slice from a DataFrame\n",
      "\n",
      "See the caveats in the documentation: https://pandas.pydata.org/pandas-docs/stable/user_guide/indexing.html#returning-a-view-versus-a-copy\n",
      "  errors=errors,\n"
     ]
    }
   ],
   "source": [
    "data_weather_hold_1961.drop(['time', 'time_in_format', 'sunrise (iso8601)', 'sunset (iso8601)'], axis=1, inplace=True)"
   ]
  },
  {
   "cell_type": "code",
   "execution_count": 38,
   "metadata": {},
   "outputs": [],
   "source": [
    "data_weather_hold_2005.drop(['time', 'time_in_format', 'sunrise (iso8601)', 'sunset (iso8601)'], axis=1, inplace=True)"
   ]
  },
  {
   "cell_type": "code",
   "execution_count": 37,
   "metadata": {},
   "outputs": [
    {
     "data": {
      "text/html": [
       "<div>\n",
       "<style scoped>\n",
       "    .dataframe tbody tr th:only-of-type {\n",
       "        vertical-align: middle;\n",
       "    }\n",
       "\n",
       "    .dataframe tbody tr th {\n",
       "        vertical-align: top;\n",
       "    }\n",
       "\n",
       "    .dataframe thead th {\n",
       "        text-align: right;\n",
       "    }\n",
       "</style>\n",
       "<table border=\"1\" class=\"dataframe\">\n",
       "  <thead>\n",
       "    <tr style=\"text-align: right;\">\n",
       "      <th></th>\n",
       "      <th>time</th>\n",
       "      <th>temperature_2m_max (°C)</th>\n",
       "      <th>temperature_2m_min (°C)</th>\n",
       "      <th>sunrise (iso8601)</th>\n",
       "      <th>sunset (iso8601)</th>\n",
       "      <th>precipitation_sum (mm)</th>\n",
       "      <th>rain_sum (mm)</th>\n",
       "      <th>snowfall_sum (cm)</th>\n",
       "      <th>precipitation_hours (h)</th>\n",
       "      <th>windspeed_10m_max (km/h)</th>\n",
       "      <th>windgusts_10m_max (km/h)</th>\n",
       "      <th>Label</th>\n",
       "      <th>time_in_format</th>\n",
       "      <th>Day</th>\n",
       "      <th>Month</th>\n",
       "      <th>Year</th>\n",
       "      <th>sunrise_hour</th>\n",
       "      <th>sunrise_minutes</th>\n",
       "      <th>sunset_hour</th>\n",
       "      <th>sunset_minutes</th>\n",
       "    </tr>\n",
       "  </thead>\n",
       "  <tbody>\n",
       "    <tr>\n",
       "      <th>1</th>\n",
       "      <td>02-01-1940</td>\n",
       "      <td>30.7</td>\n",
       "      <td>19.0</td>\n",
       "      <td>1940-01-02T06:39</td>\n",
       "      <td>1940-01-02T18:17</td>\n",
       "      <td>0.0</td>\n",
       "      <td>0.0</td>\n",
       "      <td>0.0</td>\n",
       "      <td>0</td>\n",
       "      <td>13.0</td>\n",
       "      <td>30.2</td>\n",
       "      <td>0</td>\n",
       "      <td>1940-01-02</td>\n",
       "      <td>2</td>\n",
       "      <td>1</td>\n",
       "      <td>1940</td>\n",
       "      <td>6</td>\n",
       "      <td>39</td>\n",
       "      <td>18</td>\n",
       "      <td>17</td>\n",
       "    </tr>\n",
       "    <tr>\n",
       "      <th>2</th>\n",
       "      <td>03-01-1940</td>\n",
       "      <td>30.8</td>\n",
       "      <td>20.5</td>\n",
       "      <td>1940-01-03T06:40</td>\n",
       "      <td>1940-01-03T18:17</td>\n",
       "      <td>0.0</td>\n",
       "      <td>0.0</td>\n",
       "      <td>0.0</td>\n",
       "      <td>0</td>\n",
       "      <td>13.0</td>\n",
       "      <td>30.6</td>\n",
       "      <td>0</td>\n",
       "      <td>1940-01-03</td>\n",
       "      <td>3</td>\n",
       "      <td>1</td>\n",
       "      <td>1940</td>\n",
       "      <td>6</td>\n",
       "      <td>40</td>\n",
       "      <td>18</td>\n",
       "      <td>17</td>\n",
       "    </tr>\n",
       "    <tr>\n",
       "      <th>3</th>\n",
       "      <td>04-01-1940</td>\n",
       "      <td>30.8</td>\n",
       "      <td>20.6</td>\n",
       "      <td>1940-01-04T06:40</td>\n",
       "      <td>1940-01-04T18:18</td>\n",
       "      <td>0.2</td>\n",
       "      <td>0.2</td>\n",
       "      <td>0.0</td>\n",
       "      <td>2</td>\n",
       "      <td>13.0</td>\n",
       "      <td>30.6</td>\n",
       "      <td>0</td>\n",
       "      <td>1940-01-04</td>\n",
       "      <td>4</td>\n",
       "      <td>1</td>\n",
       "      <td>1940</td>\n",
       "      <td>6</td>\n",
       "      <td>40</td>\n",
       "      <td>18</td>\n",
       "      <td>18</td>\n",
       "    </tr>\n",
       "    <tr>\n",
       "      <th>4</th>\n",
       "      <td>05-01-1940</td>\n",
       "      <td>30.5</td>\n",
       "      <td>19.7</td>\n",
       "      <td>1940-01-05T06:40</td>\n",
       "      <td>1940-01-05T18:18</td>\n",
       "      <td>0.0</td>\n",
       "      <td>0.0</td>\n",
       "      <td>0.0</td>\n",
       "      <td>0</td>\n",
       "      <td>11.9</td>\n",
       "      <td>27.0</td>\n",
       "      <td>0</td>\n",
       "      <td>1940-01-05</td>\n",
       "      <td>5</td>\n",
       "      <td>1</td>\n",
       "      <td>1940</td>\n",
       "      <td>6</td>\n",
       "      <td>40</td>\n",
       "      <td>18</td>\n",
       "      <td>18</td>\n",
       "    </tr>\n",
       "    <tr>\n",
       "      <th>5</th>\n",
       "      <td>06-01-1940</td>\n",
       "      <td>30.5</td>\n",
       "      <td>19.8</td>\n",
       "      <td>1940-01-06T06:41</td>\n",
       "      <td>1940-01-06T18:19</td>\n",
       "      <td>0.0</td>\n",
       "      <td>0.0</td>\n",
       "      <td>0.0</td>\n",
       "      <td>0</td>\n",
       "      <td>13.0</td>\n",
       "      <td>28.1</td>\n",
       "      <td>0</td>\n",
       "      <td>1940-01-06</td>\n",
       "      <td>6</td>\n",
       "      <td>1</td>\n",
       "      <td>1940</td>\n",
       "      <td>6</td>\n",
       "      <td>41</td>\n",
       "      <td>18</td>\n",
       "      <td>19</td>\n",
       "    </tr>\n",
       "  </tbody>\n",
       "</table>\n",
       "</div>"
      ],
      "text/plain": [
       "         time  temperature_2m_max (°C)  temperature_2m_min (°C)  \\\n",
       "1  02-01-1940                     30.7                     19.0   \n",
       "2  03-01-1940                     30.8                     20.5   \n",
       "3  04-01-1940                     30.8                     20.6   \n",
       "4  05-01-1940                     30.5                     19.7   \n",
       "5  06-01-1940                     30.5                     19.8   \n",
       "\n",
       "  sunrise (iso8601)  sunset (iso8601)  precipitation_sum (mm)  rain_sum (mm)  \\\n",
       "1  1940-01-02T06:39  1940-01-02T18:17                     0.0            0.0   \n",
       "2  1940-01-03T06:40  1940-01-03T18:17                     0.0            0.0   \n",
       "3  1940-01-04T06:40  1940-01-04T18:18                     0.2            0.2   \n",
       "4  1940-01-05T06:40  1940-01-05T18:18                     0.0            0.0   \n",
       "5  1940-01-06T06:41  1940-01-06T18:19                     0.0            0.0   \n",
       "\n",
       "   snowfall_sum (cm)  precipitation_hours (h)  windspeed_10m_max (km/h)  \\\n",
       "1                0.0                        0                      13.0   \n",
       "2                0.0                        0                      13.0   \n",
       "3                0.0                        2                      13.0   \n",
       "4                0.0                        0                      11.9   \n",
       "5                0.0                        0                      13.0   \n",
       "\n",
       "   windgusts_10m_max (km/h)  Label time_in_format  Day  Month  Year  \\\n",
       "1                      30.2      0     1940-01-02    2      1  1940   \n",
       "2                      30.6      0     1940-01-03    3      1  1940   \n",
       "3                      30.6      0     1940-01-04    4      1  1940   \n",
       "4                      27.0      0     1940-01-05    5      1  1940   \n",
       "5                      28.1      0     1940-01-06    6      1  1940   \n",
       "\n",
       "   sunrise_hour  sunrise_minutes  sunset_hour  sunset_minutes  \n",
       "1             6               39           18              17  \n",
       "2             6               40           18              17  \n",
       "3             6               40           18              18  \n",
       "4             6               40           18              18  \n",
       "5             6               41           18              19  "
      ]
     },
     "execution_count": 37,
     "metadata": {},
     "output_type": "execute_result"
    }
   ],
   "source": [
    "data_weather.head()"
   ]
  },
  {
   "cell_type": "code",
   "execution_count": 39,
   "metadata": {},
   "outputs": [],
   "source": [
    "data_man_ssl = data_weather.copy()"
   ]
  },
  {
   "cell_type": "code",
   "execution_count": 40,
   "metadata": {},
   "outputs": [],
   "source": [
    "data_man_ssl.drop(data_weather_hold_1961.index, axis=0, inplace=True)"
   ]
  },
  {
   "cell_type": "code",
   "execution_count": 41,
   "metadata": {},
   "outputs": [],
   "source": [
    "data_man_ssl.drop(data_weather_hold_2005.index, axis=0, inplace=True)"
   ]
  },
  {
   "cell_type": "markdown",
   "metadata": {},
   "source": [
    "Making all remaining -1 as 0 Label value."
   ]
  },
  {
   "cell_type": "code",
   "execution_count": 42,
   "metadata": {},
   "outputs": [],
   "source": [
    "data_man_ssl.loc[data_man_ssl['Label'] == -1] = 0"
   ]
  },
  {
   "cell_type": "code",
   "execution_count": 43,
   "metadata": {},
   "outputs": [
    {
     "data": {
      "text/plain": [
       "0    30136\n",
       "1       16\n",
       "Name: Label, dtype: int64"
      ]
     },
     "execution_count": 43,
     "metadata": {},
     "output_type": "execute_result"
    }
   ],
   "source": [
    "data_man_ssl.Label.value_counts()"
   ]
  },
  {
   "cell_type": "code",
   "execution_count": 44,
   "metadata": {},
   "outputs": [],
   "source": [
    "data_man_ssl.drop(['time', 'time_in_format', 'sunrise (iso8601)', 'sunset (iso8601)'], axis=1, inplace=True)"
   ]
  },
  {
   "cell_type": "code",
   "execution_count": 45,
   "metadata": {},
   "outputs": [
    {
     "data": {
      "text/html": [
       "<div>\n",
       "<style scoped>\n",
       "    .dataframe tbody tr th:only-of-type {\n",
       "        vertical-align: middle;\n",
       "    }\n",
       "\n",
       "    .dataframe tbody tr th {\n",
       "        vertical-align: top;\n",
       "    }\n",
       "\n",
       "    .dataframe thead th {\n",
       "        text-align: right;\n",
       "    }\n",
       "</style>\n",
       "<table border=\"1\" class=\"dataframe\">\n",
       "  <thead>\n",
       "    <tr style=\"text-align: right;\">\n",
       "      <th></th>\n",
       "      <th>temperature_2m_max (°C)</th>\n",
       "      <th>temperature_2m_min (°C)</th>\n",
       "      <th>precipitation_sum (mm)</th>\n",
       "      <th>rain_sum (mm)</th>\n",
       "      <th>snowfall_sum (cm)</th>\n",
       "      <th>precipitation_hours (h)</th>\n",
       "      <th>windspeed_10m_max (km/h)</th>\n",
       "      <th>windgusts_10m_max (km/h)</th>\n",
       "      <th>Label</th>\n",
       "      <th>Day</th>\n",
       "      <th>Month</th>\n",
       "      <th>Year</th>\n",
       "      <th>sunrise_hour</th>\n",
       "      <th>sunrise_minutes</th>\n",
       "      <th>sunset_hour</th>\n",
       "      <th>sunset_minutes</th>\n",
       "    </tr>\n",
       "  </thead>\n",
       "  <tbody>\n",
       "    <tr>\n",
       "      <th>1</th>\n",
       "      <td>30.7</td>\n",
       "      <td>19.0</td>\n",
       "      <td>0.0</td>\n",
       "      <td>0.0</td>\n",
       "      <td>0.0</td>\n",
       "      <td>0</td>\n",
       "      <td>13.0</td>\n",
       "      <td>30.2</td>\n",
       "      <td>0</td>\n",
       "      <td>2</td>\n",
       "      <td>1</td>\n",
       "      <td>1940</td>\n",
       "      <td>6</td>\n",
       "      <td>39</td>\n",
       "      <td>18</td>\n",
       "      <td>17</td>\n",
       "    </tr>\n",
       "    <tr>\n",
       "      <th>2</th>\n",
       "      <td>30.8</td>\n",
       "      <td>20.5</td>\n",
       "      <td>0.0</td>\n",
       "      <td>0.0</td>\n",
       "      <td>0.0</td>\n",
       "      <td>0</td>\n",
       "      <td>13.0</td>\n",
       "      <td>30.6</td>\n",
       "      <td>0</td>\n",
       "      <td>3</td>\n",
       "      <td>1</td>\n",
       "      <td>1940</td>\n",
       "      <td>6</td>\n",
       "      <td>40</td>\n",
       "      <td>18</td>\n",
       "      <td>17</td>\n",
       "    </tr>\n",
       "    <tr>\n",
       "      <th>3</th>\n",
       "      <td>30.8</td>\n",
       "      <td>20.6</td>\n",
       "      <td>0.2</td>\n",
       "      <td>0.2</td>\n",
       "      <td>0.0</td>\n",
       "      <td>2</td>\n",
       "      <td>13.0</td>\n",
       "      <td>30.6</td>\n",
       "      <td>0</td>\n",
       "      <td>4</td>\n",
       "      <td>1</td>\n",
       "      <td>1940</td>\n",
       "      <td>6</td>\n",
       "      <td>40</td>\n",
       "      <td>18</td>\n",
       "      <td>18</td>\n",
       "    </tr>\n",
       "    <tr>\n",
       "      <th>4</th>\n",
       "      <td>30.5</td>\n",
       "      <td>19.7</td>\n",
       "      <td>0.0</td>\n",
       "      <td>0.0</td>\n",
       "      <td>0.0</td>\n",
       "      <td>0</td>\n",
       "      <td>11.9</td>\n",
       "      <td>27.0</td>\n",
       "      <td>0</td>\n",
       "      <td>5</td>\n",
       "      <td>1</td>\n",
       "      <td>1940</td>\n",
       "      <td>6</td>\n",
       "      <td>40</td>\n",
       "      <td>18</td>\n",
       "      <td>18</td>\n",
       "    </tr>\n",
       "    <tr>\n",
       "      <th>5</th>\n",
       "      <td>30.5</td>\n",
       "      <td>19.8</td>\n",
       "      <td>0.0</td>\n",
       "      <td>0.0</td>\n",
       "      <td>0.0</td>\n",
       "      <td>0</td>\n",
       "      <td>13.0</td>\n",
       "      <td>28.1</td>\n",
       "      <td>0</td>\n",
       "      <td>6</td>\n",
       "      <td>1</td>\n",
       "      <td>1940</td>\n",
       "      <td>6</td>\n",
       "      <td>41</td>\n",
       "      <td>18</td>\n",
       "      <td>19</td>\n",
       "    </tr>\n",
       "  </tbody>\n",
       "</table>\n",
       "</div>"
      ],
      "text/plain": [
       "   temperature_2m_max (°C)  temperature_2m_min (°C)  precipitation_sum (mm)  \\\n",
       "1                     30.7                     19.0                     0.0   \n",
       "2                     30.8                     20.5                     0.0   \n",
       "3                     30.8                     20.6                     0.2   \n",
       "4                     30.5                     19.7                     0.0   \n",
       "5                     30.5                     19.8                     0.0   \n",
       "\n",
       "   rain_sum (mm)  snowfall_sum (cm)  precipitation_hours (h)  \\\n",
       "1            0.0                0.0                        0   \n",
       "2            0.0                0.0                        0   \n",
       "3            0.2                0.0                        2   \n",
       "4            0.0                0.0                        0   \n",
       "5            0.0                0.0                        0   \n",
       "\n",
       "   windspeed_10m_max (km/h)  windgusts_10m_max (km/h)  Label  Day  Month  \\\n",
       "1                      13.0                      30.2      0    2      1   \n",
       "2                      13.0                      30.6      0    3      1   \n",
       "3                      13.0                      30.6      0    4      1   \n",
       "4                      11.9                      27.0      0    5      1   \n",
       "5                      13.0                      28.1      0    6      1   \n",
       "\n",
       "   Year  sunrise_hour  sunrise_minutes  sunset_hour  sunset_minutes  \n",
       "1  1940             6               39           18              17  \n",
       "2  1940             6               40           18              17  \n",
       "3  1940             6               40           18              18  \n",
       "4  1940             6               40           18              18  \n",
       "5  1940             6               41           18              19  "
      ]
     },
     "execution_count": 45,
     "metadata": {},
     "output_type": "execute_result"
    }
   ],
   "source": [
    "data_man_ssl.head()"
   ]
  },
  {
   "cell_type": "code",
   "execution_count": 50,
   "metadata": {},
   "outputs": [],
   "source": [
    "# define dataset\n",
    "X = data_man_ssl.drop(['Label'], axis=1)\n",
    "y = data_man_ssl.Label.values"
   ]
  },
  {
   "cell_type": "code",
   "execution_count": 51,
   "metadata": {},
   "outputs": [
    {
     "name": "stdout",
     "output_type": "stream",
     "text": [
      "(30152, 15) (30152,)\n"
     ]
    }
   ],
   "source": [
    "print(X.shape, y.shape)"
   ]
  },
  {
   "cell_type": "markdown",
   "metadata": {},
   "source": [
    "### Modelling"
   ]
  },
  {
   "cell_type": "code",
   "execution_count": 46,
   "metadata": {},
   "outputs": [],
   "source": [
    "from sklearn.model_selection import train_test_split\n",
    "from sklearn.pipeline import Pipeline\n",
    "from imblearn.pipeline import Pipeline as imbpipeline\n",
    "from imblearn.over_sampling import SMOTE\n",
    "from sklearn.preprocessing import StandardScaler\n",
    "\n",
    "import pickle\n",
    "from sklearn.model_selection import cross_val_score, RepeatedStratifiedKFold\n",
    "from sklearn.metrics import f1_score, recall_score, accuracy_score, classification_report, confusion_matrix, plot_confusion_matrix"
   ]
  },
  {
   "cell_type": "code",
   "execution_count": 47,
   "metadata": {},
   "outputs": [],
   "source": [
    "from sklearn.linear_model import LogisticRegression\n",
    "from sklearn.neighbors import KNeighborsClassifier\n",
    "from sklearn.svm import SVC\n",
    "from sklearn.naive_bayes import GaussianNB\n",
    "from sklearn.tree import DecisionTreeClassifier\n",
    "from sklearn.ensemble import RandomForestClassifier\n",
    "from sklearn.ensemble import BaggingClassifier\n",
    "from sklearn.ensemble import AdaBoostClassifier\n",
    "from sklearn.ensemble import GradientBoostingClassifier\n",
    "from xgboost import XGBClassifier"
   ]
  },
  {
   "cell_type": "code",
   "execution_count": 48,
   "metadata": {},
   "outputs": [],
   "source": [
    "# preparing models\n",
    "models = []\n",
    "\n",
    "models.append(('LR',LogisticRegression(random_state=42, max_iter=1000)))\n",
    "models.append(('KNNC',KNeighborsClassifier()))\n",
    "models.append(('GNB',GaussianNB()))\n",
    "models.append(('DTC',DecisionTreeClassifier()))\n",
    "models.append(('RFC',RandomForestClassifier()))\n",
    "models.append(('BC',BaggingClassifier()))\n",
    "models.append(('ABC',AdaBoostClassifier()))\n",
    "models.append(('GBC',GradientBoostingClassifier()))\n",
    "models.append(('XGBC',XGBClassifier(eval_metric='mlogloss')))"
   ]
  },
  {
   "cell_type": "code",
   "execution_count": 52,
   "metadata": {},
   "outputs": [
    {
     "name": "stdout",
     "output_type": "stream",
     "text": [
      "recall score of LR: 1.000000 (0.000000)\n",
      "recall score of KNNC: 0.733333 (0.326599)\n",
      "recall score of GNB: 0.800000 (0.266667)\n",
      "recall score of DTC: 0.950000 (0.100000)\n",
      "recall score of RFC: 0.866667 (0.266667)\n",
      "recall score of BC: 0.950000 (0.100000)\n",
      "recall score of ABC: 1.000000 (0.000000)\n",
      "recall score of GBC: 0.950000 (0.100000)\n"
     ]
    },
    {
     "name": "stderr",
     "output_type": "stream",
     "text": [
      "C:\\Users\\admin\\anaconda3\\lib\\site-packages\\xgboost\\sklearn.py:1224: UserWarning: The use of label encoder in XGBClassifier is deprecated and will be removed in a future release. To remove this warning, do the following: 1) Pass option use_label_encoder=False when constructing XGBClassifier object; and 2) Encode your labels (y) as integers starting with 0, i.e. 0, 1, 2, ..., [num_class - 1].\n",
      "  warnings.warn(label_encoder_deprecation_msg, UserWarning)\n",
      "C:\\Users\\admin\\anaconda3\\lib\\site-packages\\xgboost\\sklearn.py:1224: UserWarning: The use of label encoder in XGBClassifier is deprecated and will be removed in a future release. To remove this warning, do the following: 1) Pass option use_label_encoder=False when constructing XGBClassifier object; and 2) Encode your labels (y) as integers starting with 0, i.e. 0, 1, 2, ..., [num_class - 1].\n",
      "  warnings.warn(label_encoder_deprecation_msg, UserWarning)\n",
      "C:\\Users\\admin\\anaconda3\\lib\\site-packages\\xgboost\\sklearn.py:1224: UserWarning: The use of label encoder in XGBClassifier is deprecated and will be removed in a future release. To remove this warning, do the following: 1) Pass option use_label_encoder=False when constructing XGBClassifier object; and 2) Encode your labels (y) as integers starting with 0, i.e. 0, 1, 2, ..., [num_class - 1].\n",
      "  warnings.warn(label_encoder_deprecation_msg, UserWarning)\n",
      "C:\\Users\\admin\\anaconda3\\lib\\site-packages\\xgboost\\sklearn.py:1224: UserWarning: The use of label encoder in XGBClassifier is deprecated and will be removed in a future release. To remove this warning, do the following: 1) Pass option use_label_encoder=False when constructing XGBClassifier object; and 2) Encode your labels (y) as integers starting with 0, i.e. 0, 1, 2, ..., [num_class - 1].\n",
      "  warnings.warn(label_encoder_deprecation_msg, UserWarning)\n",
      "C:\\Users\\admin\\anaconda3\\lib\\site-packages\\xgboost\\sklearn.py:1224: UserWarning: The use of label encoder in XGBClassifier is deprecated and will be removed in a future release. To remove this warning, do the following: 1) Pass option use_label_encoder=False when constructing XGBClassifier object; and 2) Encode your labels (y) as integers starting with 0, i.e. 0, 1, 2, ..., [num_class - 1].\n",
      "  warnings.warn(label_encoder_deprecation_msg, UserWarning)\n"
     ]
    },
    {
     "name": "stdout",
     "output_type": "stream",
     "text": [
      "recall score of XGBC: 0.950000 (0.100000)\n"
     ]
    }
   ],
   "source": [
    "results = []\n",
    "names = []\n",
    "scoring = 'recall'\n",
    "for name, model in models:  \n",
    "    pipeline = imbpipeline(steps=[['smote', SMOTE(random_state=42)],\n",
    "                                  ['scaler', StandardScaler()],\n",
    "                                  ['model', model]])\n",
    "    #kfold = RepeatedStratifiedKFold(n_splits=3, n_repeats=3, random_state=42)\n",
    "    cv_result = cross_val_score(pipeline, X, y, scoring=scoring, cv=5)\n",
    "    results.append(cv_result)\n",
    "    names.append(name)\n",
    "    msg = \"%s score of %s: %f (%f)\" %(scoring, name, cv_result.mean(), cv_result.std())\n",
    "    print(msg)"
   ]
  },
  {
   "cell_type": "code",
   "execution_count": 53,
   "metadata": {},
   "outputs": [
    {
     "data": {
      "image/png": "[encoded data removed]",
      "text/plain": [
       "<Figure size 432x288 with 1 Axes>"
      ]
     },
     "metadata": {
      "needs_background": "light"
     },
     "output_type": "display_data"
    }
   ],
   "source": [
    "# algorithm comparison by recall score\n",
    "fig = plt.figure()\n",
    "fig.suptitle('Algorithm Comparison (recall score)')\n",
    "ax = fig.add_subplot(111)\n",
    "plt.boxplot(results)\n",
    "ax.set_xticklabels(names)\n",
    "plt.xlabel('Algorithm')\n",
    "plt.ylabel('recall score')\n",
    "plt.show()"
   ]
  },
  {
   "cell_type": "code",
   "execution_count": 54,
   "metadata": {},
   "outputs": [
    {
     "name": "stdout",
     "output_type": "stream",
     "text": [
      "f1 score of LR: 0.900000 (0.122474)\n",
      "f1 score of KNNC: 0.671429 (0.239235)\n",
      "f1 score of GNB: 0.860000 (0.195959)\n",
      "f1 score of DTC: 0.771850 (0.388828)\n",
      "f1 score of RFC: 0.860000 (0.195959)\n",
      "f1 score of BC: 0.731850 (0.373276)\n",
      "f1 score of ABC: 0.800422 (0.399157)\n",
      "f1 score of GBC: 0.771850 (0.388828)\n"
     ]
    },
    {
     "name": "stderr",
     "output_type": "stream",
     "text": [
      "C:\\Users\\admin\\anaconda3\\lib\\site-packages\\xgboost\\sklearn.py:1224: UserWarning: The use of label encoder in XGBClassifier is deprecated and will be removed in a future release. To remove this warning, do the following: 1) Pass option use_label_encoder=False when constructing XGBClassifier object; and 2) Encode your labels (y) as integers starting with 0, i.e. 0, 1, 2, ..., [num_class - 1].\n",
      "  warnings.warn(label_encoder_deprecation_msg, UserWarning)\n",
      "C:\\Users\\admin\\anaconda3\\lib\\site-packages\\xgboost\\sklearn.py:1224: UserWarning: The use of label encoder in XGBClassifier is deprecated and will be removed in a future release. To remove this warning, do the following: 1) Pass option use_label_encoder=False when constructing XGBClassifier object; and 2) Encode your labels (y) as integers starting with 0, i.e. 0, 1, 2, ..., [num_class - 1].\n",
      "  warnings.warn(label_encoder_deprecation_msg, UserWarning)\n",
      "C:\\Users\\admin\\anaconda3\\lib\\site-packages\\xgboost\\sklearn.py:1224: UserWarning: The use of label encoder in XGBClassifier is deprecated and will be removed in a future release. To remove this warning, do the following: 1) Pass option use_label_encoder=False when constructing XGBClassifier object; and 2) Encode your labels (y) as integers starting with 0, i.e. 0, 1, 2, ..., [num_class - 1].\n",
      "  warnings.warn(label_encoder_deprecation_msg, UserWarning)\n",
      "C:\\Users\\admin\\anaconda3\\lib\\site-packages\\xgboost\\sklearn.py:1224: UserWarning: The use of label encoder in XGBClassifier is deprecated and will be removed in a future release. To remove this warning, do the following: 1) Pass option use_label_encoder=False when constructing XGBClassifier object; and 2) Encode your labels (y) as integers starting with 0, i.e. 0, 1, 2, ..., [num_class - 1].\n",
      "  warnings.warn(label_encoder_deprecation_msg, UserWarning)\n",
      "C:\\Users\\admin\\anaconda3\\lib\\site-packages\\xgboost\\sklearn.py:1224: UserWarning: The use of label encoder in XGBClassifier is deprecated and will be removed in a future release. To remove this warning, do the following: 1) Pass option use_label_encoder=False when constructing XGBClassifier object; and 2) Encode your labels (y) as integers starting with 0, i.e. 0, 1, 2, ..., [num_class - 1].\n",
      "  warnings.warn(label_encoder_deprecation_msg, UserWarning)\n"
     ]
    },
    {
     "name": "stdout",
     "output_type": "stream",
     "text": [
      "f1 score of XGBC: 0.771850 (0.388828)\n"
     ]
    }
   ],
   "source": [
    "f1_results = []\n",
    "names = []\n",
    "scoring = 'f1'\n",
    "for name, model in models:  \n",
    "    pipeline = imbpipeline(steps=[['smote', SMOTE(random_state=42)],\n",
    "                                  ['scaler', StandardScaler()],\n",
    "                                  ['model', model]])\n",
    "    #kfold = RepeatedStratifiedKFold(n_splits=3, n_repeats=3, random_state=42)\n",
    "    cv_result = cross_val_score(pipeline, X, y, scoring=scoring, cv=5)\n",
    "    f1_results.append(cv_result)\n",
    "    names.append(name)\n",
    "    msg = \"%s score of %s: %f (%f)\" %(scoring, name, cv_result.mean(), cv_result.std())\n",
    "    print(msg)"
   ]
  },
  {
   "cell_type": "code",
   "execution_count": 55,
   "metadata": {},
   "outputs": [
    {
     "data": {
      "image/png": "[encoded data removed]",
      "text/plain": [
       "<Figure size 432x288 with 1 Axes>"
      ]
     },
     "metadata": {
      "needs_background": "light"
     },
     "output_type": "display_data"
    }
   ],
   "source": [
    "# algorithm comparison by f1 score\n",
    "fig = plt.figure()\n",
    "fig.suptitle('Algorithm Comparison (f1 score)')\n",
    "ax = fig.add_subplot(111)\n",
    "plt.boxplot(f1_results)\n",
    "ax.set_xticklabels(names)\n",
    "plt.xlabel('Algorithm')\n",
    "plt.ylabel('f1 score')\n",
    "plt.show()"
   ]
  },
  {
   "cell_type": "code",
   "execution_count": 56,
   "metadata": {},
   "outputs": [
    {
     "name": "stdout",
     "output_type": "stream",
     "text": [
      "accuracy score of LR: 0.999867 (0.000162)\n",
      "accuracy score of KNNC: 0.999668 (0.000235)\n",
      "accuracy score of GNB: 0.999901 (0.000133)\n",
      "accuracy score of DTC: 0.905738 (0.188358)\n",
      "accuracy score of RFC: 0.999934 (0.000133)\n",
      "accuracy score of BC: 0.905738 (0.188358)\n",
      "accuracy score of ABC: 0.905804 (0.188391)\n",
      "accuracy score of GBC: 0.905771 (0.188375)\n"
     ]
    },
    {
     "name": "stderr",
     "output_type": "stream",
     "text": [
      "C:\\Users\\admin\\anaconda3\\lib\\site-packages\\xgboost\\sklearn.py:1224: UserWarning: The use of label encoder in XGBClassifier is deprecated and will be removed in a future release. To remove this warning, do the following: 1) Pass option use_label_encoder=False when constructing XGBClassifier object; and 2) Encode your labels (y) as integers starting with 0, i.e. 0, 1, 2, ..., [num_class - 1].\n",
      "  warnings.warn(label_encoder_deprecation_msg, UserWarning)\n",
      "C:\\Users\\admin\\anaconda3\\lib\\site-packages\\xgboost\\sklearn.py:1224: UserWarning: The use of label encoder in XGBClassifier is deprecated and will be removed in a future release. To remove this warning, do the following: 1) Pass option use_label_encoder=False when constructing XGBClassifier object; and 2) Encode your labels (y) as integers starting with 0, i.e. 0, 1, 2, ..., [num_class - 1].\n",
      "  warnings.warn(label_encoder_deprecation_msg, UserWarning)\n",
      "C:\\Users\\admin\\anaconda3\\lib\\site-packages\\xgboost\\sklearn.py:1224: UserWarning: The use of label encoder in XGBClassifier is deprecated and will be removed in a future release. To remove this warning, do the following: 1) Pass option use_label_encoder=False when constructing XGBClassifier object; and 2) Encode your labels (y) as integers starting with 0, i.e. 0, 1, 2, ..., [num_class - 1].\n",
      "  warnings.warn(label_encoder_deprecation_msg, UserWarning)\n",
      "C:\\Users\\admin\\anaconda3\\lib\\site-packages\\xgboost\\sklearn.py:1224: UserWarning: The use of label encoder in XGBClassifier is deprecated and will be removed in a future release. To remove this warning, do the following: 1) Pass option use_label_encoder=False when constructing XGBClassifier object; and 2) Encode your labels (y) as integers starting with 0, i.e. 0, 1, 2, ..., [num_class - 1].\n",
      "  warnings.warn(label_encoder_deprecation_msg, UserWarning)\n",
      "C:\\Users\\admin\\anaconda3\\lib\\site-packages\\xgboost\\sklearn.py:1224: UserWarning: The use of label encoder in XGBClassifier is deprecated and will be removed in a future release. To remove this warning, do the following: 1) Pass option use_label_encoder=False when constructing XGBClassifier object; and 2) Encode your labels (y) as integers starting with 0, i.e. 0, 1, 2, ..., [num_class - 1].\n",
      "  warnings.warn(label_encoder_deprecation_msg, UserWarning)\n"
     ]
    },
    {
     "name": "stdout",
     "output_type": "stream",
     "text": [
      "accuracy score of XGBC: 0.905771 (0.188375)\n"
     ]
    }
   ],
   "source": [
    "accuracy_results = []\n",
    "names = []\n",
    "scoring = 'accuracy'\n",
    "for name, model in models:  \n",
    "    pipeline = imbpipeline(steps=[['smote', SMOTE(random_state=42)],\n",
    "                                  ['scaler', StandardScaler()],\n",
    "                                  ['model', model]])\n",
    "    #kfold = RepeatedStratifiedKFold(n_splits=3, n_repeats=3, random_state=42)\n",
    "    cv_result = cross_val_score(pipeline, X, y, scoring=scoring, cv=5)\n",
    "    accuracy_results.append(cv_result)\n",
    "    names.append(name)\n",
    "    msg = \"%s score of %s: %f (%f)\" %(scoring, name, cv_result.mean(), cv_result.std())\n",
    "    print(msg)"
   ]
  },
  {
   "cell_type": "code",
   "execution_count": 57,
   "metadata": {},
   "outputs": [
    {
     "data": {
      "image/png": "[encoded data removed]",
      "text/plain": [
       "<Figure size 432x288 with 1 Axes>"
      ]
     },
     "metadata": {
      "needs_background": "light"
     },
     "output_type": "display_data"
    }
   ],
   "source": [
    "# algorithm comparison by accuracy score\n",
    "fig = plt.figure()\n",
    "fig.suptitle('Algorithm Comparison (accuracy score)')\n",
    "ax = fig.add_subplot(111)\n",
    "plt.boxplot(accuracy_results)\n",
    "ax.set_xticklabels(names)\n",
    "plt.xlabel('Algorithm')\n",
    "plt.ylabel('f1 score')\n",
    "plt.show()"
   ]
  },
  {
   "cell_type": "markdown",
   "metadata": {},
   "source": [
    "#### Since AdaBoostClassifier have maximum f1 score, we choose that classifier,"
   ]
  },
  {
   "cell_type": "markdown",
   "metadata": {},
   "source": [
    "### SMOTE balancing"
   ]
  },
  {
   "cell_type": "code",
   "execution_count": 58,
   "metadata": {},
   "outputs": [],
   "source": [
    "from collections import Counter\n",
    "from imblearn.over_sampling import SMOTE"
   ]
  },
  {
   "cell_type": "code",
   "execution_count": 59,
   "metadata": {},
   "outputs": [
    {
     "name": "stdout",
     "output_type": "stream",
     "text": [
      "Counter({0: 30136, 1: 16})\n",
      "Counter({0: 30136, 1: 30136})\n"
     ]
    }
   ],
   "source": [
    "sm = SMOTE()\n",
    "X_sm,y_sm = sm.fit_resample(X, y)\n",
    "\n",
    "print(Counter(y))\n",
    "print(Counter(y_sm))"
   ]
  },
  {
   "cell_type": "code",
   "execution_count": 60,
   "metadata": {},
   "outputs": [],
   "source": [
    "sc = StandardScaler()\n",
    "X_sm_sc = sc.fit_transform(X_sm)"
   ]
  },
  {
   "cell_type": "code",
   "execution_count": 77,
   "metadata": {},
   "outputs": [],
   "source": [
    "ssl_model_abc = AdaBoostClassifier()"
   ]
  },
  {
   "cell_type": "code",
   "execution_count": 78,
   "metadata": {},
   "outputs": [
    {
     "data": {
      "text/plain": [
       "AdaBoostClassifier()"
      ]
     },
     "execution_count": 78,
     "metadata": {},
     "output_type": "execute_result"
    }
   ],
   "source": [
    "ssl_model_abc.fit(X_sm_sc, y_sm)"
   ]
  },
  {
   "cell_type": "code",
   "execution_count": 54,
   "metadata": {},
   "outputs": [
    {
     "data": {
      "text/plain": [
       "(122, 16)"
      ]
     },
     "execution_count": 54,
     "metadata": {},
     "output_type": "execute_result"
    }
   ],
   "source": [
    "data_weather_hold_1961.shape"
   ]
  },
  {
   "cell_type": "code",
   "execution_count": 79,
   "metadata": {
    "scrolled": true
   },
   "outputs": [
    {
     "name": "stderr",
     "output_type": "stream",
     "text": [
      "C:\\Users\\admin\\anaconda3\\lib\\site-packages\\pandas\\core\\frame.py:4908: SettingWithCopyWarning: \n",
      "A value is trying to be set on a copy of a slice from a DataFrame\n",
      "\n",
      "See the caveats in the documentation: https://pandas.pydata.org/pandas-docs/stable/user_guide/indexing.html#returning-a-view-versus-a-copy\n",
      "  errors=errors,\n"
     ]
    }
   ],
   "source": [
    "data_weather_hold_1961.drop(['Label'], axis=1, inplace=True)"
   ]
  },
  {
   "cell_type": "code",
   "execution_count": 80,
   "metadata": {},
   "outputs": [
    {
     "data": {
      "text/plain": [
       "(122, 16)"
      ]
     },
     "execution_count": 80,
     "metadata": {},
     "output_type": "execute_result"
    }
   ],
   "source": [
    "data_weather_hold_2005.shape"
   ]
  },
  {
   "cell_type": "code",
   "execution_count": 81,
   "metadata": {},
   "outputs": [],
   "source": [
    "data_weather_hold_2005.drop(['Label'], axis=1, inplace=True)"
   ]
  },
  {
   "cell_type": "code",
   "execution_count": 82,
   "metadata": {},
   "outputs": [],
   "source": [
    "X_1961_sc = sc.transform(data_weather_hold_1961)\n",
    "X_2005_sc = sc.transform(data_weather_hold_2005)"
   ]
  },
  {
   "cell_type": "code",
   "execution_count": 84,
   "metadata": {},
   "outputs": [],
   "source": [
    "ssl_pred_1961 = ssl_model_abc.predict(X_1961_sc)"
   ]
  },
  {
   "cell_type": "code",
   "execution_count": 85,
   "metadata": {},
   "outputs": [],
   "source": [
    "ssl_pred_2005= ssl_model_abc.predict(X_2005_sc)"
   ]
  },
  {
   "cell_type": "markdown",
   "metadata": {},
   "source": [
    "### Combine SSL prediction output to hold-out data as 'Label' feature"
   ]
  },
  {
   "cell_type": "code",
   "execution_count": 86,
   "metadata": {},
   "outputs": [
    {
     "name": "stderr",
     "output_type": "stream",
     "text": [
      "C:\\Users\\admin\\anaconda3\\lib\\site-packages\\pandas\\core\\frame.py:3607: SettingWithCopyWarning: \n",
      "A value is trying to be set on a copy of a slice from a DataFrame.\n",
      "Try using .loc[row_indexer,col_indexer] = value instead\n",
      "\n",
      "See the caveats in the documentation: https://pandas.pydata.org/pandas-docs/stable/user_guide/indexing.html#returning-a-view-versus-a-copy\n",
      "  self._set_item(key, value)\n"
     ]
    }
   ],
   "source": [
    "data_weather_hold_1961['Label'] = ssl_pred_1961"
   ]
  },
  {
   "cell_type": "code",
   "execution_count": 87,
   "metadata": {},
   "outputs": [],
   "source": [
    "data_weather_hold_2005['Label'] = ssl_pred_2005"
   ]
  },
  {
   "cell_type": "code",
   "execution_count": 66,
   "metadata": {
    "collapsed": true
   },
   "outputs": [
    {
     "data": {
      "text/html": [
       "<div>\n",
       "<style scoped>\n",
       "    .dataframe tbody tr th:only-of-type {\n",
       "        vertical-align: middle;\n",
       "    }\n",
       "\n",
       "    .dataframe tbody tr th {\n",
       "        vertical-align: top;\n",
       "    }\n",
       "\n",
       "    .dataframe thead th {\n",
       "        text-align: right;\n",
       "    }\n",
       "</style>\n",
       "<table border=\"1\" class=\"dataframe\">\n",
       "  <thead>\n",
       "    <tr style=\"text-align: right;\">\n",
       "      <th></th>\n",
       "      <th>temperature_2m_max (°C)</th>\n",
       "      <th>temperature_2m_min (°C)</th>\n",
       "      <th>precipitation_sum (mm)</th>\n",
       "      <th>rain_sum (mm)</th>\n",
       "      <th>snowfall_sum (cm)</th>\n",
       "      <th>precipitation_hours (h)</th>\n",
       "      <th>windspeed_10m_max (km/h)</th>\n",
       "      <th>windgusts_10m_max (km/h)</th>\n",
       "      <th>Day</th>\n",
       "      <th>Month</th>\n",
       "      <th>Year</th>\n",
       "      <th>sunrise_hour</th>\n",
       "      <th>sunrise_minutes</th>\n",
       "      <th>sunset_hour</th>\n",
       "      <th>sunset_minutes</th>\n",
       "      <th>Label</th>\n",
       "    </tr>\n",
       "  </thead>\n",
       "  <tbody>\n",
       "    <tr>\n",
       "      <th>23893</th>\n",
       "      <td>29.4</td>\n",
       "      <td>25.0</td>\n",
       "      <td>9.8</td>\n",
       "      <td>9.8</td>\n",
       "      <td>0.0</td>\n",
       "      <td>17</td>\n",
       "      <td>11.5</td>\n",
       "      <td>33.1</td>\n",
       "      <td>1</td>\n",
       "      <td>6</td>\n",
       "      <td>2005</td>\n",
       "      <td>6</td>\n",
       "      <td>2</td>\n",
       "      <td>18</td>\n",
       "      <td>42</td>\n",
       "      <td>0</td>\n",
       "    </tr>\n",
       "    <tr>\n",
       "      <th>23894</th>\n",
       "      <td>28.8</td>\n",
       "      <td>24.8</td>\n",
       "      <td>14.8</td>\n",
       "      <td>14.8</td>\n",
       "      <td>0.0</td>\n",
       "      <td>20</td>\n",
       "      <td>10.3</td>\n",
       "      <td>32.0</td>\n",
       "      <td>2</td>\n",
       "      <td>6</td>\n",
       "      <td>2005</td>\n",
       "      <td>6</td>\n",
       "      <td>2</td>\n",
       "      <td>18</td>\n",
       "      <td>43</td>\n",
       "      <td>0</td>\n",
       "    </tr>\n",
       "    <tr>\n",
       "      <th>23895</th>\n",
       "      <td>30.4</td>\n",
       "      <td>24.9</td>\n",
       "      <td>6.6</td>\n",
       "      <td>6.6</td>\n",
       "      <td>0.0</td>\n",
       "      <td>11</td>\n",
       "      <td>13.9</td>\n",
       "      <td>40.7</td>\n",
       "      <td>3</td>\n",
       "      <td>6</td>\n",
       "      <td>2005</td>\n",
       "      <td>6</td>\n",
       "      <td>2</td>\n",
       "      <td>18</td>\n",
       "      <td>43</td>\n",
       "      <td>0</td>\n",
       "    </tr>\n",
       "    <tr>\n",
       "      <th>23896</th>\n",
       "      <td>29.9</td>\n",
       "      <td>25.4</td>\n",
       "      <td>21.6</td>\n",
       "      <td>21.6</td>\n",
       "      <td>0.0</td>\n",
       "      <td>18</td>\n",
       "      <td>12.6</td>\n",
       "      <td>35.6</td>\n",
       "      <td>4</td>\n",
       "      <td>6</td>\n",
       "      <td>2005</td>\n",
       "      <td>6</td>\n",
       "      <td>2</td>\n",
       "      <td>18</td>\n",
       "      <td>43</td>\n",
       "      <td>0</td>\n",
       "    </tr>\n",
       "    <tr>\n",
       "      <th>23897</th>\n",
       "      <td>28.6</td>\n",
       "      <td>24.9</td>\n",
       "      <td>20.3</td>\n",
       "      <td>20.3</td>\n",
       "      <td>0.0</td>\n",
       "      <td>19</td>\n",
       "      <td>7.3</td>\n",
       "      <td>25.2</td>\n",
       "      <td>5</td>\n",
       "      <td>6</td>\n",
       "      <td>2005</td>\n",
       "      <td>6</td>\n",
       "      <td>2</td>\n",
       "      <td>18</td>\n",
       "      <td>43</td>\n",
       "      <td>0</td>\n",
       "    </tr>\n",
       "    <tr>\n",
       "      <th>...</th>\n",
       "      <td>...</td>\n",
       "      <td>...</td>\n",
       "      <td>...</td>\n",
       "      <td>...</td>\n",
       "      <td>...</td>\n",
       "      <td>...</td>\n",
       "      <td>...</td>\n",
       "      <td>...</td>\n",
       "      <td>...</td>\n",
       "      <td>...</td>\n",
       "      <td>...</td>\n",
       "      <td>...</td>\n",
       "      <td>...</td>\n",
       "      <td>...</td>\n",
       "      <td>...</td>\n",
       "      <td>...</td>\n",
       "    </tr>\n",
       "    <tr>\n",
       "      <th>24010</th>\n",
       "      <td>28.3</td>\n",
       "      <td>23.8</td>\n",
       "      <td>1.4</td>\n",
       "      <td>1.4</td>\n",
       "      <td>0.0</td>\n",
       "      <td>5</td>\n",
       "      <td>12.4</td>\n",
       "      <td>31.7</td>\n",
       "      <td>26</td>\n",
       "      <td>9</td>\n",
       "      <td>2005</td>\n",
       "      <td>6</td>\n",
       "      <td>12</td>\n",
       "      <td>18</td>\n",
       "      <td>19</td>\n",
       "      <td>0</td>\n",
       "    </tr>\n",
       "    <tr>\n",
       "      <th>24011</th>\n",
       "      <td>28.5</td>\n",
       "      <td>24.1</td>\n",
       "      <td>0.7</td>\n",
       "      <td>0.7</td>\n",
       "      <td>0.0</td>\n",
       "      <td>2</td>\n",
       "      <td>12.9</td>\n",
       "      <td>32.4</td>\n",
       "      <td>27</td>\n",
       "      <td>9</td>\n",
       "      <td>2005</td>\n",
       "      <td>6</td>\n",
       "      <td>12</td>\n",
       "      <td>18</td>\n",
       "      <td>18</td>\n",
       "      <td>0</td>\n",
       "    </tr>\n",
       "    <tr>\n",
       "      <th>24012</th>\n",
       "      <td>28.5</td>\n",
       "      <td>24.2</td>\n",
       "      <td>2.2</td>\n",
       "      <td>2.2</td>\n",
       "      <td>0.0</td>\n",
       "      <td>11</td>\n",
       "      <td>11.5</td>\n",
       "      <td>30.6</td>\n",
       "      <td>28</td>\n",
       "      <td>9</td>\n",
       "      <td>2005</td>\n",
       "      <td>6</td>\n",
       "      <td>12</td>\n",
       "      <td>18</td>\n",
       "      <td>18</td>\n",
       "      <td>0</td>\n",
       "    </tr>\n",
       "    <tr>\n",
       "      <th>24013</th>\n",
       "      <td>28.3</td>\n",
       "      <td>24.2</td>\n",
       "      <td>1.2</td>\n",
       "      <td>1.2</td>\n",
       "      <td>0.0</td>\n",
       "      <td>6</td>\n",
       "      <td>12.3</td>\n",
       "      <td>34.2</td>\n",
       "      <td>29</td>\n",
       "      <td>9</td>\n",
       "      <td>2005</td>\n",
       "      <td>6</td>\n",
       "      <td>12</td>\n",
       "      <td>18</td>\n",
       "      <td>17</td>\n",
       "      <td>0</td>\n",
       "    </tr>\n",
       "    <tr>\n",
       "      <th>24014</th>\n",
       "      <td>28.1</td>\n",
       "      <td>24.0</td>\n",
       "      <td>1.3</td>\n",
       "      <td>1.3</td>\n",
       "      <td>0.0</td>\n",
       "      <td>7</td>\n",
       "      <td>14.1</td>\n",
       "      <td>32.0</td>\n",
       "      <td>30</td>\n",
       "      <td>9</td>\n",
       "      <td>2005</td>\n",
       "      <td>6</td>\n",
       "      <td>12</td>\n",
       "      <td>18</td>\n",
       "      <td>17</td>\n",
       "      <td>0</td>\n",
       "    </tr>\n",
       "  </tbody>\n",
       "</table>\n",
       "<p>122 rows × 16 columns</p>\n",
       "</div>"
      ],
      "text/plain": [
       "       temperature_2m_max (°C)  temperature_2m_min (°C)  \\\n",
       "23893                     29.4                     25.0   \n",
       "23894                     28.8                     24.8   \n",
       "23895                     30.4                     24.9   \n",
       "23896                     29.9                     25.4   \n",
       "23897                     28.6                     24.9   \n",
       "...                        ...                      ...   \n",
       "24010                     28.3                     23.8   \n",
       "24011                     28.5                     24.1   \n",
       "24012                     28.5                     24.2   \n",
       "24013                     28.3                     24.2   \n",
       "24014                     28.1                     24.0   \n",
       "\n",
       "       precipitation_sum (mm)  rain_sum (mm)  snowfall_sum (cm)  \\\n",
       "23893                     9.8            9.8                0.0   \n",
       "23894                    14.8           14.8                0.0   \n",
       "23895                     6.6            6.6                0.0   \n",
       "23896                    21.6           21.6                0.0   \n",
       "23897                    20.3           20.3                0.0   \n",
       "...                       ...            ...                ...   \n",
       "24010                     1.4            1.4                0.0   \n",
       "24011                     0.7            0.7                0.0   \n",
       "24012                     2.2            2.2                0.0   \n",
       "24013                     1.2            1.2                0.0   \n",
       "24014                     1.3            1.3                0.0   \n",
       "\n",
       "       precipitation_hours (h)  windspeed_10m_max (km/h)  \\\n",
       "23893                       17                      11.5   \n",
       "23894                       20                      10.3   \n",
       "23895                       11                      13.9   \n",
       "23896                       18                      12.6   \n",
       "23897                       19                       7.3   \n",
       "...                        ...                       ...   \n",
       "24010                        5                      12.4   \n",
       "24011                        2                      12.9   \n",
       "24012                       11                      11.5   \n",
       "24013                        6                      12.3   \n",
       "24014                        7                      14.1   \n",
       "\n",
       "       windgusts_10m_max (km/h)  Day  Month  Year  sunrise_hour  \\\n",
       "23893                      33.1    1      6  2005             6   \n",
       "23894                      32.0    2      6  2005             6   \n",
       "23895                      40.7    3      6  2005             6   \n",
       "23896                      35.6    4      6  2005             6   \n",
       "23897                      25.2    5      6  2005             6   \n",
       "...                         ...  ...    ...   ...           ...   \n",
       "24010                      31.7   26      9  2005             6   \n",
       "24011                      32.4   27      9  2005             6   \n",
       "24012                      30.6   28      9  2005             6   \n",
       "24013                      34.2   29      9  2005             6   \n",
       "24014                      32.0   30      9  2005             6   \n",
       "\n",
       "       sunrise_minutes  sunset_hour  sunset_minutes  Label  \n",
       "23893                2           18              42      0  \n",
       "23894                2           18              43      0  \n",
       "23895                2           18              43      0  \n",
       "23896                2           18              43      0  \n",
       "23897                2           18              43      0  \n",
       "...                ...          ...             ...    ...  \n",
       "24010               12           18              19      0  \n",
       "24011               12           18              18      0  \n",
       "24012               12           18              18      0  \n",
       "24013               12           18              17      0  \n",
       "24014               12           18              17      0  \n",
       "\n",
       "[122 rows x 16 columns]"
      ]
     },
     "execution_count": 66,
     "metadata": {},
     "output_type": "execute_result"
    }
   ],
   "source": [
    "data_weather_hold_2005"
   ]
  },
  {
   "cell_type": "code",
   "execution_count": 88,
   "metadata": {},
   "outputs": [],
   "source": [
    "df_weather = pd.concat([data_man_ssl, data_weather_hold_1961, data_weather_hold_2005], axis=0)"
   ]
  },
  {
   "cell_type": "code",
   "execution_count": 89,
   "metadata": {},
   "outputs": [
    {
     "data": {
      "text/plain": [
       "(30396, 16)"
      ]
     },
     "execution_count": 89,
     "metadata": {},
     "output_type": "execute_result"
    }
   ],
   "source": [
    "df_weather.shape"
   ]
  },
  {
   "cell_type": "code",
   "execution_count": 75,
   "metadata": {
    "collapsed": true
   },
   "outputs": [
    {
     "data": {
      "text/html": [
       "<div>\n",
       "<style scoped>\n",
       "    .dataframe tbody tr th:only-of-type {\n",
       "        vertical-align: middle;\n",
       "    }\n",
       "\n",
       "    .dataframe tbody tr th {\n",
       "        vertical-align: top;\n",
       "    }\n",
       "\n",
       "    .dataframe thead th {\n",
       "        text-align: right;\n",
       "    }\n",
       "</style>\n",
       "<table border=\"1\" class=\"dataframe\">\n",
       "  <thead>\n",
       "    <tr style=\"text-align: right;\">\n",
       "      <th></th>\n",
       "      <th>temperature_2m_max (°C)</th>\n",
       "      <th>temperature_2m_min (°C)</th>\n",
       "      <th>precipitation_sum (mm)</th>\n",
       "      <th>rain_sum (mm)</th>\n",
       "      <th>snowfall_sum (cm)</th>\n",
       "      <th>precipitation_hours (h)</th>\n",
       "      <th>windspeed_10m_max (km/h)</th>\n",
       "      <th>windgusts_10m_max (km/h)</th>\n",
       "      <th>Label</th>\n",
       "      <th>Day</th>\n",
       "      <th>Month</th>\n",
       "      <th>Year</th>\n",
       "      <th>sunrise_hour</th>\n",
       "      <th>sunrise_minutes</th>\n",
       "      <th>sunset_hour</th>\n",
       "      <th>sunset_minutes</th>\n",
       "    </tr>\n",
       "  </thead>\n",
       "  <tbody>\n",
       "    <tr>\n",
       "      <th>1</th>\n",
       "      <td>30.7</td>\n",
       "      <td>19.0</td>\n",
       "      <td>0.0</td>\n",
       "      <td>0.0</td>\n",
       "      <td>0.0</td>\n",
       "      <td>0</td>\n",
       "      <td>13.0</td>\n",
       "      <td>30.2</td>\n",
       "      <td>0</td>\n",
       "      <td>2</td>\n",
       "      <td>1</td>\n",
       "      <td>1940</td>\n",
       "      <td>6</td>\n",
       "      <td>39</td>\n",
       "      <td>18</td>\n",
       "      <td>17</td>\n",
       "    </tr>\n",
       "    <tr>\n",
       "      <th>2</th>\n",
       "      <td>30.8</td>\n",
       "      <td>20.5</td>\n",
       "      <td>0.0</td>\n",
       "      <td>0.0</td>\n",
       "      <td>0.0</td>\n",
       "      <td>0</td>\n",
       "      <td>13.0</td>\n",
       "      <td>30.6</td>\n",
       "      <td>0</td>\n",
       "      <td>3</td>\n",
       "      <td>1</td>\n",
       "      <td>1940</td>\n",
       "      <td>6</td>\n",
       "      <td>40</td>\n",
       "      <td>18</td>\n",
       "      <td>17</td>\n",
       "    </tr>\n",
       "    <tr>\n",
       "      <th>3</th>\n",
       "      <td>30.8</td>\n",
       "      <td>20.6</td>\n",
       "      <td>0.2</td>\n",
       "      <td>0.2</td>\n",
       "      <td>0.0</td>\n",
       "      <td>2</td>\n",
       "      <td>13.0</td>\n",
       "      <td>30.6</td>\n",
       "      <td>0</td>\n",
       "      <td>4</td>\n",
       "      <td>1</td>\n",
       "      <td>1940</td>\n",
       "      <td>6</td>\n",
       "      <td>40</td>\n",
       "      <td>18</td>\n",
       "      <td>18</td>\n",
       "    </tr>\n",
       "    <tr>\n",
       "      <th>4</th>\n",
       "      <td>30.5</td>\n",
       "      <td>19.7</td>\n",
       "      <td>0.0</td>\n",
       "      <td>0.0</td>\n",
       "      <td>0.0</td>\n",
       "      <td>0</td>\n",
       "      <td>11.9</td>\n",
       "      <td>27.0</td>\n",
       "      <td>0</td>\n",
       "      <td>5</td>\n",
       "      <td>1</td>\n",
       "      <td>1940</td>\n",
       "      <td>6</td>\n",
       "      <td>40</td>\n",
       "      <td>18</td>\n",
       "      <td>18</td>\n",
       "    </tr>\n",
       "    <tr>\n",
       "      <th>5</th>\n",
       "      <td>30.5</td>\n",
       "      <td>19.8</td>\n",
       "      <td>0.0</td>\n",
       "      <td>0.0</td>\n",
       "      <td>0.0</td>\n",
       "      <td>0</td>\n",
       "      <td>13.0</td>\n",
       "      <td>28.1</td>\n",
       "      <td>0</td>\n",
       "      <td>6</td>\n",
       "      <td>1</td>\n",
       "      <td>1940</td>\n",
       "      <td>6</td>\n",
       "      <td>41</td>\n",
       "      <td>18</td>\n",
       "      <td>19</td>\n",
       "    </tr>\n",
       "    <tr>\n",
       "      <th>...</th>\n",
       "      <td>...</td>\n",
       "      <td>...</td>\n",
       "      <td>...</td>\n",
       "      <td>...</td>\n",
       "      <td>...</td>\n",
       "      <td>...</td>\n",
       "      <td>...</td>\n",
       "      <td>...</td>\n",
       "      <td>...</td>\n",
       "      <td>...</td>\n",
       "      <td>...</td>\n",
       "      <td>...</td>\n",
       "      <td>...</td>\n",
       "      <td>...</td>\n",
       "      <td>...</td>\n",
       "      <td>...</td>\n",
       "    </tr>\n",
       "    <tr>\n",
       "      <th>24010</th>\n",
       "      <td>28.3</td>\n",
       "      <td>23.8</td>\n",
       "      <td>1.4</td>\n",
       "      <td>1.4</td>\n",
       "      <td>0.0</td>\n",
       "      <td>5</td>\n",
       "      <td>12.4</td>\n",
       "      <td>31.7</td>\n",
       "      <td>0</td>\n",
       "      <td>26</td>\n",
       "      <td>9</td>\n",
       "      <td>2005</td>\n",
       "      <td>6</td>\n",
       "      <td>12</td>\n",
       "      <td>18</td>\n",
       "      <td>19</td>\n",
       "    </tr>\n",
       "    <tr>\n",
       "      <th>24011</th>\n",
       "      <td>28.5</td>\n",
       "      <td>24.1</td>\n",
       "      <td>0.7</td>\n",
       "      <td>0.7</td>\n",
       "      <td>0.0</td>\n",
       "      <td>2</td>\n",
       "      <td>12.9</td>\n",
       "      <td>32.4</td>\n",
       "      <td>0</td>\n",
       "      <td>27</td>\n",
       "      <td>9</td>\n",
       "      <td>2005</td>\n",
       "      <td>6</td>\n",
       "      <td>12</td>\n",
       "      <td>18</td>\n",
       "      <td>18</td>\n",
       "    </tr>\n",
       "    <tr>\n",
       "      <th>24012</th>\n",
       "      <td>28.5</td>\n",
       "      <td>24.2</td>\n",
       "      <td>2.2</td>\n",
       "      <td>2.2</td>\n",
       "      <td>0.0</td>\n",
       "      <td>11</td>\n",
       "      <td>11.5</td>\n",
       "      <td>30.6</td>\n",
       "      <td>0</td>\n",
       "      <td>28</td>\n",
       "      <td>9</td>\n",
       "      <td>2005</td>\n",
       "      <td>6</td>\n",
       "      <td>12</td>\n",
       "      <td>18</td>\n",
       "      <td>18</td>\n",
       "    </tr>\n",
       "    <tr>\n",
       "      <th>24013</th>\n",
       "      <td>28.3</td>\n",
       "      <td>24.2</td>\n",
       "      <td>1.2</td>\n",
       "      <td>1.2</td>\n",
       "      <td>0.0</td>\n",
       "      <td>6</td>\n",
       "      <td>12.3</td>\n",
       "      <td>34.2</td>\n",
       "      <td>0</td>\n",
       "      <td>29</td>\n",
       "      <td>9</td>\n",
       "      <td>2005</td>\n",
       "      <td>6</td>\n",
       "      <td>12</td>\n",
       "      <td>18</td>\n",
       "      <td>17</td>\n",
       "    </tr>\n",
       "    <tr>\n",
       "      <th>24014</th>\n",
       "      <td>28.1</td>\n",
       "      <td>24.0</td>\n",
       "      <td>1.3</td>\n",
       "      <td>1.3</td>\n",
       "      <td>0.0</td>\n",
       "      <td>7</td>\n",
       "      <td>14.1</td>\n",
       "      <td>32.0</td>\n",
       "      <td>0</td>\n",
       "      <td>30</td>\n",
       "      <td>9</td>\n",
       "      <td>2005</td>\n",
       "      <td>6</td>\n",
       "      <td>12</td>\n",
       "      <td>18</td>\n",
       "      <td>17</td>\n",
       "    </tr>\n",
       "  </tbody>\n",
       "</table>\n",
       "<p>30396 rows × 16 columns</p>\n",
       "</div>"
      ],
      "text/plain": [
       "       temperature_2m_max (°C)  temperature_2m_min (°C)  \\\n",
       "1                         30.7                     19.0   \n",
       "2                         30.8                     20.5   \n",
       "3                         30.8                     20.6   \n",
       "4                         30.5                     19.7   \n",
       "5                         30.5                     19.8   \n",
       "...                        ...                      ...   \n",
       "24010                     28.3                     23.8   \n",
       "24011                     28.5                     24.1   \n",
       "24012                     28.5                     24.2   \n",
       "24013                     28.3                     24.2   \n",
       "24014                     28.1                     24.0   \n",
       "\n",
       "       precipitation_sum (mm)  rain_sum (mm)  snowfall_sum (cm)  \\\n",
       "1                         0.0            0.0                0.0   \n",
       "2                         0.0            0.0                0.0   \n",
       "3                         0.2            0.2                0.0   \n",
       "4                         0.0            0.0                0.0   \n",
       "5                         0.0            0.0                0.0   \n",
       "...                       ...            ...                ...   \n",
       "24010                     1.4            1.4                0.0   \n",
       "24011                     0.7            0.7                0.0   \n",
       "24012                     2.2            2.2                0.0   \n",
       "24013                     1.2            1.2                0.0   \n",
       "24014                     1.3            1.3                0.0   \n",
       "\n",
       "       precipitation_hours (h)  windspeed_10m_max (km/h)  \\\n",
       "1                            0                      13.0   \n",
       "2                            0                      13.0   \n",
       "3                            2                      13.0   \n",
       "4                            0                      11.9   \n",
       "5                            0                      13.0   \n",
       "...                        ...                       ...   \n",
       "24010                        5                      12.4   \n",
       "24011                        2                      12.9   \n",
       "24012                       11                      11.5   \n",
       "24013                        6                      12.3   \n",
       "24014                        7                      14.1   \n",
       "\n",
       "       windgusts_10m_max (km/h)  Label  Day  Month  Year  sunrise_hour  \\\n",
       "1                          30.2      0    2      1  1940             6   \n",
       "2                          30.6      0    3      1  1940             6   \n",
       "3                          30.6      0    4      1  1940             6   \n",
       "4                          27.0      0    5      1  1940             6   \n",
       "5                          28.1      0    6      1  1940             6   \n",
       "...                         ...    ...  ...    ...   ...           ...   \n",
       "24010                      31.7      0   26      9  2005             6   \n",
       "24011                      32.4      0   27      9  2005             6   \n",
       "24012                      30.6      0   28      9  2005             6   \n",
       "24013                      34.2      0   29      9  2005             6   \n",
       "24014                      32.0      0   30      9  2005             6   \n",
       "\n",
       "       sunrise_minutes  sunset_hour  sunset_minutes  \n",
       "1                   39           18              17  \n",
       "2                   40           18              17  \n",
       "3                   40           18              18  \n",
       "4                   40           18              18  \n",
       "5                   41           18              19  \n",
       "...                ...          ...             ...  \n",
       "24010               12           18              19  \n",
       "24011               12           18              18  \n",
       "24012               12           18              18  \n",
       "24013               12           18              17  \n",
       "24014               12           18              17  \n",
       "\n",
       "[30396 rows x 16 columns]"
      ]
     },
     "execution_count": 75,
     "metadata": {},
     "output_type": "execute_result"
    }
   ],
   "source": [
    "df_weather"
   ]
  },
  {
   "cell_type": "code",
   "execution_count": 90,
   "metadata": {},
   "outputs": [
    {
     "data": {
      "text/plain": [
       "0    30196\n",
       "1      200\n",
       "Name: Label, dtype: int64"
      ]
     },
     "execution_count": 90,
     "metadata": {},
     "output_type": "execute_result"
    }
   ],
   "source": [
    "df_weather['Label'].value_counts()"
   ]
  },
  {
   "cell_type": "markdown",
   "metadata": {},
   "source": [
    "## Modelling"
   ]
  },
  {
   "cell_type": "code",
   "execution_count": 100,
   "metadata": {
    "collapsed": true
   },
   "outputs": [
    {
     "ename": "KeyError",
     "evalue": "'snowfall_sum (cm)'",
     "output_type": "error",
     "traceback": [
      "\u001b[1;31m---------------------------------------------------------------------------\u001b[0m",
      "\u001b[1;31mKeyError\u001b[0m                                  Traceback (most recent call last)",
      "\u001b[1;32m~\\anaconda3\\lib\\site-packages\\pandas\\core\\indexes\\base.py\u001b[0m in \u001b[0;36mget_loc\u001b[1;34m(self, key, method, tolerance)\u001b[0m\n\u001b[0;32m   3360\u001b[0m             \u001b[1;32mtry\u001b[0m\u001b[1;33m:\u001b[0m\u001b[1;33m\u001b[0m\u001b[1;33m\u001b[0m\u001b[0m\n\u001b[1;32m-> 3361\u001b[1;33m                 \u001b[1;32mreturn\u001b[0m \u001b[0mself\u001b[0m\u001b[1;33m.\u001b[0m\u001b[0m_engine\u001b[0m\u001b[1;33m.\u001b[0m\u001b[0mget_loc\u001b[0m\u001b[1;33m(\u001b[0m\u001b[0mcasted_key\u001b[0m\u001b[1;33m)\u001b[0m\u001b[1;33m\u001b[0m\u001b[1;33m\u001b[0m\u001b[0m\n\u001b[0m\u001b[0;32m   3362\u001b[0m             \u001b[1;32mexcept\u001b[0m \u001b[0mKeyError\u001b[0m \u001b[1;32mas\u001b[0m \u001b[0merr\u001b[0m\u001b[1;33m:\u001b[0m\u001b[1;33m\u001b[0m\u001b[1;33m\u001b[0m\u001b[0m\n",
      "\u001b[1;32m~\\anaconda3\\lib\\site-packages\\pandas\\_libs\\index.pyx\u001b[0m in \u001b[0;36mpandas._libs.index.IndexEngine.get_loc\u001b[1;34m()\u001b[0m\n",
      "\u001b[1;32m~\\anaconda3\\lib\\site-packages\\pandas\\_libs\\index.pyx\u001b[0m in \u001b[0;36mpandas._libs.index.IndexEngine.get_loc\u001b[1;34m()\u001b[0m\n",
      "\u001b[1;32mpandas\\_libs\\hashtable_class_helper.pxi\u001b[0m in \u001b[0;36mpandas._libs.hashtable.PyObjectHashTable.get_item\u001b[1;34m()\u001b[0m\n",
      "\u001b[1;32mpandas\\_libs\\hashtable_class_helper.pxi\u001b[0m in \u001b[0;36mpandas._libs.hashtable.PyObjectHashTable.get_item\u001b[1;34m()\u001b[0m\n",
      "\u001b[1;31mKeyError\u001b[0m: 'snowfall_sum (cm)'",
      "\nThe above exception was the direct cause of the following exception:\n",
      "\u001b[1;31mKeyError\u001b[0m                                  Traceback (most recent call last)",
      "\u001b[1;32m<ipython-input-100-5af62eb692a3>\u001b[0m in \u001b[0;36m<module>\u001b[1;34m\u001b[0m\n\u001b[1;32m----> 1\u001b[1;33m \u001b[0mdf_weather\u001b[0m\u001b[1;33m[\u001b[0m\u001b[1;34m'snowfall_sum (cm)'\u001b[0m\u001b[1;33m]\u001b[0m\u001b[1;33m.\u001b[0m\u001b[0mmax\u001b[0m\u001b[1;33m(\u001b[0m\u001b[1;33m)\u001b[0m\u001b[1;33m\u001b[0m\u001b[1;33m\u001b[0m\u001b[0m\n\u001b[0m",
      "\u001b[1;32m~\\anaconda3\\lib\\site-packages\\pandas\\core\\frame.py\u001b[0m in \u001b[0;36m__getitem__\u001b[1;34m(self, key)\u001b[0m\n\u001b[0;32m   3453\u001b[0m             \u001b[1;32mif\u001b[0m \u001b[0mself\u001b[0m\u001b[1;33m.\u001b[0m\u001b[0mcolumns\u001b[0m\u001b[1;33m.\u001b[0m\u001b[0mnlevels\u001b[0m \u001b[1;33m>\u001b[0m \u001b[1;36m1\u001b[0m\u001b[1;33m:\u001b[0m\u001b[1;33m\u001b[0m\u001b[1;33m\u001b[0m\u001b[0m\n\u001b[0;32m   3454\u001b[0m                 \u001b[1;32mreturn\u001b[0m \u001b[0mself\u001b[0m\u001b[1;33m.\u001b[0m\u001b[0m_getitem_multilevel\u001b[0m\u001b[1;33m(\u001b[0m\u001b[0mkey\u001b[0m\u001b[1;33m)\u001b[0m\u001b[1;33m\u001b[0m\u001b[1;33m\u001b[0m\u001b[0m\n\u001b[1;32m-> 3455\u001b[1;33m             \u001b[0mindexer\u001b[0m \u001b[1;33m=\u001b[0m \u001b[0mself\u001b[0m\u001b[1;33m.\u001b[0m\u001b[0mcolumns\u001b[0m\u001b[1;33m.\u001b[0m\u001b[0mget_loc\u001b[0m\u001b[1;33m(\u001b[0m\u001b[0mkey\u001b[0m\u001b[1;33m)\u001b[0m\u001b[1;33m\u001b[0m\u001b[1;33m\u001b[0m\u001b[0m\n\u001b[0m\u001b[0;32m   3456\u001b[0m             \u001b[1;32mif\u001b[0m \u001b[0mis_integer\u001b[0m\u001b[1;33m(\u001b[0m\u001b[0mindexer\u001b[0m\u001b[1;33m)\u001b[0m\u001b[1;33m:\u001b[0m\u001b[1;33m\u001b[0m\u001b[1;33m\u001b[0m\u001b[0m\n\u001b[0;32m   3457\u001b[0m                 \u001b[0mindexer\u001b[0m \u001b[1;33m=\u001b[0m \u001b[1;33m[\u001b[0m\u001b[0mindexer\u001b[0m\u001b[1;33m]\u001b[0m\u001b[1;33m\u001b[0m\u001b[1;33m\u001b[0m\u001b[0m\n",
      "\u001b[1;32m~\\anaconda3\\lib\\site-packages\\pandas\\core\\indexes\\base.py\u001b[0m in \u001b[0;36mget_loc\u001b[1;34m(self, key, method, tolerance)\u001b[0m\n\u001b[0;32m   3361\u001b[0m                 \u001b[1;32mreturn\u001b[0m \u001b[0mself\u001b[0m\u001b[1;33m.\u001b[0m\u001b[0m_engine\u001b[0m\u001b[1;33m.\u001b[0m\u001b[0mget_loc\u001b[0m\u001b[1;33m(\u001b[0m\u001b[0mcasted_key\u001b[0m\u001b[1;33m)\u001b[0m\u001b[1;33m\u001b[0m\u001b[1;33m\u001b[0m\u001b[0m\n\u001b[0;32m   3362\u001b[0m             \u001b[1;32mexcept\u001b[0m \u001b[0mKeyError\u001b[0m \u001b[1;32mas\u001b[0m \u001b[0merr\u001b[0m\u001b[1;33m:\u001b[0m\u001b[1;33m\u001b[0m\u001b[1;33m\u001b[0m\u001b[0m\n\u001b[1;32m-> 3363\u001b[1;33m                 \u001b[1;32mraise\u001b[0m \u001b[0mKeyError\u001b[0m\u001b[1;33m(\u001b[0m\u001b[0mkey\u001b[0m\u001b[1;33m)\u001b[0m \u001b[1;32mfrom\u001b[0m \u001b[0merr\u001b[0m\u001b[1;33m\u001b[0m\u001b[1;33m\u001b[0m\u001b[0m\n\u001b[0m\u001b[0;32m   3364\u001b[0m \u001b[1;33m\u001b[0m\u001b[0m\n\u001b[0;32m   3365\u001b[0m         \u001b[1;32mif\u001b[0m \u001b[0mis_scalar\u001b[0m\u001b[1;33m(\u001b[0m\u001b[0mkey\u001b[0m\u001b[1;33m)\u001b[0m \u001b[1;32mand\u001b[0m \u001b[0misna\u001b[0m\u001b[1;33m(\u001b[0m\u001b[0mkey\u001b[0m\u001b[1;33m)\u001b[0m \u001b[1;32mand\u001b[0m \u001b[1;32mnot\u001b[0m \u001b[0mself\u001b[0m\u001b[1;33m.\u001b[0m\u001b[0mhasnans\u001b[0m\u001b[1;33m:\u001b[0m\u001b[1;33m\u001b[0m\u001b[1;33m\u001b[0m\u001b[0m\n",
      "\u001b[1;31mKeyError\u001b[0m: 'snowfall_sum (cm)'"
     ]
    }
   ],
   "source": [
    "df_weather['snowfall_sum (cm)'].max()"
   ]
  },
  {
   "cell_type": "code",
   "execution_count": 98,
   "metadata": {},
   "outputs": [
    {
     "data": {
      "text/plain": [
       "0.0"
      ]
     },
     "execution_count": 98,
     "metadata": {},
     "output_type": "execute_result"
    }
   ],
   "source": [
    "df_weather['snowfall_sum (cm)'].min()"
   ]
  },
  {
   "cell_type": "code",
   "execution_count": 99,
   "metadata": {},
   "outputs": [],
   "source": [
    "df_weather.drop(['snowfall_sum (cm)'], axis=1, inplace=True)"
   ]
  },
  {
   "cell_type": "code",
   "execution_count": 101,
   "metadata": {
    "collapsed": true
   },
   "outputs": [
    {
     "data": {
      "image/png": "[encoded data removed]",
      "text/plain": [
       "<Figure size 3600x3600 with 2 Axes>"
      ]
     },
     "metadata": {
      "needs_background": "light"
     },
     "output_type": "display_data"
    }
   ],
   "source": [
    "plt.figure(figsize=(50, 50))\n",
    "sb.heatmap(df_weather.corr(), annot=True, annot_kws={'size':13})\n",
    "plt.xticks(fontsize=14)\n",
    "plt.yticks(fontsize=14)\n",
    "plt.show()"
   ]
  },
  {
   "cell_type": "code",
   "execution_count": 102,
   "metadata": {},
   "outputs": [],
   "source": [
    "X_comb = df_weather.drop(['Label'], axis=1)\n",
    "y_comb = df_weather['Label']"
   ]
  },
  {
   "cell_type": "code",
   "execution_count": 103,
   "metadata": {},
   "outputs": [
    {
     "data": {
      "text/plain": [
       "ExtraTreesClassifier()"
      ]
     },
     "execution_count": 103,
     "metadata": {},
     "output_type": "execute_result"
    }
   ],
   "source": [
    "## feature importance\n",
    "\n",
    "from sklearn.ensemble import ExtraTreesClassifier\n",
    "feat_impModel = ExtraTreesClassifier()\n",
    "feat_impModel.fit(X_comb, y_comb)"
   ]
  },
  {
   "cell_type": "code",
   "execution_count": 104,
   "metadata": {},
   "outputs": [
    {
     "name": "stdout",
     "output_type": "stream",
     "text": [
      "[3.84766311e-02 3.18062206e-02 1.04950471e-02 1.04769466e-02\n",
      " 6.71884161e-02 2.32719679e-02 3.75638341e-02 2.17123785e-02\n",
      " 3.64650913e-01 2.88742414e-02 1.46689002e-04 1.41491087e-01\n",
      " 3.09636122e-04 2.23535992e-01]\n"
     ]
    }
   ],
   "source": [
    "print(feat_impModel.feature_importances_)"
   ]
  },
  {
   "cell_type": "code",
   "execution_count": 106,
   "metadata": {},
   "outputs": [
    {
     "data": {
      "image/png": "[encoded data removed]",
      "text/plain": [
       "<Figure size 432x288 with 1 Axes>"
      ]
     },
     "metadata": {
      "needs_background": "light"
     },
     "output_type": "display_data"
    }
   ],
   "source": [
    "feat_imp_srs = pd.Series(feat_impModel.feature_importances_, index=X_comb.columns)\n",
    "feat_imp_srs.plot(kind='bar')\n",
    "plt.show()"
   ]
  },
  {
   "cell_type": "code",
   "execution_count": 109,
   "metadata": {},
   "outputs": [
    {
     "data": {
      "image/png": "[encoded data removed]",
      "text/plain": [
       "<Figure size 432x288 with 1 Axes>"
      ]
     },
     "metadata": {
      "needs_background": "light"
     },
     "output_type": "display_data"
    }
   ],
   "source": [
    "feat_imp_srs.nlargest(14).plot(kind='bar')\n",
    "plt.xlabel('features')\n",
    "plt.ylabel('importance score')\n",
    "plt.show()"
   ]
  },
  {
   "cell_type": "code",
   "execution_count": 119,
   "metadata": {},
   "outputs": [
    {
     "data": {
      "text/plain": [
       "Index(['temperature_2m_max (°C)', 'temperature_2m_min (°C)',\n",
       "       'precipitation_sum (mm)', 'rain_sum (mm)', 'precipitation_hours (h)',\n",
       "       'windspeed_10m_max (km/h)', 'windgusts_10m_max (km/h)', 'Day', 'Month',\n",
       "       'Year', 'sunrise_hour', 'sunrise_minutes', 'sunset_hour',\n",
       "       'sunset_minutes'],\n",
       "      dtype='object')"
      ]
     },
     "execution_count": 119,
     "metadata": {},
     "output_type": "execute_result"
    }
   ],
   "source": [
    "X_comb.columns"
   ]
  },
  {
   "cell_type": "code",
   "execution_count": 149,
   "metadata": {},
   "outputs": [
    {
     "data": {
      "text/html": [
       "<div>\n",
       "<style scoped>\n",
       "    .dataframe tbody tr th:only-of-type {\n",
       "        vertical-align: middle;\n",
       "    }\n",
       "\n",
       "    .dataframe tbody tr th {\n",
       "        vertical-align: top;\n",
       "    }\n",
       "\n",
       "    .dataframe thead th {\n",
       "        text-align: right;\n",
       "    }\n",
       "</style>\n",
       "<table border=\"1\" class=\"dataframe\">\n",
       "  <thead>\n",
       "    <tr style=\"text-align: right;\">\n",
       "      <th></th>\n",
       "      <th>temperature_2m_max (°C)</th>\n",
       "      <th>temperature_2m_min (°C)</th>\n",
       "      <th>precipitation_sum (mm)</th>\n",
       "      <th>precipitation_hours (h)</th>\n",
       "      <th>windspeed_10m_max (km/h)</th>\n",
       "      <th>windgusts_10m_max (km/h)</th>\n",
       "      <th>Label</th>\n",
       "      <th>Day</th>\n",
       "      <th>Month</th>\n",
       "      <th>Year</th>\n",
       "      <th>sunrise_minutes</th>\n",
       "      <th>sunset_minutes</th>\n",
       "    </tr>\n",
       "  </thead>\n",
       "  <tbody>\n",
       "    <tr>\n",
       "      <th>temperature_2m_max (°C)</th>\n",
       "      <td>1.000000</td>\n",
       "      <td>0.994112</td>\n",
       "      <td>0.253957</td>\n",
       "      <td>0.452209</td>\n",
       "      <td>0.929717</td>\n",
       "      <td>0.950530</td>\n",
       "      <td>0.052195</td>\n",
       "      <td>0.749260</td>\n",
       "      <td>0.615122</td>\n",
       "      <td>0.995382</td>\n",
       "      <td>0.753356</td>\n",
       "      <td>0.791409</td>\n",
       "    </tr>\n",
       "    <tr>\n",
       "      <th>temperature_2m_min (°C)</th>\n",
       "      <td>0.994112</td>\n",
       "      <td>1.000000</td>\n",
       "      <td>0.297827</td>\n",
       "      <td>0.505438</td>\n",
       "      <td>0.918108</td>\n",
       "      <td>0.946526</td>\n",
       "      <td>0.066828</td>\n",
       "      <td>0.751434</td>\n",
       "      <td>0.639464</td>\n",
       "      <td>0.995666</td>\n",
       "      <td>0.714028</td>\n",
       "      <td>0.786810</td>\n",
       "    </tr>\n",
       "    <tr>\n",
       "      <th>precipitation_sum (mm)</th>\n",
       "      <td>0.253957</td>\n",
       "      <td>0.297827</td>\n",
       "      <td>1.000000</td>\n",
       "      <td>0.723810</td>\n",
       "      <td>0.238256</td>\n",
       "      <td>0.288118</td>\n",
       "      <td>0.159800</td>\n",
       "      <td>0.233512</td>\n",
       "      <td>0.261587</td>\n",
       "      <td>0.286026</td>\n",
       "      <td>-0.052457</td>\n",
       "      <td>0.278058</td>\n",
       "    </tr>\n",
       "    <tr>\n",
       "      <th>precipitation_hours (h)</th>\n",
       "      <td>0.452209</td>\n",
       "      <td>0.505438</td>\n",
       "      <td>0.723810</td>\n",
       "      <td>1.000000</td>\n",
       "      <td>0.407671</td>\n",
       "      <td>0.478178</td>\n",
       "      <td>0.227906</td>\n",
       "      <td>0.392397</td>\n",
       "      <td>0.411143</td>\n",
       "      <td>0.484563</td>\n",
       "      <td>0.004290</td>\n",
       "      <td>0.458503</td>\n",
       "    </tr>\n",
       "    <tr>\n",
       "      <th>windspeed_10m_max (km/h)</th>\n",
       "      <td>0.929717</td>\n",
       "      <td>0.918108</td>\n",
       "      <td>0.238256</td>\n",
       "      <td>0.407671</td>\n",
       "      <td>1.000000</td>\n",
       "      <td>0.975599</td>\n",
       "      <td>0.093543</td>\n",
       "      <td>0.699807</td>\n",
       "      <td>0.453313</td>\n",
       "      <td>0.912634</td>\n",
       "      <td>0.696278</td>\n",
       "      <td>0.842071</td>\n",
       "    </tr>\n",
       "    <tr>\n",
       "      <th>windgusts_10m_max (km/h)</th>\n",
       "      <td>0.950530</td>\n",
       "      <td>0.946526</td>\n",
       "      <td>0.288118</td>\n",
       "      <td>0.478178</td>\n",
       "      <td>0.975599</td>\n",
       "      <td>1.000000</td>\n",
       "      <td>0.116340</td>\n",
       "      <td>0.717832</td>\n",
       "      <td>0.506652</td>\n",
       "      <td>0.938454</td>\n",
       "      <td>0.680252</td>\n",
       "      <td>0.845446</td>\n",
       "    </tr>\n",
       "    <tr>\n",
       "      <th>Label</th>\n",
       "      <td>0.052195</td>\n",
       "      <td>0.066828</td>\n",
       "      <td>0.159800</td>\n",
       "      <td>0.227906</td>\n",
       "      <td>0.093543</td>\n",
       "      <td>0.116340</td>\n",
       "      <td>1.000000</td>\n",
       "      <td>0.051413</td>\n",
       "      <td>0.094634</td>\n",
       "      <td>0.068101</td>\n",
       "      <td>-0.011460</td>\n",
       "      <td>0.118796</td>\n",
       "    </tr>\n",
       "    <tr>\n",
       "      <th>Day</th>\n",
       "      <td>0.749260</td>\n",
       "      <td>0.751434</td>\n",
       "      <td>0.233512</td>\n",
       "      <td>0.392397</td>\n",
       "      <td>0.699807</td>\n",
       "      <td>0.717832</td>\n",
       "      <td>0.051413</td>\n",
       "      <td>1.000000</td>\n",
       "      <td>0.499196</td>\n",
       "      <td>0.752499</td>\n",
       "      <td>0.547518</td>\n",
       "      <td>0.619673</td>\n",
       "    </tr>\n",
       "    <tr>\n",
       "      <th>Month</th>\n",
       "      <td>0.615122</td>\n",
       "      <td>0.639464</td>\n",
       "      <td>0.261587</td>\n",
       "      <td>0.411143</td>\n",
       "      <td>0.453313</td>\n",
       "      <td>0.506652</td>\n",
       "      <td>0.094634</td>\n",
       "      <td>0.499196</td>\n",
       "      <td>1.000000</td>\n",
       "      <td>0.656562</td>\n",
       "      <td>0.341894</td>\n",
       "      <td>0.121300</td>\n",
       "    </tr>\n",
       "    <tr>\n",
       "      <th>Year</th>\n",
       "      <td>0.995382</td>\n",
       "      <td>0.995666</td>\n",
       "      <td>0.286026</td>\n",
       "      <td>0.484563</td>\n",
       "      <td>0.912634</td>\n",
       "      <td>0.938454</td>\n",
       "      <td>0.068101</td>\n",
       "      <td>0.752499</td>\n",
       "      <td>0.656562</td>\n",
       "      <td>1.000000</td>\n",
       "      <td>0.749803</td>\n",
       "      <td>0.759365</td>\n",
       "    </tr>\n",
       "    <tr>\n",
       "      <th>sunrise_minutes</th>\n",
       "      <td>0.753356</td>\n",
       "      <td>0.714028</td>\n",
       "      <td>-0.052457</td>\n",
       "      <td>0.004290</td>\n",
       "      <td>0.696278</td>\n",
       "      <td>0.680252</td>\n",
       "      <td>-0.011460</td>\n",
       "      <td>0.547518</td>\n",
       "      <td>0.341894</td>\n",
       "      <td>0.749803</td>\n",
       "      <td>1.000000</td>\n",
       "      <td>0.508965</td>\n",
       "    </tr>\n",
       "    <tr>\n",
       "      <th>sunset_minutes</th>\n",
       "      <td>0.791409</td>\n",
       "      <td>0.786810</td>\n",
       "      <td>0.278058</td>\n",
       "      <td>0.458503</td>\n",
       "      <td>0.842071</td>\n",
       "      <td>0.845446</td>\n",
       "      <td>0.118796</td>\n",
       "      <td>0.619673</td>\n",
       "      <td>0.121300</td>\n",
       "      <td>0.759365</td>\n",
       "      <td>0.508965</td>\n",
       "      <td>1.000000</td>\n",
       "    </tr>\n",
       "  </tbody>\n",
       "</table>\n",
       "</div>"
      ],
      "text/plain": [
       "                          temperature_2m_max (°C)  temperature_2m_min (°C)  \\\n",
       "temperature_2m_max (°C)                  1.000000                 0.994112   \n",
       "temperature_2m_min (°C)                  0.994112                 1.000000   \n",
       "precipitation_sum (mm)                   0.253957                 0.297827   \n",
       "precipitation_hours (h)                  0.452209                 0.505438   \n",
       "windspeed_10m_max (km/h)                 0.929717                 0.918108   \n",
       "windgusts_10m_max (km/h)                 0.950530                 0.946526   \n",
       "Label                                    0.052195                 0.066828   \n",
       "Day                                      0.749260                 0.751434   \n",
       "Month                                    0.615122                 0.639464   \n",
       "Year                                     0.995382                 0.995666   \n",
       "sunrise_minutes                          0.753356                 0.714028   \n",
       "sunset_minutes                           0.791409                 0.786810   \n",
       "\n",
       "                          precipitation_sum (mm)  precipitation_hours (h)  \\\n",
       "temperature_2m_max (°C)                 0.253957                 0.452209   \n",
       "temperature_2m_min (°C)                 0.297827                 0.505438   \n",
       "precipitation_sum (mm)                  1.000000                 0.723810   \n",
       "precipitation_hours (h)                 0.723810                 1.000000   \n",
       "windspeed_10m_max (km/h)                0.238256                 0.407671   \n",
       "windgusts_10m_max (km/h)                0.288118                 0.478178   \n",
       "Label                                   0.159800                 0.227906   \n",
       "Day                                     0.233512                 0.392397   \n",
       "Month                                   0.261587                 0.411143   \n",
       "Year                                    0.286026                 0.484563   \n",
       "sunrise_minutes                        -0.052457                 0.004290   \n",
       "sunset_minutes                          0.278058                 0.458503   \n",
       "\n",
       "                          windspeed_10m_max (km/h)  windgusts_10m_max (km/h)  \\\n",
       "temperature_2m_max (°C)                   0.929717                  0.950530   \n",
       "temperature_2m_min (°C)                   0.918108                  0.946526   \n",
       "precipitation_sum (mm)                    0.238256                  0.288118   \n",
       "precipitation_hours (h)                   0.407671                  0.478178   \n",
       "windspeed_10m_max (km/h)                  1.000000                  0.975599   \n",
       "windgusts_10m_max (km/h)                  0.975599                  1.000000   \n",
       "Label                                     0.093543                  0.116340   \n",
       "Day                                       0.699807                  0.717832   \n",
       "Month                                     0.453313                  0.506652   \n",
       "Year                                      0.912634                  0.938454   \n",
       "sunrise_minutes                           0.696278                  0.680252   \n",
       "sunset_minutes                            0.842071                  0.845446   \n",
       "\n",
       "                             Label       Day     Month      Year  \\\n",
       "temperature_2m_max (°C)   0.052195  0.749260  0.615122  0.995382   \n",
       "temperature_2m_min (°C)   0.066828  0.751434  0.639464  0.995666   \n",
       "precipitation_sum (mm)    0.159800  0.233512  0.261587  0.286026   \n",
       "precipitation_hours (h)   0.227906  0.392397  0.411143  0.484563   \n",
       "windspeed_10m_max (km/h)  0.093543  0.699807  0.453313  0.912634   \n",
       "windgusts_10m_max (km/h)  0.116340  0.717832  0.506652  0.938454   \n",
       "Label                     1.000000  0.051413  0.094634  0.068101   \n",
       "Day                       0.051413  1.000000  0.499196  0.752499   \n",
       "Month                     0.094634  0.499196  1.000000  0.656562   \n",
       "Year                      0.068101  0.752499  0.656562  1.000000   \n",
       "sunrise_minutes          -0.011460  0.547518  0.341894  0.749803   \n",
       "sunset_minutes            0.118796  0.619673  0.121300  0.759365   \n",
       "\n",
       "                          sunrise_minutes  sunset_minutes  \n",
       "temperature_2m_max (°C)          0.753356        0.791409  \n",
       "temperature_2m_min (°C)          0.714028        0.786810  \n",
       "precipitation_sum (mm)          -0.052457        0.278058  \n",
       "precipitation_hours (h)          0.004290        0.458503  \n",
       "windspeed_10m_max (km/h)         0.696278        0.842071  \n",
       "windgusts_10m_max (km/h)         0.680252        0.845446  \n",
       "Label                           -0.011460        0.118796  \n",
       "Day                              0.547518        0.619673  \n",
       "Month                            0.341894        0.121300  \n",
       "Year                             0.749803        0.759365  \n",
       "sunrise_minutes                  1.000000        0.508965  \n",
       "sunset_minutes                   0.508965        1.000000  "
      ]
     },
     "execution_count": 149,
     "metadata": {},
     "output_type": "execute_result"
    }
   ],
   "source": [
    "df_weather.corr()"
   ]
  },
  {
   "cell_type": "code",
   "execution_count": 150,
   "metadata": {},
   "outputs": [],
   "source": [
    "df_weather.drop(['temperature_2m_max (°C)', 'Year', 'windspeed_10m_max (km/h)'], axis=1, inplace=True)"
   ]
  },
  {
   "cell_type": "markdown",
   "metadata": {},
   "source": [
    "#### Droped 'temperature_2m_max (°C)', 'Year', 'windspeed_10m_max (km/h)', 'rain_sum (mm)', 'sunrise_hour', 'sunset_hour'"
   ]
  },
  {
   "cell_type": "code",
   "execution_count": 151,
   "metadata": {},
   "outputs": [
    {
     "data": {
      "text/html": [
       "<div>\n",
       "<style scoped>\n",
       "    .dataframe tbody tr th:only-of-type {\n",
       "        vertical-align: middle;\n",
       "    }\n",
       "\n",
       "    .dataframe tbody tr th {\n",
       "        vertical-align: top;\n",
       "    }\n",
       "\n",
       "    .dataframe thead th {\n",
       "        text-align: right;\n",
       "    }\n",
       "</style>\n",
       "<table border=\"1\" class=\"dataframe\">\n",
       "  <thead>\n",
       "    <tr style=\"text-align: right;\">\n",
       "      <th></th>\n",
       "      <th>temperature_2m_min (°C)</th>\n",
       "      <th>precipitation_sum (mm)</th>\n",
       "      <th>precipitation_hours (h)</th>\n",
       "      <th>windgusts_10m_max (km/h)</th>\n",
       "      <th>Label</th>\n",
       "      <th>Day</th>\n",
       "      <th>Month</th>\n",
       "      <th>sunrise_minutes</th>\n",
       "      <th>sunset_minutes</th>\n",
       "    </tr>\n",
       "  </thead>\n",
       "  <tbody>\n",
       "    <tr>\n",
       "      <th>1</th>\n",
       "      <td>19.0</td>\n",
       "      <td>0.0</td>\n",
       "      <td>0</td>\n",
       "      <td>30.2</td>\n",
       "      <td>0</td>\n",
       "      <td>2</td>\n",
       "      <td>1</td>\n",
       "      <td>39</td>\n",
       "      <td>17</td>\n",
       "    </tr>\n",
       "    <tr>\n",
       "      <th>2</th>\n",
       "      <td>20.5</td>\n",
       "      <td>0.0</td>\n",
       "      <td>0</td>\n",
       "      <td>30.6</td>\n",
       "      <td>0</td>\n",
       "      <td>3</td>\n",
       "      <td>1</td>\n",
       "      <td>40</td>\n",
       "      <td>17</td>\n",
       "    </tr>\n",
       "    <tr>\n",
       "      <th>3</th>\n",
       "      <td>20.6</td>\n",
       "      <td>0.2</td>\n",
       "      <td>2</td>\n",
       "      <td>30.6</td>\n",
       "      <td>0</td>\n",
       "      <td>4</td>\n",
       "      <td>1</td>\n",
       "      <td>40</td>\n",
       "      <td>18</td>\n",
       "    </tr>\n",
       "    <tr>\n",
       "      <th>4</th>\n",
       "      <td>19.7</td>\n",
       "      <td>0.0</td>\n",
       "      <td>0</td>\n",
       "      <td>27.0</td>\n",
       "      <td>0</td>\n",
       "      <td>5</td>\n",
       "      <td>1</td>\n",
       "      <td>40</td>\n",
       "      <td>18</td>\n",
       "    </tr>\n",
       "    <tr>\n",
       "      <th>5</th>\n",
       "      <td>19.8</td>\n",
       "      <td>0.0</td>\n",
       "      <td>0</td>\n",
       "      <td>28.1</td>\n",
       "      <td>0</td>\n",
       "      <td>6</td>\n",
       "      <td>1</td>\n",
       "      <td>41</td>\n",
       "      <td>19</td>\n",
       "    </tr>\n",
       "    <tr>\n",
       "      <th>...</th>\n",
       "      <td>...</td>\n",
       "      <td>...</td>\n",
       "      <td>...</td>\n",
       "      <td>...</td>\n",
       "      <td>...</td>\n",
       "      <td>...</td>\n",
       "      <td>...</td>\n",
       "      <td>...</td>\n",
       "      <td>...</td>\n",
       "    </tr>\n",
       "    <tr>\n",
       "      <th>24010</th>\n",
       "      <td>23.8</td>\n",
       "      <td>1.4</td>\n",
       "      <td>5</td>\n",
       "      <td>31.7</td>\n",
       "      <td>1</td>\n",
       "      <td>26</td>\n",
       "      <td>9</td>\n",
       "      <td>12</td>\n",
       "      <td>19</td>\n",
       "    </tr>\n",
       "    <tr>\n",
       "      <th>24011</th>\n",
       "      <td>24.1</td>\n",
       "      <td>0.7</td>\n",
       "      <td>2</td>\n",
       "      <td>32.4</td>\n",
       "      <td>1</td>\n",
       "      <td>27</td>\n",
       "      <td>9</td>\n",
       "      <td>12</td>\n",
       "      <td>18</td>\n",
       "    </tr>\n",
       "    <tr>\n",
       "      <th>24012</th>\n",
       "      <td>24.2</td>\n",
       "      <td>2.2</td>\n",
       "      <td>11</td>\n",
       "      <td>30.6</td>\n",
       "      <td>1</td>\n",
       "      <td>28</td>\n",
       "      <td>9</td>\n",
       "      <td>12</td>\n",
       "      <td>18</td>\n",
       "    </tr>\n",
       "    <tr>\n",
       "      <th>24013</th>\n",
       "      <td>24.2</td>\n",
       "      <td>1.2</td>\n",
       "      <td>6</td>\n",
       "      <td>34.2</td>\n",
       "      <td>1</td>\n",
       "      <td>29</td>\n",
       "      <td>9</td>\n",
       "      <td>12</td>\n",
       "      <td>17</td>\n",
       "    </tr>\n",
       "    <tr>\n",
       "      <th>24014</th>\n",
       "      <td>24.0</td>\n",
       "      <td>1.3</td>\n",
       "      <td>7</td>\n",
       "      <td>32.0</td>\n",
       "      <td>1</td>\n",
       "      <td>30</td>\n",
       "      <td>9</td>\n",
       "      <td>12</td>\n",
       "      <td>17</td>\n",
       "    </tr>\n",
       "  </tbody>\n",
       "</table>\n",
       "<p>30396 rows × 9 columns</p>\n",
       "</div>"
      ],
      "text/plain": [
       "       temperature_2m_min (°C)  precipitation_sum (mm)  \\\n",
       "1                         19.0                     0.0   \n",
       "2                         20.5                     0.0   \n",
       "3                         20.6                     0.2   \n",
       "4                         19.7                     0.0   \n",
       "5                         19.8                     0.0   \n",
       "...                        ...                     ...   \n",
       "24010                     23.8                     1.4   \n",
       "24011                     24.1                     0.7   \n",
       "24012                     24.2                     2.2   \n",
       "24013                     24.2                     1.2   \n",
       "24014                     24.0                     1.3   \n",
       "\n",
       "       precipitation_hours (h)  windgusts_10m_max (km/h)  Label  Day  Month  \\\n",
       "1                            0                      30.2      0    2      1   \n",
       "2                            0                      30.6      0    3      1   \n",
       "3                            2                      30.6      0    4      1   \n",
       "4                            0                      27.0      0    5      1   \n",
       "5                            0                      28.1      0    6      1   \n",
       "...                        ...                       ...    ...  ...    ...   \n",
       "24010                        5                      31.7      1   26      9   \n",
       "24011                        2                      32.4      1   27      9   \n",
       "24012                       11                      30.6      1   28      9   \n",
       "24013                        6                      34.2      1   29      9   \n",
       "24014                        7                      32.0      1   30      9   \n",
       "\n",
       "       sunrise_minutes  sunset_minutes  \n",
       "1                   39              17  \n",
       "2                   40              17  \n",
       "3                   40              18  \n",
       "4                   40              18  \n",
       "5                   41              19  \n",
       "...                ...             ...  \n",
       "24010               12              19  \n",
       "24011               12              18  \n",
       "24012               12              18  \n",
       "24013               12              17  \n",
       "24014               12              17  \n",
       "\n",
       "[30396 rows x 9 columns]"
      ]
     },
     "execution_count": 151,
     "metadata": {},
     "output_type": "execute_result"
    }
   ],
   "source": [
    "df_weather"
   ]
  },
  {
   "cell_type": "code",
   "execution_count": 152,
   "metadata": {},
   "outputs": [],
   "source": [
    "X_comb = df_weather.drop(['Label'], axis=1)\n",
    "y_comb = df_weather['Label']"
   ]
  },
  {
   "cell_type": "code",
   "execution_count": 153,
   "metadata": {},
   "outputs": [],
   "source": [
    "# preparing models\n",
    "models = []\n",
    "\n",
    "models.append(('LR',LogisticRegression(random_state=42, max_iter=1000)))\n",
    "models.append(('KNNC',KNeighborsClassifier()))\n",
    "models.append(('GNB',GaussianNB()))\n",
    "models.append(('DTC',DecisionTreeClassifier()))\n",
    "models.append(('RFC',RandomForestClassifier()))\n",
    "models.append(('BC',BaggingClassifier()))\n",
    "models.append(('ABC',AdaBoostClassifier()))\n",
    "models.append(('GBC',GradientBoostingClassifier()))\n",
    "models.append(('XGBC',XGBClassifier(eval_metric='mlogloss')))"
   ]
  },
  {
   "cell_type": "code",
   "execution_count": 154,
   "metadata": {},
   "outputs": [
    {
     "name": "stdout",
     "output_type": "stream",
     "text": [
      "recall score of LR: 0.660000 (0.294364)\n",
      "recall score of KNNC: 0.620000 (0.069642)\n",
      "recall score of GNB: 0.915000 (0.135647)\n",
      "recall score of DTC: 0.885000 (0.230000)\n",
      "recall score of RFC: 1.000000 (0.000000)\n",
      "recall score of BC: 0.885000 (0.230000)\n",
      "recall score of ABC: 1.000000 (0.000000)\n",
      "recall score of GBC: 1.000000 (0.000000)\n"
     ]
    },
    {
     "name": "stderr",
     "output_type": "stream",
     "text": [
      "C:\\Users\\admin\\anaconda3\\lib\\site-packages\\xgboost\\sklearn.py:1224: UserWarning: The use of label encoder in XGBClassifier is deprecated and will be removed in a future release. To remove this warning, do the following: 1) Pass option use_label_encoder=False when constructing XGBClassifier object; and 2) Encode your labels (y) as integers starting with 0, i.e. 0, 1, 2, ..., [num_class - 1].\n",
      "  warnings.warn(label_encoder_deprecation_msg, UserWarning)\n",
      "C:\\Users\\admin\\anaconda3\\lib\\site-packages\\xgboost\\sklearn.py:1224: UserWarning: The use of label encoder in XGBClassifier is deprecated and will be removed in a future release. To remove this warning, do the following: 1) Pass option use_label_encoder=False when constructing XGBClassifier object; and 2) Encode your labels (y) as integers starting with 0, i.e. 0, 1, 2, ..., [num_class - 1].\n",
      "  warnings.warn(label_encoder_deprecation_msg, UserWarning)\n",
      "C:\\Users\\admin\\anaconda3\\lib\\site-packages\\xgboost\\sklearn.py:1224: UserWarning: The use of label encoder in XGBClassifier is deprecated and will be removed in a future release. To remove this warning, do the following: 1) Pass option use_label_encoder=False when constructing XGBClassifier object; and 2) Encode your labels (y) as integers starting with 0, i.e. 0, 1, 2, ..., [num_class - 1].\n",
      "  warnings.warn(label_encoder_deprecation_msg, UserWarning)\n",
      "C:\\Users\\admin\\anaconda3\\lib\\site-packages\\xgboost\\sklearn.py:1224: UserWarning: The use of label encoder in XGBClassifier is deprecated and will be removed in a future release. To remove this warning, do the following: 1) Pass option use_label_encoder=False when constructing XGBClassifier object; and 2) Encode your labels (y) as integers starting with 0, i.e. 0, 1, 2, ..., [num_class - 1].\n",
      "  warnings.warn(label_encoder_deprecation_msg, UserWarning)\n",
      "C:\\Users\\admin\\anaconda3\\lib\\site-packages\\xgboost\\sklearn.py:1224: UserWarning: The use of label encoder in XGBClassifier is deprecated and will be removed in a future release. To remove this warning, do the following: 1) Pass option use_label_encoder=False when constructing XGBClassifier object; and 2) Encode your labels (y) as integers starting with 0, i.e. 0, 1, 2, ..., [num_class - 1].\n",
      "  warnings.warn(label_encoder_deprecation_msg, UserWarning)\n"
     ]
    },
    {
     "name": "stdout",
     "output_type": "stream",
     "text": [
      "recall score of XGBC: 0.980000 (0.040000)\n"
     ]
    }
   ],
   "source": [
    "recall_results = []\n",
    "names = []\n",
    "scoring = 'recall'\n",
    "for name, model in models:  \n",
    "    pipeline = Pipeline(steps=[['scaler', StandardScaler()],\n",
    "                               ['model', model]])\n",
    "    #kfold = RepeatedStratifiedKFold(n_splits=3, n_repeats=3, random_state=42)\n",
    "    cv_result = cross_val_score(pipeline, X_comb, y_comb, scoring=scoring, cv=5)\n",
    "    recall_results.append(cv_result)\n",
    "    names.append(name)\n",
    "    msg = \"%s score of %s: %f (%f)\" %(scoring, name, cv_result.mean(), cv_result.std())\n",
    "    print(msg)"
   ]
  },
  {
   "cell_type": "code",
   "execution_count": 155,
   "metadata": {},
   "outputs": [
    {
     "data": {
      "image/png": "[encoded data removed]",
      "text/plain": [
       "<Figure size 432x288 with 1 Axes>"
      ]
     },
     "metadata": {
      "needs_background": "light"
     },
     "output_type": "display_data"
    }
   ],
   "source": [
    "# algorithm comparison by f1 score\n",
    "fig = plt.figure()\n",
    "fig.suptitle('Algorithm Comparison (recall score)')\n",
    "ax = fig.add_subplot(111)\n",
    "plt.boxplot(recall_results)\n",
    "ax.set_xticklabels(names)\n",
    "plt.xlabel('Algorithm')\n",
    "plt.ylabel('recall score')\n",
    "plt.show()"
   ]
  },
  {
   "cell_type": "code",
   "execution_count": 129,
   "metadata": {},
   "outputs": [
    {
     "name": "stdout",
     "output_type": "stream",
     "text": [
      "f1 score of LR: 0.712122 (0.288074)\n",
      "f1 score of KNNC: 0.733156 (0.025968)\n",
      "f1 score of GNB: 0.513379 (0.161187)\n",
      "f1 score of DTC: 0.802363 (0.395274)\n",
      "f1 score of RFC: 0.884768 (0.230464)\n",
      "f1 score of BC: 0.802215 (0.395570)\n",
      "f1 score of ABC: 1.000000 (0.000000)\n",
      "f1 score of GBC: 0.800000 (0.400000)\n"
     ]
    },
    {
     "name": "stderr",
     "output_type": "stream",
     "text": [
      "C:\\Users\\admin\\anaconda3\\lib\\site-packages\\xgboost\\sklearn.py:1224: UserWarning: The use of label encoder in XGBClassifier is deprecated and will be removed in a future release. To remove this warning, do the following: 1) Pass option use_label_encoder=False when constructing XGBClassifier object; and 2) Encode your labels (y) as integers starting with 0, i.e. 0, 1, 2, ..., [num_class - 1].\n",
      "  warnings.warn(label_encoder_deprecation_msg, UserWarning)\n",
      "C:\\Users\\admin\\anaconda3\\lib\\site-packages\\xgboost\\sklearn.py:1224: UserWarning: The use of label encoder in XGBClassifier is deprecated and will be removed in a future release. To remove this warning, do the following: 1) Pass option use_label_encoder=False when constructing XGBClassifier object; and 2) Encode your labels (y) as integers starting with 0, i.e. 0, 1, 2, ..., [num_class - 1].\n",
      "  warnings.warn(label_encoder_deprecation_msg, UserWarning)\n",
      "C:\\Users\\admin\\anaconda3\\lib\\site-packages\\xgboost\\sklearn.py:1224: UserWarning: The use of label encoder in XGBClassifier is deprecated and will be removed in a future release. To remove this warning, do the following: 1) Pass option use_label_encoder=False when constructing XGBClassifier object; and 2) Encode your labels (y) as integers starting with 0, i.e. 0, 1, 2, ..., [num_class - 1].\n",
      "  warnings.warn(label_encoder_deprecation_msg, UserWarning)\n",
      "C:\\Users\\admin\\anaconda3\\lib\\site-packages\\xgboost\\sklearn.py:1224: UserWarning: The use of label encoder in XGBClassifier is deprecated and will be removed in a future release. To remove this warning, do the following: 1) Pass option use_label_encoder=False when constructing XGBClassifier object; and 2) Encode your labels (y) as integers starting with 0, i.e. 0, 1, 2, ..., [num_class - 1].\n",
      "  warnings.warn(label_encoder_deprecation_msg, UserWarning)\n",
      "C:\\Users\\admin\\anaconda3\\lib\\site-packages\\xgboost\\sklearn.py:1224: UserWarning: The use of label encoder in XGBClassifier is deprecated and will be removed in a future release. To remove this warning, do the following: 1) Pass option use_label_encoder=False when constructing XGBClassifier object; and 2) Encode your labels (y) as integers starting with 0, i.e. 0, 1, 2, ..., [num_class - 1].\n",
      "  warnings.warn(label_encoder_deprecation_msg, UserWarning)\n"
     ]
    },
    {
     "name": "stdout",
     "output_type": "stream",
     "text": [
      "f1 score of XGBC: 0.861538 (0.276923)\n"
     ]
    }
   ],
   "source": [
    "f1_results = []\n",
    "names = []\n",
    "scoring = 'f1'\n",
    "for name, model in models:  \n",
    "    pipeline = Pipeline(steps=[['scaler', StandardScaler()],\n",
    "                               ['model', model]])\n",
    "    #kfold = RepeatedStratifiedKFold(n_splits=3, n_repeats=3, random_state=42)\n",
    "    cv_result = cross_val_score(pipeline, X_comb, y_comb, scoring=scoring, cv=5)\n",
    "    f1_results.append(cv_result)\n",
    "    names.append(name)\n",
    "    msg = \"%s score of %s: %f (%f)\" %(scoring, name, cv_result.mean(), cv_result.std())\n",
    "    print(msg)"
   ]
  },
  {
   "cell_type": "code",
   "execution_count": 130,
   "metadata": {},
   "outputs": [
    {
     "data": {
      "image/png": "[encoded data removed]",
      "text/plain": [
       "<Figure size 432x288 with 1 Axes>"
      ]
     },
     "metadata": {
      "needs_background": "light"
     },
     "output_type": "display_data"
    }
   ],
   "source": [
    "# algorithm comparison by f1 score\n",
    "fig = plt.figure()\n",
    "fig.suptitle('Algorithm Comparison (f1 score)')\n",
    "ax = fig.add_subplot(111)\n",
    "plt.boxplot(f1_results)\n",
    "ax.set_xticklabels(names)\n",
    "plt.xlabel('Algorithm')\n",
    "plt.ylabel('f1 score')\n",
    "plt.show()"
   ]
  },
  {
   "cell_type": "code",
   "execution_count": 131,
   "metadata": {},
   "outputs": [
    {
     "name": "stdout",
     "output_type": "stream",
     "text": [
      "accuracy score of LR: 0.996315 (0.004243)\n",
      "accuracy score of KNNC: 0.997204 (0.000233)\n",
      "accuracy score of GNB: 0.985129 (0.008408)\n",
      "accuracy score of DTC: 0.917618 (0.164764)\n",
      "accuracy score of RFC: 0.997796 (0.004088)\n",
      "accuracy score of BC: 0.917750 (0.164501)\n",
      "accuracy score of ABC: 1.000000 (0.000000)\n",
      "accuracy score of GBC: 0.919131 (0.161737)\n"
     ]
    },
    {
     "name": "stderr",
     "output_type": "stream",
     "text": [
      "C:\\Users\\admin\\anaconda3\\lib\\site-packages\\xgboost\\sklearn.py:1224: UserWarning: The use of label encoder in XGBClassifier is deprecated and will be removed in a future release. To remove this warning, do the following: 1) Pass option use_label_encoder=False when constructing XGBClassifier object; and 2) Encode your labels (y) as integers starting with 0, i.e. 0, 1, 2, ..., [num_class - 1].\n",
      "  warnings.warn(label_encoder_deprecation_msg, UserWarning)\n",
      "C:\\Users\\admin\\anaconda3\\lib\\site-packages\\xgboost\\sklearn.py:1224: UserWarning: The use of label encoder in XGBClassifier is deprecated and will be removed in a future release. To remove this warning, do the following: 1) Pass option use_label_encoder=False when constructing XGBClassifier object; and 2) Encode your labels (y) as integers starting with 0, i.e. 0, 1, 2, ..., [num_class - 1].\n",
      "  warnings.warn(label_encoder_deprecation_msg, UserWarning)\n",
      "C:\\Users\\admin\\anaconda3\\lib\\site-packages\\xgboost\\sklearn.py:1224: UserWarning: The use of label encoder in XGBClassifier is deprecated and will be removed in a future release. To remove this warning, do the following: 1) Pass option use_label_encoder=False when constructing XGBClassifier object; and 2) Encode your labels (y) as integers starting with 0, i.e. 0, 1, 2, ..., [num_class - 1].\n",
      "  warnings.warn(label_encoder_deprecation_msg, UserWarning)\n",
      "C:\\Users\\admin\\anaconda3\\lib\\site-packages\\xgboost\\sklearn.py:1224: UserWarning: The use of label encoder in XGBClassifier is deprecated and will be removed in a future release. To remove this warning, do the following: 1) Pass option use_label_encoder=False when constructing XGBClassifier object; and 2) Encode your labels (y) as integers starting with 0, i.e. 0, 1, 2, ..., [num_class - 1].\n",
      "  warnings.warn(label_encoder_deprecation_msg, UserWarning)\n",
      "C:\\Users\\admin\\anaconda3\\lib\\site-packages\\xgboost\\sklearn.py:1224: UserWarning: The use of label encoder in XGBClassifier is deprecated and will be removed in a future release. To remove this warning, do the following: 1) Pass option use_label_encoder=False when constructing XGBClassifier object; and 2) Encode your labels (y) as integers starting with 0, i.e. 0, 1, 2, ..., [num_class - 1].\n",
      "  warnings.warn(label_encoder_deprecation_msg, UserWarning)\n"
     ]
    },
    {
     "name": "stdout",
     "output_type": "stream",
     "text": [
      "accuracy score of XGBC: 0.997335 (0.005330)\n"
     ]
    }
   ],
   "source": [
    "acc_results = []\n",
    "names = []\n",
    "scoring = 'accuracy'\n",
    "for name, model in models:  \n",
    "    pipeline = Pipeline(steps=[['scaler', StandardScaler()],\n",
    "                               ['model', model]])\n",
    "    #kfold = RepeatedStratifiedKFold(n_splits=3, n_repeats=3, random_state=42)\n",
    "    cv_result = cross_val_score(pipeline, X_comb, y_comb, scoring=scoring, cv=5)\n",
    "    acc_results.append(cv_result)\n",
    "    names.append(name)\n",
    "    msg = \"%s score of %s: %f (%f)\" %(scoring, name, cv_result.mean(), cv_result.std())\n",
    "    print(msg)"
   ]
  },
  {
   "cell_type": "code",
   "execution_count": 132,
   "metadata": {},
   "outputs": [
    {
     "data": {
      "image/png": "[encoded data removed]",
      "text/plain": [
       "<Figure size 432x288 with 1 Axes>"
      ]
     },
     "metadata": {
      "needs_background": "light"
     },
     "output_type": "display_data"
    }
   ],
   "source": [
    "# algorithm comparison by f1 score\n",
    "fig = plt.figure()\n",
    "fig.suptitle('Algorithm Comparison (accuracy score)')\n",
    "ax = fig.add_subplot(111)\n",
    "plt.boxplot(acc_results)\n",
    "ax.set_xticklabels(names)\n",
    "plt.xlabel('Algorithm')\n",
    "plt.ylabel('accuracy score')\n",
    "plt.show()"
   ]
  },
  {
   "cell_type": "code",
   "execution_count": 156,
   "metadata": {},
   "outputs": [],
   "source": [
    "X_train, X_test, y_train, y_test = train_test_split(X_comb, y_comb, test_size=0.20, random_state=1, stratify=y_comb)"
   ]
  },
  {
   "cell_type": "code",
   "execution_count": 93,
   "metadata": {},
   "outputs": [],
   "source": [
    "#sm_comb = SMOTE()\n",
    "#X_train_sm, y_train_sm = sm_comb.fit_resample(X_train, y_train)\n",
    "\n",
    "#print(Counter(y_train))\n",
    "#print(Counter(y_train_sm))"
   ]
  },
  {
   "cell_type": "code",
   "execution_count": 94,
   "metadata": {},
   "outputs": [],
   "source": [
    "#X_train_sm"
   ]
  },
  {
   "cell_type": "code",
   "execution_count": 134,
   "metadata": {},
   "outputs": [
    {
     "data": {
      "text/plain": [
       "0.006580029610133245"
      ]
     },
     "execution_count": 134,
     "metadata": {},
     "output_type": "execute_result"
    }
   ],
   "source": [
    "len(y_train[y_train==1])/len(y_train)"
   ]
  },
  {
   "cell_type": "code",
   "execution_count": 135,
   "metadata": {},
   "outputs": [
    {
     "data": {
      "text/plain": [
       "0.006578947368421052"
      ]
     },
     "execution_count": 135,
     "metadata": {},
     "output_type": "execute_result"
    }
   ],
   "source": [
    "len(y_test[y_test==1])/len(y_test)"
   ]
  },
  {
   "cell_type": "code",
   "execution_count": 136,
   "metadata": {},
   "outputs": [
    {
     "data": {
      "text/plain": [
       "40"
      ]
     },
     "execution_count": 136,
     "metadata": {},
     "output_type": "execute_result"
    }
   ],
   "source": [
    "len(y_test[y_test==1])"
   ]
  },
  {
   "cell_type": "code",
   "execution_count": null,
   "metadata": {},
   "outputs": [],
   "source": []
  },
  {
   "cell_type": "code",
   "execution_count": 157,
   "metadata": {},
   "outputs": [],
   "source": [
    "sc_comb = StandardScaler()\n",
    "X_train_sc = sc_comb.fit_transform(X_train)"
   ]
  },
  {
   "cell_type": "code",
   "execution_count": 158,
   "metadata": {},
   "outputs": [],
   "source": [
    "sc_file = 's_scaler.pkl'\n",
    "with open(sc_file, 'wb') as file:\n",
    "    pickle.dump(sc_comb, file)"
   ]
  },
  {
   "cell_type": "code",
   "execution_count": 159,
   "metadata": {},
   "outputs": [
    {
     "name": "stderr",
     "output_type": "stream",
     "text": [
      "C:\\Users\\admin\\anaconda3\\lib\\site-packages\\xgboost\\sklearn.py:1224: UserWarning: The use of label encoder in XGBClassifier is deprecated and will be removed in a future release. To remove this warning, do the following: 1) Pass option use_label_encoder=False when constructing XGBClassifier object; and 2) Encode your labels (y) as integers starting with 0, i.e. 0, 1, 2, ..., [num_class - 1].\n",
      "  warnings.warn(label_encoder_deprecation_msg, UserWarning)\n"
     ]
    },
    {
     "data": {
      "text/plain": [
       "XGBClassifier(base_score=0.5, booster='gbtree', colsample_bylevel=1,\n",
       "              colsample_bynode=1, colsample_bytree=1, enable_categorical=False,\n",
       "              eval_metric='mlogloss', gamma=0, gpu_id=-1, importance_type=None,\n",
       "              interaction_constraints='', learning_rate=0.300000012,\n",
       "              max_delta_step=0, max_depth=6, min_child_weight=1, missing=nan,\n",
       "              monotone_constraints='()', n_estimators=100, n_jobs=8,\n",
       "              num_parallel_tree=1, predictor='auto', random_state=0,\n",
       "              reg_alpha=0, reg_lambda=1, scale_pos_weight=1, subsample=1,\n",
       "              tree_method='exact', validate_parameters=1, verbosity=None)"
      ]
     },
     "execution_count": 159,
     "metadata": {},
     "output_type": "execute_result"
    }
   ],
   "source": [
    "model_comb_xgb = XGBClassifier(eval_metric='mlogloss')\n",
    "model_comb_xgb.fit(X_train_sc, y_train)"
   ]
  },
  {
   "cell_type": "code",
   "execution_count": 160,
   "metadata": {},
   "outputs": [
    {
     "data": {
      "text/plain": [
       "1.0"
      ]
     },
     "execution_count": 160,
     "metadata": {},
     "output_type": "execute_result"
    }
   ],
   "source": [
    "model_comb_xgb.score(X_train_sc, y_train)"
   ]
  },
  {
   "cell_type": "markdown",
   "metadata": {},
   "source": [
    "### Evaluation on test data"
   ]
  },
  {
   "cell_type": "code",
   "execution_count": 161,
   "metadata": {},
   "outputs": [],
   "source": [
    "X_test_sc = sc_comb.transform(X_test)"
   ]
  },
  {
   "cell_type": "code",
   "execution_count": 162,
   "metadata": {},
   "outputs": [],
   "source": [
    "y_pred = model_comb_xgb.predict(X_test_sc)"
   ]
  },
  {
   "cell_type": "code",
   "execution_count": 163,
   "metadata": {},
   "outputs": [
    {
     "name": "stdout",
     "output_type": "stream",
     "text": [
      "              precision    recall  f1-score   support\n",
      "\n",
      "           0       1.00      1.00      1.00      6040\n",
      "           1       1.00      1.00      1.00        40\n",
      "\n",
      "    accuracy                           1.00      6080\n",
      "   macro avg       1.00      1.00      1.00      6080\n",
      "weighted avg       1.00      1.00      1.00      6080\n",
      "\n"
     ]
    }
   ],
   "source": [
    "print(classification_report(y_test, y_pred))"
   ]
  },
  {
   "cell_type": "code",
   "execution_count": 164,
   "metadata": {},
   "outputs": [
    {
     "data": {
      "text/plain": [
       "array([[6040,    0],\n",
       "       [   0,   40]], dtype=int64)"
      ]
     },
     "execution_count": 164,
     "metadata": {},
     "output_type": "execute_result"
    }
   ],
   "source": [
    "confusion_matrix(y_test, y_pred)"
   ]
  },
  {
   "cell_type": "code",
   "execution_count": 103,
   "metadata": {},
   "outputs": [
    {
     "data": {
      "text/plain": [
       "array([0, 0, 0, ..., 0, 0, 0], dtype=int64)"
      ]
     },
     "execution_count": 103,
     "metadata": {},
     "output_type": "execute_result"
    }
   ],
   "source": [
    "y_pred"
   ]
  },
  {
   "cell_type": "code",
   "execution_count": 111,
   "metadata": {},
   "outputs": [
    {
     "data": {
      "text/plain": [
       "6070"
      ]
     },
     "execution_count": 111,
     "metadata": {},
     "output_type": "execute_result"
    }
   ],
   "source": [
    "len(y_test[y_test==0])"
   ]
  },
  {
   "cell_type": "code",
   "execution_count": 165,
   "metadata": {},
   "outputs": [
    {
     "name": "stderr",
     "output_type": "stream",
     "text": [
      "C:\\Users\\admin\\anaconda3\\lib\\site-packages\\pandas\\core\\frame.py:3607: SettingWithCopyWarning: \n",
      "A value is trying to be set on a copy of a slice from a DataFrame.\n",
      "Try using .loc[row_indexer,col_indexer] = value instead\n",
      "\n",
      "See the caveats in the documentation: https://pandas.pydata.org/pandas-docs/stable/user_guide/indexing.html#returning-a-view-versus-a-copy\n",
      "  self._set_item(key, value)\n"
     ]
    }
   ],
   "source": [
    "X_test['Prediction'] = y_pred"
   ]
  },
  {
   "cell_type": "code",
   "execution_count": 166,
   "metadata": {},
   "outputs": [],
   "source": [
    "X_test['Label'] = y_test"
   ]
  },
  {
   "cell_type": "code",
   "execution_count": 167,
   "metadata": {},
   "outputs": [
    {
     "data": {
      "text/plain": [
       "6040"
      ]
     },
     "execution_count": 167,
     "metadata": {},
     "output_type": "execute_result"
    }
   ],
   "source": [
    "len(X_test.loc[X_test['Prediction']==0])"
   ]
  },
  {
   "cell_type": "code",
   "execution_count": 168,
   "metadata": {},
   "outputs": [
    {
     "data": {
      "text/html": [
       "<div>\n",
       "<style scoped>\n",
       "    .dataframe tbody tr th:only-of-type {\n",
       "        vertical-align: middle;\n",
       "    }\n",
       "\n",
       "    .dataframe tbody tr th {\n",
       "        vertical-align: top;\n",
       "    }\n",
       "\n",
       "    .dataframe thead th {\n",
       "        text-align: right;\n",
       "    }\n",
       "</style>\n",
       "<table border=\"1\" class=\"dataframe\">\n",
       "  <thead>\n",
       "    <tr style=\"text-align: right;\">\n",
       "      <th></th>\n",
       "      <th>temperature_2m_min (°C)</th>\n",
       "      <th>precipitation_sum (mm)</th>\n",
       "      <th>precipitation_hours (h)</th>\n",
       "      <th>windgusts_10m_max (km/h)</th>\n",
       "      <th>Day</th>\n",
       "      <th>Month</th>\n",
       "      <th>sunrise_minutes</th>\n",
       "      <th>sunset_minutes</th>\n",
       "      <th>Prediction</th>\n",
       "      <th>Label</th>\n",
       "    </tr>\n",
       "  </thead>\n",
       "  <tbody>\n",
       "    <tr>\n",
       "      <th>6120</th>\n",
       "      <td>0.0</td>\n",
       "      <td>0.0</td>\n",
       "      <td>0</td>\n",
       "      <td>0.0</td>\n",
       "      <td>0</td>\n",
       "      <td>0</td>\n",
       "      <td>0</td>\n",
       "      <td>0</td>\n",
       "      <td>0</td>\n",
       "      <td>0</td>\n",
       "    </tr>\n",
       "    <tr>\n",
       "      <th>24092</th>\n",
       "      <td>22.8</td>\n",
       "      <td>0.1</td>\n",
       "      <td>1</td>\n",
       "      <td>18.0</td>\n",
       "      <td>17</td>\n",
       "      <td>12</td>\n",
       "      <td>32</td>\n",
       "      <td>9</td>\n",
       "      <td>0</td>\n",
       "      <td>0</td>\n",
       "    </tr>\n",
       "    <tr>\n",
       "      <th>3048</th>\n",
       "      <td>23.6</td>\n",
       "      <td>26.4</td>\n",
       "      <td>18</td>\n",
       "      <td>27.7</td>\n",
       "      <td>6</td>\n",
       "      <td>5</td>\n",
       "      <td>5</td>\n",
       "      <td>37</td>\n",
       "      <td>0</td>\n",
       "      <td>0</td>\n",
       "    </tr>\n",
       "    <tr>\n",
       "      <th>11865</th>\n",
       "      <td>0.0</td>\n",
       "      <td>0.0</td>\n",
       "      <td>0</td>\n",
       "      <td>0.0</td>\n",
       "      <td>0</td>\n",
       "      <td>0</td>\n",
       "      <td>0</td>\n",
       "      <td>0</td>\n",
       "      <td>0</td>\n",
       "      <td>0</td>\n",
       "    </tr>\n",
       "    <tr>\n",
       "      <th>27438</th>\n",
       "      <td>24.1</td>\n",
       "      <td>0.7</td>\n",
       "      <td>2</td>\n",
       "      <td>26.6</td>\n",
       "      <td>14</td>\n",
       "      <td>2</td>\n",
       "      <td>43</td>\n",
       "      <td>34</td>\n",
       "      <td>0</td>\n",
       "      <td>0</td>\n",
       "    </tr>\n",
       "    <tr>\n",
       "      <th>...</th>\n",
       "      <td>...</td>\n",
       "      <td>...</td>\n",
       "      <td>...</td>\n",
       "      <td>...</td>\n",
       "      <td>...</td>\n",
       "      <td>...</td>\n",
       "      <td>...</td>\n",
       "      <td>...</td>\n",
       "      <td>...</td>\n",
       "      <td>...</td>\n",
       "    </tr>\n",
       "    <tr>\n",
       "      <th>13600</th>\n",
       "      <td>25.9</td>\n",
       "      <td>0.1</td>\n",
       "      <td>1</td>\n",
       "      <td>29.5</td>\n",
       "      <td>27</td>\n",
       "      <td>3</td>\n",
       "      <td>23</td>\n",
       "      <td>36</td>\n",
       "      <td>0</td>\n",
       "      <td>0</td>\n",
       "    </tr>\n",
       "    <tr>\n",
       "      <th>20854</th>\n",
       "      <td>24.0</td>\n",
       "      <td>0.0</td>\n",
       "      <td>0</td>\n",
       "      <td>23.8</td>\n",
       "      <td>4</td>\n",
       "      <td>2</td>\n",
       "      <td>45</td>\n",
       "      <td>32</td>\n",
       "      <td>0</td>\n",
       "      <td>0</td>\n",
       "    </tr>\n",
       "    <tr>\n",
       "      <th>12700</th>\n",
       "      <td>0.0</td>\n",
       "      <td>0.0</td>\n",
       "      <td>0</td>\n",
       "      <td>0.0</td>\n",
       "      <td>0</td>\n",
       "      <td>0</td>\n",
       "      <td>0</td>\n",
       "      <td>0</td>\n",
       "      <td>0</td>\n",
       "      <td>0</td>\n",
       "    </tr>\n",
       "    <tr>\n",
       "      <th>810</th>\n",
       "      <td>23.2</td>\n",
       "      <td>1.3</td>\n",
       "      <td>4</td>\n",
       "      <td>38.2</td>\n",
       "      <td>21</td>\n",
       "      <td>3</td>\n",
       "      <td>27</td>\n",
       "      <td>36</td>\n",
       "      <td>0</td>\n",
       "      <td>0</td>\n",
       "    </tr>\n",
       "    <tr>\n",
       "      <th>23221</th>\n",
       "      <td>0.0</td>\n",
       "      <td>0.0</td>\n",
       "      <td>0</td>\n",
       "      <td>0.0</td>\n",
       "      <td>0</td>\n",
       "      <td>0</td>\n",
       "      <td>0</td>\n",
       "      <td>0</td>\n",
       "      <td>0</td>\n",
       "      <td>0</td>\n",
       "    </tr>\n",
       "  </tbody>\n",
       "</table>\n",
       "<p>6080 rows × 10 columns</p>\n",
       "</div>"
      ],
      "text/plain": [
       "       temperature_2m_min (°C)  precipitation_sum (mm)  \\\n",
       "6120                       0.0                     0.0   \n",
       "24092                     22.8                     0.1   \n",
       "3048                      23.6                    26.4   \n",
       "11865                      0.0                     0.0   \n",
       "27438                     24.1                     0.7   \n",
       "...                        ...                     ...   \n",
       "13600                     25.9                     0.1   \n",
       "20854                     24.0                     0.0   \n",
       "12700                      0.0                     0.0   \n",
       "810                       23.2                     1.3   \n",
       "23221                      0.0                     0.0   \n",
       "\n",
       "       precipitation_hours (h)  windgusts_10m_max (km/h)  Day  Month  \\\n",
       "6120                         0                       0.0    0      0   \n",
       "24092                        1                      18.0   17     12   \n",
       "3048                        18                      27.7    6      5   \n",
       "11865                        0                       0.0    0      0   \n",
       "27438                        2                      26.6   14      2   \n",
       "...                        ...                       ...  ...    ...   \n",
       "13600                        1                      29.5   27      3   \n",
       "20854                        0                      23.8    4      2   \n",
       "12700                        0                       0.0    0      0   \n",
       "810                          4                      38.2   21      3   \n",
       "23221                        0                       0.0    0      0   \n",
       "\n",
       "       sunrise_minutes  sunset_minutes  Prediction  Label  \n",
       "6120                 0               0           0      0  \n",
       "24092               32               9           0      0  \n",
       "3048                 5              37           0      0  \n",
       "11865                0               0           0      0  \n",
       "27438               43              34           0      0  \n",
       "...                ...             ...         ...    ...  \n",
       "13600               23              36           0      0  \n",
       "20854               45              32           0      0  \n",
       "12700                0               0           0      0  \n",
       "810                 27              36           0      0  \n",
       "23221                0               0           0      0  \n",
       "\n",
       "[6080 rows x 10 columns]"
      ]
     },
     "execution_count": 168,
     "metadata": {},
     "output_type": "execute_result"
    }
   ],
   "source": [
    "X_test.loc[(X_test['Prediction']==0) | (X_test['Label']==1)]"
   ]
  },
  {
   "cell_type": "code",
   "execution_count": 169,
   "metadata": {},
   "outputs": [
    {
     "data": {
      "text/plain": [
       "(6080, 10)"
      ]
     },
     "execution_count": 169,
     "metadata": {},
     "output_type": "execute_result"
    }
   ],
   "source": [
    "X_test.shape"
   ]
  },
  {
   "cell_type": "code",
   "execution_count": 170,
   "metadata": {},
   "outputs": [],
   "source": [
    "dump_file = open('flood_model.pkl', \"wb\")\n",
    "pickle.dump(model_comb_xgb, dump_file)\n",
    "dump_file.close()"
   ]
  },
  {
   "cell_type": "code",
   "execution_count": null,
   "metadata": {},
   "outputs": [],
   "source": []
  }
 ],
 "metadata": {
  "kernelspec": {
   "display_name": "Python 3",
   "language": "python",
   "name": "python3"
  },
  "language_info": {
   "codemirror_mode": {
    "name": "ipython",
    "version": 3
   },
   "file_extension": ".py",
   "mimetype": "text/x-python",
   "name": "python",
   "nbconvert_exporter": "python",
   "pygments_lexer": "ipython3",
   "version": "3.7.7"
  }
 },
 "nbformat": 4,
 "nbformat_minor": 4
}
